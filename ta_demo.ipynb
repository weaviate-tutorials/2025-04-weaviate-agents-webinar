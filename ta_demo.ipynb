{
 "cells": [
  {
   "cell_type": "markdown",
   "id": "a18ee673",
   "metadata": {},
   "source": [
    "# Transformation Agent Demo"
   ]
  },
  {
   "cell_type": "markdown",
   "id": "f1b3829f",
   "metadata": {},
   "source": [
    "## Connect to the Weaviate Cloud instance\n",
    "\n",
    "> Reminder: Weaviate Agents are only available for Weaviate Cloud instances.\n",
    "\n",
    "Connect to your Weaviate instance, using credentials from the Weaviate Cloud console. Here, they are loaded from the `.env` file."
   ]
  },
  {
   "cell_type": "code",
   "execution_count": null,
   "id": "a2a7a61f",
   "metadata": {},
   "outputs": [],
   "source": [
    "import weaviate\n",
    "from weaviate.classes.init import Auth\n",
    "import os\n",
    "from dotenv import load_dotenv\n",
    "\n",
    "weaviate_url = os.getenv(\"WEAVIATE_URL\")\n",
    "weaviate_key = os.getenv(\"WEAVIATE_API_KEY\")\n",
    "load_dotenv()\n",
    "\n",
    "client = weaviate.connect_to_weaviate_cloud(\n",
    "    cluster_url=weaviate_url, auth_credentials=Auth.api_key(weaviate_key)\n",
    ")"
   ]
  },
  {
   "cell_type": "markdown",
   "id": "e1496c78",
   "metadata": {},
   "source": [
    "### Inspect the current collection config"
   ]
  },
  {
   "cell_type": "code",
   "execution_count": null,
   "id": "ce7d12c6",
   "metadata": {},
   "outputs": [],
   "source": [
    "from helpers import TA_DEMO_COLLECTION\n",
    "\n",
    "collection = client.collections.get(TA_DEMO_COLLECTION)\n",
    "\n",
    "print(\"Currently existing properties:\\n\")\n",
    "for p in collection.config.get().properties:\n",
    "    print(f\"Property: {p.name}\")"
   ]
  },
  {
   "cell_type": "markdown",
   "id": "cb29434b",
   "metadata": {},
   "source": [
    "## How to use the TA\n",
    "\n",
    "First, define the operation for the TA to perform:"
   ]
  },
  {
   "cell_type": "code",
   "execution_count": null,
   "id": "efc28f46",
   "metadata": {},
   "outputs": [],
   "source": [
    "from weaviate.classes.config import DataType\n",
    "from weaviate.agents.classes import Operations\n",
    "\n",
    "add_technical_complexity = Operations.append_property(\n",
    "    property_name=\"technicalComplexity\",\n",
    "    data_type=DataType.INT,\n",
    "    view_properties=[\"conversation\"],\n",
    "    instruction=\"\"\"\n",
    "    Rate the technical complexity of the user's forum post query\n",
    "    on a scale from 1 to 5, where 1 is very simple and 5 is very complex.\n",
    "    \"\"\",\n",
    ")"
   ]
  },
  {
   "cell_type": "markdown",
   "id": "96e542ac",
   "metadata": {},
   "source": [
    "In fact - you can define as many operations as you would like."
   ]
  },
  {
   "cell_type": "code",
   "execution_count": null,
   "id": "5ef6bfe5",
   "metadata": {},
   "outputs": [],
   "source": [
    "from helpers import TECHNICAL_DOMAIN_CATEGORIES, ROOT_CAUSE_CATEGORIES, ACCESS_CONTEXT_CATEGORIES\n",
    "\n",
    "\n",
    "add_technical_domain = Operations.append_property(\n",
    "    property_name=\"technicalDomain\",\n",
    "    data_type=DataType.TEXT,\n",
    "    view_properties=[\"conversation\", \"title\"],\n",
    "    instruction=f\"\"\"\n",
    "    Identify the primary technical domain of the user's forum post query.\n",
    "    The answer must be one of the following:\n",
    "    {TECHNICAL_DOMAIN_CATEGORIES.keys()}\n",
    "\n",
    "    The definitions of the categories are as follows:\n",
    "    {TECHNICAL_DOMAIN_CATEGORIES}\n",
    "\n",
    "    Remember that the answer must be one of these categories:\n",
    "    {TECHNICAL_DOMAIN_CATEGORIES.keys()}\n",
    "    \"\"\",\n",
    ")\n",
    "\n",
    "add_root_cause_category = Operations.append_property(\n",
    "    property_name=\"rootCauseCategory\",\n",
    "    data_type=DataType.TEXT,\n",
    "    view_properties=[\"conversation\", \"title\"],\n",
    "    instruction=f\"\"\"\n",
    "    Based on the text, what was the fundamental issue behind the user's question? The answer must be one of the following categories:\n",
    "    {ROOT_CAUSE_CATEGORIES.keys()}\n",
    "\n",
    "    The definitions of the categories are as follows:\n",
    "    {ROOT_CAUSE_CATEGORIES}\n",
    "    For example, if the user was confused about how to use a specific feature of Weaviate, the answer should be \"conceptual_misunderstanding\".\n",
    "\n",
    "    Remember that the answer must be one of these categories:\n",
    "    {ROOT_CAUSE_CATEGORIES.keys()}\n",
    "    \"\"\",\n",
    ")\n",
    "\n",
    "add_access_context = Operations.append_property(\n",
    "    property_name=\"accessContext\",\n",
    "    data_type=DataType.TEXT,\n",
    "    view_properties=[\"conversation\", \"title\"],\n",
    "    instruction=f\"\"\"\n",
    "    Based on the text, how was the user trying to access Weaviate? The answer must be one of the following categories:\n",
    "\n",
    "    {ACCESS_CONTEXT_CATEGORIES.keys()}\n",
    "\n",
    "    The definitions of the categories are as follows:\n",
    "    {ACCESS_CONTEXT_CATEGORIES}\n",
    "    For example, if the user was using the Weaviate Python client library, the answer should be \"python_client\".\n",
    "\n",
    "    Remember that the answer must be one of these categories:\n",
    "    {ACCESS_CONTEXT_CATEGORIES.keys()}\n",
    "    \"\"\",\n",
    ")\n",
    "\n",
    "was_it_caused_by_outdated_stack = Operations.append_property(\n",
    "    property_name=\"causedByOutdatedStack\",\n",
    "    data_type=DataType.BOOL,\n",
    "    view_properties=[\"conversation\", \"title\"],\n",
    "    instruction=\"\"\"\n",
    "    Based on the text, was the user's question caused by an outdated version of Weaviate or its components, such as the client library being used?\n",
    "    \"\"\",\n",
    ")\n",
    "\n",
    "was_it_a_documentation_gap = Operations.append_property(\n",
    "    property_name=\"isDocumentationGap\",\n",
    "    data_type=DataType.BOOL,\n",
    "    view_properties=[\"conversation\", \"title\"],\n",
    "    instruction=\"\"\"\n",
    "    Based on the text, identify whether the user's question was caused by a lack of documentation or unclear instructions regarding Weaviate.\n",
    "\n",
    "    This does not include cases where the documentation exists, and the user did not find it, or did not read it.\n",
    "    This also does not include cases where the user was asking about a feature that is not supported by Weaviate,\n",
    "    or the user was asking about a feature that is not part of a first-party Weaviate product, such as a third-party integration or a custom implementation.\n",
    "    This also does not include cases where there was a bug in the code, or the user was using an outdated version of Weaviate or its components.\n",
    "\n",
    "    Only mark this as true if the user was asking about a feature or an aspect\n",
    "    that is not covered by the documentation, or the documentation was unclear or incorrect.\n",
    "    \"\"\",\n",
    ")\n",
    "\n",
    "create_summary = Operations.append_property(\n",
    "    property_name=\"summary\",\n",
    "    data_type=DataType.TEXT,\n",
    "    view_properties=[\"conversation\", \"title\"],\n",
    "    instruction=\"\"\"\n",
    "    Briefly summarize the user's question and the resolution provided (if any) in a few sentences.\n",
    "    \"\"\",\n",
    ")"
   ]
  },
  {
   "cell_type": "markdown",
   "id": "7b787a9a",
   "metadata": {},
   "source": [
    "### Run the TA\n",
    "\n",
    "The TA is run in an asynchronous way, so you can run it in the background and check the status later."
   ]
  },
  {
   "cell_type": "code",
   "execution_count": null,
   "id": "cb59818a",
   "metadata": {},
   "outputs": [],
   "source": [
    "from helpers import TA_DEMO_COLLECTION\n",
    "from weaviate.agents.transformation import TransformationAgent\n",
    "\n",
    "\n",
    "ta = TransformationAgent(\n",
    "    client=client,\n",
    "    collection=TA_DEMO_COLLECTION,\n",
    "    operations=[\n",
    "        add_technical_complexity,\n",
    "        add_technical_domain,\n",
    "        add_root_cause_category,\n",
    "        add_access_context,\n",
    "        was_it_caused_by_outdated_stack,\n",
    "        was_it_a_documentation_gap,\n",
    "        create_summary\n",
    "    ],\n",
    ")\n",
    "\n",
    "ta_response = ta.update_all()\n"
   ]
  },
  {
   "cell_type": "markdown",
   "id": "ed73aed0",
   "metadata": {},
   "source": [
    "### Check the status of the TA"
   ]
  },
  {
   "cell_type": "code",
   "execution_count": null,
   "id": "7f23ef3b",
   "metadata": {},
   "outputs": [],
   "source": [
    "ta.get_status(workflow_id=ta_response.workflow_id)"
   ]
  },
  {
   "cell_type": "markdown",
   "id": "40c009dd",
   "metadata": {},
   "source": [
    "With a helper function (check status in a loop)"
   ]
  },
  {
   "cell_type": "code",
   "execution_count": null,
   "id": "5850dcff",
   "metadata": {},
   "outputs": [],
   "source": [
    "from helpers import get_ta_status\n",
    "\n",
    "get_ta_status(agent_instance=ta, workflow_id=ta_response.workflow_id)"
   ]
  },
  {
   "cell_type": "markdown",
   "id": "1096aa1f",
   "metadata": {},
   "source": [
    "Visually inspect the collection data schema"
   ]
  },
  {
   "cell_type": "code",
   "execution_count": null,
   "id": "cdf3596e",
   "metadata": {},
   "outputs": [],
   "source": [
    "print(\"Currently existing properties:\\n\")\n",
    "for p in collection.config.get().properties:\n",
    "    print(f\"Property: {p.name}\")"
   ]
  },
  {
   "cell_type": "markdown",
   "id": "22bf6ad3",
   "metadata": {},
   "source": [
    "## Queries enabled by the new properties"
   ]
  },
  {
   "cell_type": "code",
   "execution_count": null,
   "id": "b830c610",
   "metadata": {},
   "outputs": [],
   "source": [
    "from weaviate.classes.aggregate import GroupByAggregate\n",
    "\n",
    "analysis_props = [\n",
    "    \"technicalComplexity\",\n",
    "    \"technicalDomain\",\n",
    "    \"rootCauseCategory\",\n",
    "    \"accessContext\",\n",
    "    \"causedByOutdatedStack\",\n",
    "    \"isDocumentationGap\"\n",
    "]\n",
    "\n",
    "for prop in analysis_props:\n",
    "\n",
    "    response = collection.aggregate.over_all(\n",
    "        group_by=GroupByAggregate(prop=prop)\n",
    "    )\n",
    "    print(f\"\\nProperty: {prop}\")\n",
    "    for group in response.groups:\n",
    "        print(f\"Value: {group.grouped_by} Count: {group.total_count}\")"
   ]
  },
  {
   "cell_type": "code",
   "execution_count": null,
   "id": "e371e367",
   "metadata": {},
   "outputs": [],
   "source": [
    "from weaviate.classes.query import Filter\n",
    "\n",
    "prop = \"technicalDomain\"\n",
    "response = collection.aggregate.over_all(\n",
    "    group_by=GroupByAggregate(prop=prop),\n",
    "    filters=Filter.by_property(name=\"rootCauseCategory\").equal(\"conceptual_misunderstanding\")\n",
    ")\n",
    "\n",
    "print(f\"\\nProperty: {prop}\")\n",
    "for group in response.groups:\n",
    "    print(f\"Value: {group.grouped_by} Count: {group.total_count}\")"
   ]
  },
  {
   "cell_type": "code",
   "execution_count": null,
   "id": "13bf48b8",
   "metadata": {},
   "outputs": [],
   "source": [
    "from weaviate.classes.generate import GenerativeConfig\n",
    "\n",
    "anthropic_key = os.getenv(\"ANTHROPIC_API_KEY\")\n",
    "\n",
    "client = weaviate.connect_to_weaviate_cloud(\n",
    "    cluster_url=weaviate_url,\n",
    "    auth_credentials=Auth.api_key(weaviate_key),\n",
    "    headers={\n",
    "        \"X-Anthropic-Api-Key\": anthropic_key,\n",
    "    }\n",
    ")\n",
    "\n",
    "collection = client.collections.get(TA_DEMO_COLLECTION)\n",
    "\n",
    "\n",
    "response = collection.generate.fetch_objects(\n",
    "    filters=(\n",
    "        Filter.by_property(name=\"rootCauseCategory\").equal(\"conceptual_misunderstanding\") &\n",
    "        Filter.by_property(name=\"technicalDomain\").equal(\"queries\")\n",
    "    ),\n",
    "    limit=100,\n",
    "    generative_provider=GenerativeConfig.anthropic(model=\"claude-3-7-sonnet-latest\"),\n",
    "    grouped_task=\"\"\"\n",
    "    From these Weaviate Forum post conversations, identify 3-5 most common things\n",
    "    that we can help users to understand better about Weaviate queries.\n",
    "    If possible, also provide a count of each type in the sample.\n",
    "    \"\"\",\n",
    "    grouped_properties=[\"summary\", \"title\"]\n",
    ")\n",
    "\n",
    "print(f\"\\n{response.generative.text}\")"
   ]
  },
  {
   "cell_type": "code",
   "execution_count": null,
   "id": "86746ff4",
   "metadata": {},
   "outputs": [],
   "source": [
    "client.close()"
   ]
  }
 ],
 "metadata": {
  "kernelspec": {
   "display_name": "Python 3 (ipykernel)",
   "language": "python",
   "name": "python3"
  },
  "language_info": {
   "codemirror_mode": {
    "name": "ipython",
    "version": 3
   },
   "file_extension": ".py",
   "mimetype": "text/x-python",
   "name": "python",
   "nbconvert_exporter": "python",
   "pygments_lexer": "ipython3",
   "version": "3.12.4"
  }
 },
 "nbformat": 4,
 "nbformat_minor": 5
}

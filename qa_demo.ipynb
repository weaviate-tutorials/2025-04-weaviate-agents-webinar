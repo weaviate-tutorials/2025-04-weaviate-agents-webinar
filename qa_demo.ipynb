{
  "cells": [
    {
      "cell_type": "markdown",
      "metadata": {
        "id": "iGfss7TuSM_n"
      },
      "source": [
        "# Movies and Books Assistant with Weaviate Query Agent\n",
        "**Demo for the Reimanining Data Workflows Webinar - April 29th 2025**\n",
        "\n",
        "Example code for how we can build an agent which can answer quuestions about books and movies, using the [Weaviate Query Agent](https://weaviate.io/developers/agents?utm_source=webinar&utm_campaign=agents&utm_content=reimagining-data-workflows).\n",
        "\n",
        "> 📚 You can read and learn more about this service in our [\"Introducing the Weaviate Query Agent\"](https://weaviate.io/blog/query-agent?utm_source=webinar&utm_campaign=agents&utm_content=reimagining-data-workflows) blog.\n",
        "\n",
        "To get started, we've prepared a few open datasets, available on Hugging Face. The first step will be walking through how to populate your Weaviate Cloud collections.\n",
        "\n",
        "- [**Movies:**](https://huggingface.co/datasets/weaviate/agents/viewer/personalization-agent-movies) A dataset that lists movies, their descriptions, ratings etc.\n",
        "- [**Books:**](https://huggingface.co/datasets/weaviate/agents/viewer/query-agent-books) A dataset that lists books, their authors, descriptions and genres.\n"
      ]
    },
    {
      "cell_type": "markdown",
      "metadata": {
        "id": "V7eGoTMgV597"
      },
      "source": [
        "## 1. Setting Up Weaviate & Importing Data"
      ]
    },
    {
      "cell_type": "markdown",
      "metadata": {
        "id": "-kmYF4e5hSwL"
      },
      "source": [
        "To use the Weaviate Query Agent, first, create a [Weaviate Cloud](https://weaviate.io/deployment/serverless?utm_source=webinar&utm_campaign=agents&utm_content=reimagining-data-workflows) account👇\n",
        "1. [Create Serverless Weaviate Cloud account](https://weaviate.io/deployment/serverless?utm_source=webinar&utm_campaign=agents&utm_content=reimagining-data-workflows) and setup a free [Sandbox](https://weaviate.io/developers/wcs/manage-clusters/create#sandbox-clusters?utm_source=webinar&utm_campaign=agents&utm_content=reimagining-data-workflows)\n",
        "2. Go to 'Embedding' and enable it, by default, this will make it so that we use `Snowflake/snowflake-arctic-embed-l-v2.0` as the embedding model\n",
        "3. Take note of the `WEAVIATE_URL` and `WEAVIATE_API_KEY` to connect to your cluster below\n",
        "\n",
        "> Info: We recommend using [Weaviate Embeddings](https://weaviate.io/developers/weaviate/model-providers/weaviate?utm_source=webinar&utm_campaign=agents&utm_content=reimagining-data-workflows) so you do not have to provide any extra keys for external embedding providers."
      ]
    },
    {
      "cell_type": "code",
      "execution_count": null,
      "metadata": {
        "colab": {
          "base_uri": "https://localhost:8080/"
        },
        "collapsed": true,
        "id": "eZglwTKJSBre",
        "outputId": "7cf0b188-1540-4e37-b144-719245c83db4"
      },
      "outputs": [],
      "source": [
        "!pip install 'weaviate-client[agents]' datasets"
      ]
    },
    {
      "cell_type": "code",
      "execution_count": 3,
      "metadata": {
        "colab": {
          "base_uri": "https://localhost:8080/"
        },
        "id": "WpwpkXXqS2_z",
        "outputId": "63dcb774-fa0c-44ba-92e2-254edb157d26"
      },
      "outputs": [],
      "source": [
        "import os\n",
        "from getpass import getpass\n",
        "\n",
        "if \"WEAVIATE_API_KEY\" not in os.environ:\n",
        "  os.environ[\"WEAVIATE_API_KEY\"] = getpass(\"Weaviate API Key\")\n",
        "if \"WEAVIATE_URL\" not in os.environ:\n",
        "  os.environ[\"WEAVIATE_URL\"] = getpass(\"Weaviate URL\")"
      ]
    },
    {
      "cell_type": "code",
      "execution_count": 4,
      "metadata": {
        "id": "7Z5oAapLhSf3"
      },
      "outputs": [],
      "source": [
        "import weaviate\n",
        "from weaviate.auth import Auth\n",
        "\n",
        "client = weaviate.connect_to_weaviate_cloud(\n",
        "    cluster_url=os.environ.get(\"WEAVIATE_URL\"),\n",
        "    auth_credentials=Auth.api_key(os.environ.get(\"WEAVIATE_API_KEY\")),\n",
        ")"
      ]
    },
    {
      "cell_type": "markdown",
      "metadata": {
        "id": "XqbFu9xHMzEU"
      },
      "source": [
        "### Prepare the Collections\n",
        "\n",
        "In the following code blocks, we are pulling our demo datasets from Hugging Face and writing them to new collections in our Weaviate Serverless cluster.\n",
        "\n",
        "> ❗️ The `QueryAgent` uses the descriptions of collections and properties to decide which ones to use when solving queries, and to access more information about properties. You can experiment with changing these descriptions, providing more detail, and more. It's good practice to provide property descriptions too."
      ]
    },
    {
      "cell_type": "code",
      "execution_count": null,
      "metadata": {
        "colab": {
          "base_uri": "https://localhost:8080/"
        },
        "id": "mS6IfoqyNHPq",
        "outputId": "4ad430ed-55bb-4033-ce8e-df8b727f7eb9"
      },
      "outputs": [],
      "source": [
        "from weaviate.classes.config import Configure, Property, DataType\n",
        "\n",
        "# client.collections.delete(\"Movies\")\n",
        "# client.collections.delete(\"Books\")\n",
        "client.collections.create(\n",
        "    \"Books\",\n",
        "    description=\"A dataset that lists books, their author, description and genres\",\n",
        "    vectorizer_config=Configure.Vectorizer.text2vec_weaviate(),\n",
        "    properties=[\n",
        "        Property(name=\"title\", data_type=DataType.TEXT, description=\"title of the book\"),\n",
        "        Property(name=\"author\", data_type=DataType.TEXT, description=\"author of the book\"),\n",
        "        Property(name=\"description\", data_type=DataType.TEXT, description=\"description of the book\"),\n",
        "        Property(name=\"genres\", data_type=DataType.TEXT_ARRAY, description=\"genres of the book\"),\n",
        "      ]\n",
        ")\n",
        "\n",
        "client.collections.create(\n",
        "    \"Movies\",\n",
        "    description=\"A dataset that lists movies, their ratings, original language etc..\",\n",
        "    vectorizer_config=Configure.Vectorizer.text2vec_weaviate(),\n",
        "    properties=[\n",
        "        Property(\n",
        "            name=\"title\",\n",
        "            data_type=DataType.TEXT,\n",
        "            description=\"The title of the movie\",\n",
        "        ),\n",
        "        Property(\n",
        "            name=\"release_date\",\n",
        "            data_type=DataType.TEXT,\n",
        "            description=\"The release date of the movie\",\n",
        "        ),\n",
        "        Property(\n",
        "            name=\"overview\",\n",
        "            data_type=DataType.TEXT,\n",
        "            description=\"Short description of the movie\",\n",
        "        ),\n",
        "        Property(\n",
        "            name=\"genres\",\n",
        "            data_type=DataType.TEXT_ARRAY,\n",
        "            description=\"The genres of the movie\",\n",
        "        ),\n",
        "        Property(\n",
        "            name=\"vote_average\",\n",
        "            data_type=DataType.NUMBER,\n",
        "            description=\"vote average of the movie\",\n",
        "        ),\n",
        "        Property(\n",
        "            name=\"vote_count\",\n",
        "            data_type=DataType.INT,\n",
        "            description=\"vote count of the movie\",\n",
        "        ),\n",
        "        Property(\n",
        "            name=\"popularity\",\n",
        "            data_type=DataType.NUMBER,\n",
        "            description=\"popularity of the movie\",\n",
        "        ),\n",
        "        Property(\n",
        "            name=\"poster_url\",\n",
        "            data_type=DataType.TEXT,\n",
        "            description=\"poster path of the movie\",\n",
        "            skip_vectorization=True,\n",
        "        ),\n",
        "        Property(\n",
        "            name=\"original_language\",\n",
        "            data_type=DataType.TEXT,\n",
        "            description=\"Code of the language of the movie\",\n",
        "            skip_vectorization=True,\n",
        "        ),\n",
        "    ]\n",
        ")\n"
      ]
    },
    {
      "cell_type": "code",
      "execution_count": null,
      "metadata": {
        "colab": {
          "base_uri": "https://localhost:8080/",
          "height": 176,
          "referenced_widgets": [
            "6896202cd47c4e08a6c694225d79d3c8",
            "8793ce4806ce422488cc7ef6891dfab2",
            "8ec80043fdd14054aa5110b8820331ad",
            "d3934b5e320d4289bf917f0e87a0add6",
            "9220c701e3c14ed784e4b22592f96397",
            "a82c507e26ae479fb7101bc5f11b695d",
            "1d895a0efa934d1ea84fe346f6e1af27",
            "c5f0392c9bc24856930b5235f9f4ab21",
            "89a631b1e27d45c0bb87eec2d5f46db4",
            "506f6f6f3a2f47c087629721c457671b",
            "92644822b1324ab09914d9e78214a5ce"
          ]
        },
        "id": "4rbymjtuNbnd",
        "outputId": "609509a7-2464-4769-bfe4-e2df03a7c1dd"
      },
      "outputs": [],
      "source": [
        "from datasets import load_dataset\n",
        "\n",
        "# movies_dataset = load_dataset(\"weaviate/agents\", \"personalization-agent-movies\", split=\"train\", streaming=True)\n",
        "# books_dataset = load_dataset(\"weaviate/agents\", \"query-agent-books\", split=\"train\", streaming=True)\n",
        "\n",
        "movies_collection = client.collections.get(\"Movies\")\n",
        "books_collection = client.collections.get(\"Books\")\n",
        "\n",
        "# with movies_collection.batch.dynamic() as batch:\n",
        "#     for item in movies_dataset:\n",
        "#         batch.add_object(properties=item[\"properties\"])\n",
        "\n",
        "# with books_collection.batch.dynamic() as batch:\n",
        "#     for item in books_dataset:\n",
        "#         batch.add_object(properties=item[\"properties\"])"
      ]
    },
    {
      "cell_type": "markdown",
      "metadata": {
        "id": "4H7h-onziDEA"
      },
      "source": [
        "## 2. Set Up the Query Agent\n",
        "\n",
        "Let's start with a simple agent. Here, we're creating an `agent` that has access to our `Books` & `Movies` datasets."
      ]
    },
    {
      "cell_type": "code",
      "execution_count": 6,
      "metadata": {
        "id": "-s6sk4zyiFmh"
      },
      "outputs": [],
      "source": [
        "from weaviate.agents.query import QueryAgent\n",
        "\n",
        "agent = QueryAgent(\n",
        "    client=client, collections=[\"Books\", \"Movies\"],\n",
        ")"
      ]
    },
    {
      "cell_type": "markdown",
      "metadata": {
        "id": "XnJiTt5LiMp-"
      },
      "source": [
        "## 3. Run the Query Agent\n",
        "The `QueryAgent` will determine wither a given query is a regular searcg query (vector search), or whether it requires aggregations, or both."
      ]
    },
    {
      "cell_type": "code",
      "execution_count": null,
      "metadata": {
        "colab": {
          "base_uri": "https://localhost:8080/",
          "height": 1000
        },
        "id": "2A99656SiOvW",
        "outputId": "fe342ad4-722d-4f5f-f85d-0bfb6754d896"
      },
      "outputs": [],
      "source": [
        "response = agent.run(\"What are some good fantasy films that involve elves?\")\n",
        "response.display()"
      ]
    },
    {
      "cell_type": "markdown",
      "metadata": {
        "id": "RqsUGStI-RC_"
      },
      "source": [
        "### Ask a follow up question\n",
        "\n",
        "The agent can also be provided with additional context. For example, we can provide the previous response as context and get a `new_response`"
      ]
    },
    {
      "cell_type": "code",
      "execution_count": null,
      "metadata": {
        "colab": {
          "base_uri": "https://localhost:8080/",
          "height": 1000
        },
        "id": "l--e-1HJiQu6",
        "outputId": "3ffe9b2d-e72c-4fd4-e9e2-5bd50027a29a"
      },
      "outputs": [],
      "source": [
        "new_response = agent.run(\"And what are some books with a similar vibe to these films?\", context=response)\n",
        "new_response.display()"
      ]
    },
    {
      "cell_type": "markdown",
      "metadata": {
        "id": "HTUE7S7d_85T"
      },
      "source": [
        "Now let's try a question that sholud require an aggregation. Let's see which author has the most books in our collection."
      ]
    },
    {
      "cell_type": "code",
      "execution_count": null,
      "metadata": {
        "colab": {
          "base_uri": "https://localhost:8080/",
          "height": 723
        },
        "id": "n5X5wCoYAOdi",
        "outputId": "8f49cf7d-be9c-4bf1-ea38-993c99dbdebc"
      },
      "outputs": [],
      "source": [
        "response = agent.run(\"Which author has the most books listed in our collection?\")\n",
        "response.display()"
      ]
    },
    {
      "cell_type": "code",
      "execution_count": null,
      "metadata": {
        "colab": {
          "base_uri": "https://localhost:8080/",
          "height": 972
        },
        "id": "en0RA8ofavWL",
        "outputId": "04dc078f-1153-4306-d0eb-2df7bd24d1f5"
      },
      "outputs": [],
      "source": [
        "response = agent.run(\"And are there any films based on this author's books?\", context=response)\n",
        "response.display()"
      ]
    },
    {
      "cell_type": "markdown",
      "metadata": {
        "id": "sl78PHYmBe2s"
      },
      "source": [
        "### Search over multiple collections\n",
        "\n",
        "In some cases, we need to combine the results of searches across multiple collections."
      ]
    },
    {
      "cell_type": "code",
      "execution_count": null,
      "metadata": {
        "colab": {
          "base_uri": "https://localhost:8080/",
          "height": 1000
        },
        "id": "boJHOMyAttEq",
        "outputId": "5f239a85-920d-4a02-b04f-4717a29e96f8"
      },
      "outputs": [],
      "source": [
        "response = agent.run(\"I'm interested in historical fiction books, can you recommend any good ones?\"\n",
        "                     \"Are there any films based on historical fiction? And on average, what's the original language that they were filmed in?\")\n",
        "\n",
        "response.display()"
      ]
    },
    {
      "cell_type": "markdown",
      "metadata": {
        "id": "Hm32UutOC63l"
      },
      "source": [
        "### Changing the System Prompt\n",
        "\n",
        "In some cases, you may want to define a custom `system_prompt` for your agent. This can help you provide the agent with some default instructions as to how to behave. For example, let's create an agent that is designed to give short bullet point answers.\n"
      ]
    },
    {
      "cell_type": "code",
      "execution_count": 12,
      "metadata": {
        "id": "WWFMuHpIC6ol"
      },
      "outputs": [],
      "source": [
        "new_agent = QueryAgent(\n",
        "    client=client, collections=[\"Books\", \"Movies\"],\n",
        "    system_prompt=\"You are a helpful movies and books assistant that always responds in short, bullet point answsers.\"\n",
        ")"
      ]
    },
    {
      "cell_type": "markdown",
      "metadata": {
        "id": "6hzF0PdfEllR"
      },
      "source": [
        "For example, this time lets ask something that is about weather!"
      ]
    },
    {
      "cell_type": "code",
      "execution_count": null,
      "metadata": {
        "colab": {
          "base_uri": "https://localhost:8080/"
        },
        "id": "76tch6bPuOOL",
        "outputId": "016bc958-d8b4-4811-ac5c-fec7947bc4f9"
      },
      "outputs": [],
      "source": [
        "response = new_agent.run(\"I'm interested in historical fiction books, can you recommend any good ones?\"\n",
        "                         \"Are there any films based on historical fiction? And on average, what's the original language that they were filmed in?\")\n",
        "print(response.final_answer)"
      ]
    }
  ],
  "metadata": {
    "colab": {
      "provenance": []
    },
    "kernelspec": {
      "display_name": "agent",
      "language": "python",
      "name": "python3"
    },
    "language_info": {
      "codemirror_mode": {
        "name": "ipython",
        "version": 3
      },
      "file_extension": ".py",
      "mimetype": "text/x-python",
      "name": "python",
      "nbconvert_exporter": "python",
      "pygments_lexer": "ipython3",
      "version": "3.13.1"
    },
    "widgets": {
      "application/vnd.jupyter.widget-state+json": {
        "1d895a0efa934d1ea84fe346f6e1af27": {
          "model_module": "@jupyter-widgets/controls",
          "model_module_version": "1.5.0",
          "model_name": "DescriptionStyleModel",
          "state": {
            "_model_module": "@jupyter-widgets/controls",
            "_model_module_version": "1.5.0",
            "_model_name": "DescriptionStyleModel",
            "_view_count": null,
            "_view_module": "@jupyter-widgets/base",
            "_view_module_version": "1.2.0",
            "_view_name": "StyleView",
            "description_width": ""
          }
        },
        "506f6f6f3a2f47c087629721c457671b": {
          "model_module": "@jupyter-widgets/base",
          "model_module_version": "1.2.0",
          "model_name": "LayoutModel",
          "state": {
            "_model_module": "@jupyter-widgets/base",
            "_model_module_version": "1.2.0",
            "_model_name": "LayoutModel",
            "_view_count": null,
            "_view_module": "@jupyter-widgets/base",
            "_view_module_version": "1.2.0",
            "_view_name": "LayoutView",
            "align_content": null,
            "align_items": null,
            "align_self": null,
            "border": null,
            "bottom": null,
            "display": null,
            "flex": null,
            "flex_flow": null,
            "grid_area": null,
            "grid_auto_columns": null,
            "grid_auto_flow": null,
            "grid_auto_rows": null,
            "grid_column": null,
            "grid_gap": null,
            "grid_row": null,
            "grid_template_areas": null,
            "grid_template_columns": null,
            "grid_template_rows": null,
            "height": null,
            "justify_content": null,
            "justify_items": null,
            "left": null,
            "margin": null,
            "max_height": null,
            "max_width": null,
            "min_height": null,
            "min_width": null,
            "object_fit": null,
            "object_position": null,
            "order": null,
            "overflow": null,
            "overflow_x": null,
            "overflow_y": null,
            "padding": null,
            "right": null,
            "top": null,
            "visibility": null,
            "width": null
          }
        },
        "6896202cd47c4e08a6c694225d79d3c8": {
          "model_module": "@jupyter-widgets/controls",
          "model_module_version": "1.5.0",
          "model_name": "HBoxModel",
          "state": {
            "_dom_classes": [],
            "_model_module": "@jupyter-widgets/controls",
            "_model_module_version": "1.5.0",
            "_model_name": "HBoxModel",
            "_view_count": null,
            "_view_module": "@jupyter-widgets/controls",
            "_view_module_version": "1.5.0",
            "_view_name": "HBoxView",
            "box_style": "",
            "children": [
              "IPY_MODEL_8793ce4806ce422488cc7ef6891dfab2",
              "IPY_MODEL_8ec80043fdd14054aa5110b8820331ad",
              "IPY_MODEL_d3934b5e320d4289bf917f0e87a0add6"
            ],
            "layout": "IPY_MODEL_9220c701e3c14ed784e4b22592f96397"
          }
        },
        "8793ce4806ce422488cc7ef6891dfab2": {
          "model_module": "@jupyter-widgets/controls",
          "model_module_version": "1.5.0",
          "model_name": "HTMLModel",
          "state": {
            "_dom_classes": [],
            "_model_module": "@jupyter-widgets/controls",
            "_model_module_version": "1.5.0",
            "_model_name": "HTMLModel",
            "_view_count": null,
            "_view_module": "@jupyter-widgets/controls",
            "_view_module_version": "1.5.0",
            "_view_name": "HTMLView",
            "description": "",
            "description_tooltip": null,
            "layout": "IPY_MODEL_a82c507e26ae479fb7101bc5f11b695d",
            "placeholder": "​",
            "style": "IPY_MODEL_1d895a0efa934d1ea84fe346f6e1af27",
            "value": "README.md: 100%"
          }
        },
        "89a631b1e27d45c0bb87eec2d5f46db4": {
          "model_module": "@jupyter-widgets/controls",
          "model_module_version": "1.5.0",
          "model_name": "ProgressStyleModel",
          "state": {
            "_model_module": "@jupyter-widgets/controls",
            "_model_module_version": "1.5.0",
            "_model_name": "ProgressStyleModel",
            "_view_count": null,
            "_view_module": "@jupyter-widgets/base",
            "_view_module_version": "1.2.0",
            "_view_name": "StyleView",
            "bar_color": null,
            "description_width": ""
          }
        },
        "8ec80043fdd14054aa5110b8820331ad": {
          "model_module": "@jupyter-widgets/controls",
          "model_module_version": "1.5.0",
          "model_name": "FloatProgressModel",
          "state": {
            "_dom_classes": [],
            "_model_module": "@jupyter-widgets/controls",
            "_model_module_version": "1.5.0",
            "_model_name": "FloatProgressModel",
            "_view_count": null,
            "_view_module": "@jupyter-widgets/controls",
            "_view_module_version": "1.5.0",
            "_view_name": "ProgressView",
            "bar_style": "success",
            "description": "",
            "description_tooltip": null,
            "layout": "IPY_MODEL_c5f0392c9bc24856930b5235f9f4ab21",
            "max": 5812,
            "min": 0,
            "orientation": "horizontal",
            "style": "IPY_MODEL_89a631b1e27d45c0bb87eec2d5f46db4",
            "value": 5812
          }
        },
        "9220c701e3c14ed784e4b22592f96397": {
          "model_module": "@jupyter-widgets/base",
          "model_module_version": "1.2.0",
          "model_name": "LayoutModel",
          "state": {
            "_model_module": "@jupyter-widgets/base",
            "_model_module_version": "1.2.0",
            "_model_name": "LayoutModel",
            "_view_count": null,
            "_view_module": "@jupyter-widgets/base",
            "_view_module_version": "1.2.0",
            "_view_name": "LayoutView",
            "align_content": null,
            "align_items": null,
            "align_self": null,
            "border": null,
            "bottom": null,
            "display": null,
            "flex": null,
            "flex_flow": null,
            "grid_area": null,
            "grid_auto_columns": null,
            "grid_auto_flow": null,
            "grid_auto_rows": null,
            "grid_column": null,
            "grid_gap": null,
            "grid_row": null,
            "grid_template_areas": null,
            "grid_template_columns": null,
            "grid_template_rows": null,
            "height": null,
            "justify_content": null,
            "justify_items": null,
            "left": null,
            "margin": null,
            "max_height": null,
            "max_width": null,
            "min_height": null,
            "min_width": null,
            "object_fit": null,
            "object_position": null,
            "order": null,
            "overflow": null,
            "overflow_x": null,
            "overflow_y": null,
            "padding": null,
            "right": null,
            "top": null,
            "visibility": null,
            "width": null
          }
        },
        "92644822b1324ab09914d9e78214a5ce": {
          "model_module": "@jupyter-widgets/controls",
          "model_module_version": "1.5.0",
          "model_name": "DescriptionStyleModel",
          "state": {
            "_model_module": "@jupyter-widgets/controls",
            "_model_module_version": "1.5.0",
            "_model_name": "DescriptionStyleModel",
            "_view_count": null,
            "_view_module": "@jupyter-widgets/base",
            "_view_module_version": "1.2.0",
            "_view_name": "StyleView",
            "description_width": ""
          }
        },
        "a82c507e26ae479fb7101bc5f11b695d": {
          "model_module": "@jupyter-widgets/base",
          "model_module_version": "1.2.0",
          "model_name": "LayoutModel",
          "state": {
            "_model_module": "@jupyter-widgets/base",
            "_model_module_version": "1.2.0",
            "_model_name": "LayoutModel",
            "_view_count": null,
            "_view_module": "@jupyter-widgets/base",
            "_view_module_version": "1.2.0",
            "_view_name": "LayoutView",
            "align_content": null,
            "align_items": null,
            "align_self": null,
            "border": null,
            "bottom": null,
            "display": null,
            "flex": null,
            "flex_flow": null,
            "grid_area": null,
            "grid_auto_columns": null,
            "grid_auto_flow": null,
            "grid_auto_rows": null,
            "grid_column": null,
            "grid_gap": null,
            "grid_row": null,
            "grid_template_areas": null,
            "grid_template_columns": null,
            "grid_template_rows": null,
            "height": null,
            "justify_content": null,
            "justify_items": null,
            "left": null,
            "margin": null,
            "max_height": null,
            "max_width": null,
            "min_height": null,
            "min_width": null,
            "object_fit": null,
            "object_position": null,
            "order": null,
            "overflow": null,
            "overflow_x": null,
            "overflow_y": null,
            "padding": null,
            "right": null,
            "top": null,
            "visibility": null,
            "width": null
          }
        },
        "c5f0392c9bc24856930b5235f9f4ab21": {
          "model_module": "@jupyter-widgets/base",
          "model_module_version": "1.2.0",
          "model_name": "LayoutModel",
          "state": {
            "_model_module": "@jupyter-widgets/base",
            "_model_module_version": "1.2.0",
            "_model_name": "LayoutModel",
            "_view_count": null,
            "_view_module": "@jupyter-widgets/base",
            "_view_module_version": "1.2.0",
            "_view_name": "LayoutView",
            "align_content": null,
            "align_items": null,
            "align_self": null,
            "border": null,
            "bottom": null,
            "display": null,
            "flex": null,
            "flex_flow": null,
            "grid_area": null,
            "grid_auto_columns": null,
            "grid_auto_flow": null,
            "grid_auto_rows": null,
            "grid_column": null,
            "grid_gap": null,
            "grid_row": null,
            "grid_template_areas": null,
            "grid_template_columns": null,
            "grid_template_rows": null,
            "height": null,
            "justify_content": null,
            "justify_items": null,
            "left": null,
            "margin": null,
            "max_height": null,
            "max_width": null,
            "min_height": null,
            "min_width": null,
            "object_fit": null,
            "object_position": null,
            "order": null,
            "overflow": null,
            "overflow_x": null,
            "overflow_y": null,
            "padding": null,
            "right": null,
            "top": null,
            "visibility": null,
            "width": null
          }
        },
        "d3934b5e320d4289bf917f0e87a0add6": {
          "model_module": "@jupyter-widgets/controls",
          "model_module_version": "1.5.0",
          "model_name": "HTMLModel",
          "state": {
            "_dom_classes": [],
            "_model_module": "@jupyter-widgets/controls",
            "_model_module_version": "1.5.0",
            "_model_name": "HTMLModel",
            "_view_count": null,
            "_view_module": "@jupyter-widgets/controls",
            "_view_module_version": "1.5.0",
            "_view_name": "HTMLView",
            "description": "",
            "description_tooltip": null,
            "layout": "IPY_MODEL_506f6f6f3a2f47c087629721c457671b",
            "placeholder": "​",
            "style": "IPY_MODEL_92644822b1324ab09914d9e78214a5ce",
            "value": " 5.81k/5.81k [00:00&lt;00:00, 359kB/s]"
          }
        }
      }
    }
  },
  "nbformat": 4,
  "nbformat_minor": 0
}

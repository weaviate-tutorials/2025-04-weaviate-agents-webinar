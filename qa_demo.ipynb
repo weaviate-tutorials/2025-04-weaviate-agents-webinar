{
  "cells": [
    {
      "cell_type": "markdown",
      "metadata": {
        "id": "iGfss7TuSM_n"
      },
      "source": [
        "# Movies and Books Assistant with Weaviate Query Agent\n",
        "**Demo for the Reimanining Data Workflows Webinar - April 29th 2025**\n",
        "\n",
        "Example code for how we can build an agent which can answer quuestions about books and movies, using the [Weaviate Query Agent](https://weaviate.io/developers/agents?utm_source=webinar&utm_campaign=agents&utm_content=reimagining-data-workflows).\n",
        "\n",
        "> 📚 You can read and learn more about this service in our [\"Introducing the Weaviate Query Agent\"](https://weaviate.io/blog/query-agent?utm_source=webinar&utm_campaign=agents&utm_content=reimagining-data-workflows) blog.\n",
        "\n",
        "To get started, we've prepared a few open datasets, available on Hugging Face. The first step will be walking through how to populate your Weaviate Cloud collections.\n",
        "\n",
        "- [**Movies:**](https://huggingface.co/datasets/weaviate/agents/viewer/personalization-agent-movies) A dataset that lists movies, their descriptions, ratings etc.\n",
        "- [**Books:**](https://huggingface.co/datasets/weaviate/agents/viewer/query-agent-books) A dataset that lists books, their authors, descriptions and genres.\n"
      ]
    },
    {
      "cell_type": "markdown",
      "metadata": {
        "colab_type": "toc",
        "id": "g4DJZQzqWA1J"
      },
      "source": [
        ">[Build A Weaviate Query Agent - The E-Commerce Assistant](#scrollTo=iGfss7TuSM_n)\n",
        "\n",
        ">>[Setting Up Weaviate & Importing Data](#scrollTo=V7eGoTMgV597)\n",
        "\n",
        ">>>[Prepare the Collections](#scrollTo=XqbFu9xHMzEU)\n",
        "\n",
        ">>[Set Up the Query Agent](#scrollTo=4H7h-onziDEA)\n",
        "\n",
        ">>[Run the Query Agent](#scrollTo=XnJiTt5LiMp-)\n",
        "\n",
        ">>>[Ask a Question](#scrollTo=XnJiTt5LiMp-)\n",
        "\n",
        ">>>[Ask a follow up question](#scrollTo=RqsUGStI-RC_)\n",
        "\n",
        ">>>[Search over multiple collections](#scrollTo=sl78PHYmBe2s)\n",
        "\n",
        ">>>[Changing the System Prompt](#scrollTo=Hm32UutOC63l)\n",
        "\n",
        ">>>[Try More Questions](#scrollTo=70lwuxf1F38d)\n",
        "\n"
      ]
    },
    {
      "cell_type": "markdown",
      "metadata": {
        "id": "V7eGoTMgV597"
      },
      "source": [
        "## 1. Setting Up Weaviate & Importing Data"
      ]
    },
    {
      "cell_type": "markdown",
      "metadata": {
        "id": "-kmYF4e5hSwL"
      },
      "source": [
        "To use the Weaviate Query Agent, first, create a [Weaviate Cloud](https://weaviate.io/deployment/serverless?utm_source=webinar&utm_campaign=agents&utm_content=reimagining-data-workflows) account👇\n",
        "1. [Create Serverless Weaviate Cloud account](https://weaviate.io/deployment/serverless?utm_source=webinar&utm_campaign=agents&utm_content=reimagining-data-workflows) and setup a free [Sandbox](https://weaviate.io/developers/wcs/manage-clusters/create#sandbox-clusters?utm_source=webinar&utm_campaign=agents&utm_content=reimagining-data-workflows)\n",
        "2. Go to 'Embedding' and enable it, by default, this will make it so that we use `Snowflake/snowflake-arctic-embed-l-v2.0` as the embedding model\n",
        "3. Take note of the `WEAVIATE_URL` and `WEAVIATE_API_KEY` to connect to your cluster below\n",
        "\n",
        "> Info: We recommend using [Weaviate Embeddings](https://weaviate.io/developers/weaviate/model-providers/weaviate?utm_source=webinar&utm_campaign=agents&utm_content=reimagining-data-workflows) so you do not have to provide any extra keys for external embedding providers."
      ]
    },
    {
      "cell_type": "code",
      "execution_count": 1,
      "metadata": {
        "colab": {
          "base_uri": "https://localhost:8080/"
        },
        "collapsed": true,
        "id": "eZglwTKJSBre",
        "outputId": "7cf0b188-1540-4e37-b144-719245c83db4"
      },
      "outputs": [
        {
          "output_type": "stream",
          "name": "stdout",
          "text": [
            "Collecting datasets\n",
            "  Downloading datasets-3.5.1-py3-none-any.whl.metadata (19 kB)\n",
            "Collecting weaviate-client[agents]\n",
            "  Downloading weaviate_client-4.14.1-py3-none-any.whl.metadata (3.7 kB)\n",
            "Requirement already satisfied: httpx<0.29.0,>=0.26.0 in /usr/local/lib/python3.11/dist-packages (from weaviate-client[agents]) (0.28.1)\n",
            "Collecting validators==0.34.0 (from weaviate-client[agents])\n",
            "  Downloading validators-0.34.0-py3-none-any.whl.metadata (3.8 kB)\n",
            "Collecting authlib<1.3.2,>=1.2.1 (from weaviate-client[agents])\n",
            "  Downloading Authlib-1.3.1-py2.py3-none-any.whl.metadata (3.8 kB)\n",
            "Requirement already satisfied: pydantic<3.0.0,>=2.8.0 in /usr/local/lib/python3.11/dist-packages (from weaviate-client[agents]) (2.11.3)\n",
            "Requirement already satisfied: grpcio<2.0.0,>=1.66.2 in /usr/local/lib/python3.11/dist-packages (from weaviate-client[agents]) (1.71.0)\n",
            "Collecting grpcio-tools<2.0.0,>=1.66.2 (from weaviate-client[agents])\n",
            "  Downloading grpcio_tools-1.71.0-cp311-cp311-manylinux_2_17_x86_64.manylinux2014_x86_64.whl.metadata (5.3 kB)\n",
            "Collecting grpcio-health-checking<2.0.0,>=1.66.2 (from weaviate-client[agents])\n",
            "  Downloading grpcio_health_checking-1.71.0-py3-none-any.whl.metadata (1.0 kB)\n",
            "Collecting deprecation<3.0.0,>=2.1.0 (from weaviate-client[agents])\n",
            "  Downloading deprecation-2.1.0-py2.py3-none-any.whl.metadata (4.6 kB)\n",
            "Collecting weaviate-agents<1.0.0,>=0.3.0 (from weaviate-client[agents])\n",
            "  Downloading weaviate_agents-0.6.0-py3-none-any.whl.metadata (1.1 kB)\n",
            "Requirement already satisfied: filelock in /usr/local/lib/python3.11/dist-packages (from datasets) (3.18.0)\n",
            "Requirement already satisfied: numpy>=1.17 in /usr/local/lib/python3.11/dist-packages (from datasets) (2.0.2)\n",
            "Requirement already satisfied: pyarrow>=15.0.0 in /usr/local/lib/python3.11/dist-packages (from datasets) (18.1.0)\n",
            "Collecting dill<0.3.9,>=0.3.0 (from datasets)\n",
            "  Downloading dill-0.3.8-py3-none-any.whl.metadata (10 kB)\n",
            "Requirement already satisfied: pandas in /usr/local/lib/python3.11/dist-packages (from datasets) (2.2.2)\n",
            "Requirement already satisfied: requests>=2.32.2 in /usr/local/lib/python3.11/dist-packages (from datasets) (2.32.3)\n",
            "Requirement already satisfied: tqdm>=4.66.3 in /usr/local/lib/python3.11/dist-packages (from datasets) (4.67.1)\n",
            "Collecting xxhash (from datasets)\n",
            "  Downloading xxhash-3.5.0-cp311-cp311-manylinux_2_17_x86_64.manylinux2014_x86_64.whl.metadata (12 kB)\n",
            "Collecting multiprocess<0.70.17 (from datasets)\n",
            "  Downloading multiprocess-0.70.16-py311-none-any.whl.metadata (7.2 kB)\n",
            "Collecting fsspec<=2025.3.0,>=2023.1.0 (from fsspec[http]<=2025.3.0,>=2023.1.0->datasets)\n",
            "  Downloading fsspec-2025.3.0-py3-none-any.whl.metadata (11 kB)\n",
            "Requirement already satisfied: aiohttp in /usr/local/lib/python3.11/dist-packages (from datasets) (3.11.15)\n",
            "Requirement already satisfied: huggingface-hub>=0.24.0 in /usr/local/lib/python3.11/dist-packages (from datasets) (0.30.2)\n",
            "Requirement already satisfied: packaging in /usr/local/lib/python3.11/dist-packages (from datasets) (24.2)\n",
            "Requirement already satisfied: pyyaml>=5.1 in /usr/local/lib/python3.11/dist-packages (from datasets) (6.0.2)\n",
            "Requirement already satisfied: cryptography in /usr/local/lib/python3.11/dist-packages (from authlib<1.3.2,>=1.2.1->weaviate-client[agents]) (43.0.3)\n",
            "Requirement already satisfied: aiohappyeyeballs>=2.3.0 in /usr/local/lib/python3.11/dist-packages (from aiohttp->datasets) (2.6.1)\n",
            "Requirement already satisfied: aiosignal>=1.1.2 in /usr/local/lib/python3.11/dist-packages (from aiohttp->datasets) (1.3.2)\n",
            "Requirement already satisfied: attrs>=17.3.0 in /usr/local/lib/python3.11/dist-packages (from aiohttp->datasets) (25.3.0)\n",
            "Requirement already satisfied: frozenlist>=1.1.1 in /usr/local/lib/python3.11/dist-packages (from aiohttp->datasets) (1.6.0)\n",
            "Requirement already satisfied: multidict<7.0,>=4.5 in /usr/local/lib/python3.11/dist-packages (from aiohttp->datasets) (6.4.3)\n",
            "Requirement already satisfied: propcache>=0.2.0 in /usr/local/lib/python3.11/dist-packages (from aiohttp->datasets) (0.3.1)\n",
            "Requirement already satisfied: yarl<2.0,>=1.17.0 in /usr/local/lib/python3.11/dist-packages (from aiohttp->datasets) (1.20.0)\n",
            "Requirement already satisfied: protobuf<6.0dev,>=5.26.1 in /usr/local/lib/python3.11/dist-packages (from grpcio-health-checking<2.0.0,>=1.66.2->weaviate-client[agents]) (5.29.4)\n",
            "Requirement already satisfied: setuptools in /usr/local/lib/python3.11/dist-packages (from grpcio-tools<2.0.0,>=1.66.2->weaviate-client[agents]) (75.2.0)\n",
            "Requirement already satisfied: anyio in /usr/local/lib/python3.11/dist-packages (from httpx<0.29.0,>=0.26.0->weaviate-client[agents]) (4.9.0)\n",
            "Requirement already satisfied: certifi in /usr/local/lib/python3.11/dist-packages (from httpx<0.29.0,>=0.26.0->weaviate-client[agents]) (2025.1.31)\n",
            "Requirement already satisfied: httpcore==1.* in /usr/local/lib/python3.11/dist-packages (from httpx<0.29.0,>=0.26.0->weaviate-client[agents]) (1.0.9)\n",
            "Requirement already satisfied: idna in /usr/local/lib/python3.11/dist-packages (from httpx<0.29.0,>=0.26.0->weaviate-client[agents]) (3.10)\n",
            "Requirement already satisfied: h11>=0.16 in /usr/local/lib/python3.11/dist-packages (from httpcore==1.*->httpx<0.29.0,>=0.26.0->weaviate-client[agents]) (0.16.0)\n",
            "Requirement already satisfied: typing-extensions>=3.7.4.3 in /usr/local/lib/python3.11/dist-packages (from huggingface-hub>=0.24.0->datasets) (4.13.2)\n",
            "Requirement already satisfied: annotated-types>=0.6.0 in /usr/local/lib/python3.11/dist-packages (from pydantic<3.0.0,>=2.8.0->weaviate-client[agents]) (0.7.0)\n",
            "Requirement already satisfied: pydantic-core==2.33.1 in /usr/local/lib/python3.11/dist-packages (from pydantic<3.0.0,>=2.8.0->weaviate-client[agents]) (2.33.1)\n",
            "Requirement already satisfied: typing-inspection>=0.4.0 in /usr/local/lib/python3.11/dist-packages (from pydantic<3.0.0,>=2.8.0->weaviate-client[agents]) (0.4.0)\n",
            "Requirement already satisfied: charset-normalizer<4,>=2 in /usr/local/lib/python3.11/dist-packages (from requests>=2.32.2->datasets) (3.4.1)\n",
            "Requirement already satisfied: urllib3<3,>=1.21.1 in /usr/local/lib/python3.11/dist-packages (from requests>=2.32.2->datasets) (2.4.0)\n",
            "Requirement already satisfied: rich>=13.9.4 in /usr/local/lib/python3.11/dist-packages (from weaviate-agents<1.0.0,>=0.3.0->weaviate-client[agents]) (13.9.4)\n",
            "Requirement already satisfied: python-dateutil>=2.8.2 in /usr/local/lib/python3.11/dist-packages (from pandas->datasets) (2.9.0.post0)\n",
            "Requirement already satisfied: pytz>=2020.1 in /usr/local/lib/python3.11/dist-packages (from pandas->datasets) (2025.2)\n",
            "Requirement already satisfied: tzdata>=2022.7 in /usr/local/lib/python3.11/dist-packages (from pandas->datasets) (2025.2)\n",
            "Requirement already satisfied: six>=1.5 in /usr/local/lib/python3.11/dist-packages (from python-dateutil>=2.8.2->pandas->datasets) (1.17.0)\n",
            "Requirement already satisfied: markdown-it-py>=2.2.0 in /usr/local/lib/python3.11/dist-packages (from rich>=13.9.4->weaviate-agents<1.0.0,>=0.3.0->weaviate-client[agents]) (3.0.0)\n",
            "Requirement already satisfied: pygments<3.0.0,>=2.13.0 in /usr/local/lib/python3.11/dist-packages (from rich>=13.9.4->weaviate-agents<1.0.0,>=0.3.0->weaviate-client[agents]) (2.19.1)\n",
            "Requirement already satisfied: sniffio>=1.1 in /usr/local/lib/python3.11/dist-packages (from anyio->httpx<0.29.0,>=0.26.0->weaviate-client[agents]) (1.3.1)\n",
            "Requirement already satisfied: cffi>=1.12 in /usr/local/lib/python3.11/dist-packages (from cryptography->authlib<1.3.2,>=1.2.1->weaviate-client[agents]) (1.17.1)\n",
            "Requirement already satisfied: pycparser in /usr/local/lib/python3.11/dist-packages (from cffi>=1.12->cryptography->authlib<1.3.2,>=1.2.1->weaviate-client[agents]) (2.22)\n",
            "Requirement already satisfied: mdurl~=0.1 in /usr/local/lib/python3.11/dist-packages (from markdown-it-py>=2.2.0->rich>=13.9.4->weaviate-agents<1.0.0,>=0.3.0->weaviate-client[agents]) (0.1.2)\n",
            "Downloading validators-0.34.0-py3-none-any.whl (43 kB)\n",
            "\u001b[2K   \u001b[90m━━━━━━━━━━━━━━━━━━━━━━━━━━━━━━━━━━━━━━━━\u001b[0m \u001b[32m43.5/43.5 kB\u001b[0m \u001b[31m1.3 MB/s\u001b[0m eta \u001b[36m0:00:00\u001b[0m\n",
            "\u001b[?25hDownloading datasets-3.5.1-py3-none-any.whl (491 kB)\n",
            "\u001b[2K   \u001b[90m━━━━━━━━━━━━━━━━━━━━━━━━━━━━━━━━━━━━━━━━\u001b[0m \u001b[32m491.4/491.4 kB\u001b[0m \u001b[31m10.7 MB/s\u001b[0m eta \u001b[36m0:00:00\u001b[0m\n",
            "\u001b[?25hDownloading Authlib-1.3.1-py2.py3-none-any.whl (223 kB)\n",
            "\u001b[2K   \u001b[90m━━━━━━━━━━━━━━━━━━━━━━━━━━━━━━━━━━━━━━━━\u001b[0m \u001b[32m223.8/223.8 kB\u001b[0m \u001b[31m13.4 MB/s\u001b[0m eta \u001b[36m0:00:00\u001b[0m\n",
            "\u001b[?25hDownloading deprecation-2.1.0-py2.py3-none-any.whl (11 kB)\n",
            "Downloading dill-0.3.8-py3-none-any.whl (116 kB)\n",
            "\u001b[2K   \u001b[90m━━━━━━━━━━━━━━━━━━━━━━━━━━━━━━━━━━━━━━━━\u001b[0m \u001b[32m116.3/116.3 kB\u001b[0m \u001b[31m6.8 MB/s\u001b[0m eta \u001b[36m0:00:00\u001b[0m\n",
            "\u001b[?25hDownloading fsspec-2025.3.0-py3-none-any.whl (193 kB)\n",
            "\u001b[2K   \u001b[90m━━━━━━━━━━━━━━━━━━━━━━━━━━━━━━━━━━━━━━━━\u001b[0m \u001b[32m193.6/193.6 kB\u001b[0m \u001b[31m11.3 MB/s\u001b[0m eta \u001b[36m0:00:00\u001b[0m\n",
            "\u001b[?25hDownloading grpcio_health_checking-1.71.0-py3-none-any.whl (18 kB)\n",
            "Downloading grpcio_tools-1.71.0-cp311-cp311-manylinux_2_17_x86_64.manylinux2014_x86_64.whl (2.5 MB)\n",
            "\u001b[2K   \u001b[90m━━━━━━━━━━━━━━━━━━━━━━━━━━━━━━━━━━━━━━━━\u001b[0m \u001b[32m2.5/2.5 MB\u001b[0m \u001b[31m45.1 MB/s\u001b[0m eta \u001b[36m0:00:00\u001b[0m\n",
            "\u001b[?25hDownloading multiprocess-0.70.16-py311-none-any.whl (143 kB)\n",
            "\u001b[2K   \u001b[90m━━━━━━━━━━━━━━━━━━━━━━━━━━━━━━━━━━━━━━━━\u001b[0m \u001b[32m143.5/143.5 kB\u001b[0m \u001b[31m9.3 MB/s\u001b[0m eta \u001b[36m0:00:00\u001b[0m\n",
            "\u001b[?25hDownloading weaviate_agents-0.6.0-py3-none-any.whl (31 kB)\n",
            "Downloading weaviate_client-4.14.1-py3-none-any.whl (442 kB)\n",
            "\u001b[2K   \u001b[90m━━━━━━━━━━━━━━━━━━━━━━━━━━━━━━━━━━━━━━━━\u001b[0m \u001b[32m442.3/442.3 kB\u001b[0m \u001b[31m22.6 MB/s\u001b[0m eta \u001b[36m0:00:00\u001b[0m\n",
            "\u001b[?25hDownloading xxhash-3.5.0-cp311-cp311-manylinux_2_17_x86_64.manylinux2014_x86_64.whl (194 kB)\n",
            "\u001b[2K   \u001b[90m━━━━━━━━━━━━━━━━━━━━━━━━━━━━━━━━━━━━━━━━\u001b[0m \u001b[32m194.8/194.8 kB\u001b[0m \u001b[31m10.8 MB/s\u001b[0m eta \u001b[36m0:00:00\u001b[0m\n",
            "\u001b[?25hInstalling collected packages: xxhash, validators, grpcio-tools, grpcio-health-checking, fsspec, dill, deprecation, multiprocess, authlib, weaviate-client, datasets, weaviate-agents\n",
            "  Attempting uninstall: fsspec\n",
            "    Found existing installation: fsspec 2025.3.2\n",
            "    Uninstalling fsspec-2025.3.2:\n",
            "      Successfully uninstalled fsspec-2025.3.2\n",
            "\u001b[31mERROR: pip's dependency resolver does not currently take into account all the packages that are installed. This behaviour is the source of the following dependency conflicts.\n",
            "torch 2.6.0+cu124 requires nvidia-cublas-cu12==12.4.5.8; platform_system == \"Linux\" and platform_machine == \"x86_64\", but you have nvidia-cublas-cu12 12.5.3.2 which is incompatible.\n",
            "torch 2.6.0+cu124 requires nvidia-cuda-cupti-cu12==12.4.127; platform_system == \"Linux\" and platform_machine == \"x86_64\", but you have nvidia-cuda-cupti-cu12 12.5.82 which is incompatible.\n",
            "torch 2.6.0+cu124 requires nvidia-cuda-nvrtc-cu12==12.4.127; platform_system == \"Linux\" and platform_machine == \"x86_64\", but you have nvidia-cuda-nvrtc-cu12 12.5.82 which is incompatible.\n",
            "torch 2.6.0+cu124 requires nvidia-cuda-runtime-cu12==12.4.127; platform_system == \"Linux\" and platform_machine == \"x86_64\", but you have nvidia-cuda-runtime-cu12 12.5.82 which is incompatible.\n",
            "torch 2.6.0+cu124 requires nvidia-cudnn-cu12==9.1.0.70; platform_system == \"Linux\" and platform_machine == \"x86_64\", but you have nvidia-cudnn-cu12 9.3.0.75 which is incompatible.\n",
            "torch 2.6.0+cu124 requires nvidia-cufft-cu12==11.2.1.3; platform_system == \"Linux\" and platform_machine == \"x86_64\", but you have nvidia-cufft-cu12 11.2.3.61 which is incompatible.\n",
            "torch 2.6.0+cu124 requires nvidia-curand-cu12==10.3.5.147; platform_system == \"Linux\" and platform_machine == \"x86_64\", but you have nvidia-curand-cu12 10.3.6.82 which is incompatible.\n",
            "torch 2.6.0+cu124 requires nvidia-cusolver-cu12==11.6.1.9; platform_system == \"Linux\" and platform_machine == \"x86_64\", but you have nvidia-cusolver-cu12 11.6.3.83 which is incompatible.\n",
            "torch 2.6.0+cu124 requires nvidia-cusparse-cu12==12.3.1.170; platform_system == \"Linux\" and platform_machine == \"x86_64\", but you have nvidia-cusparse-cu12 12.5.1.3 which is incompatible.\n",
            "torch 2.6.0+cu124 requires nvidia-nvjitlink-cu12==12.4.127; platform_system == \"Linux\" and platform_machine == \"x86_64\", but you have nvidia-nvjitlink-cu12 12.5.82 which is incompatible.\n",
            "gcsfs 2025.3.2 requires fsspec==2025.3.2, but you have fsspec 2025.3.0 which is incompatible.\u001b[0m\u001b[31m\n",
            "\u001b[0mSuccessfully installed authlib-1.3.1 datasets-3.5.1 deprecation-2.1.0 dill-0.3.8 fsspec-2025.3.0 grpcio-health-checking-1.71.0 grpcio-tools-1.71.0 multiprocess-0.70.16 validators-0.34.0 weaviate-agents-0.6.0 weaviate-client-4.14.1 xxhash-3.5.0\n"
          ]
        }
      ],
      "source": [
        "!pip install weaviate-client[agents] datasets"
      ]
    },
    {
      "cell_type": "code",
      "execution_count": 2,
      "metadata": {
        "colab": {
          "base_uri": "https://localhost:8080/"
        },
        "id": "WpwpkXXqS2_z",
        "outputId": "63dcb774-fa0c-44ba-92e2-254edb157d26"
      },
      "outputs": [
        {
          "name": "stdout",
          "output_type": "stream",
          "text": [
            "Weaviate API Key··········\n",
            "Weaviate URL··········\n"
          ]
        }
      ],
      "source": [
        "import os\n",
        "from getpass import getpass\n",
        "\n",
        "if \"WEAVIATE_API_KEY\" not in os.environ:\n",
        "  os.environ[\"WEAVIATE_API_KEY\"] = getpass(\"Weaviate API Key\")\n",
        "if \"WEAVIATE_URL\" not in os.environ:\n",
        "  os.environ[\"WEAVIATE_URL\"] = getpass(\"Weaviate URL\")"
      ]
    },
    {
      "cell_type": "code",
      "execution_count": 3,
      "metadata": {
        "id": "7Z5oAapLhSf3"
      },
      "outputs": [],
      "source": [
        "import weaviate\n",
        "from weaviate.auth import Auth\n",
        "\n",
        "client = weaviate.connect_to_weaviate_cloud(\n",
        "    cluster_url=os.environ.get(\"WEAVIATE_URL\"),\n",
        "    auth_credentials=Auth.api_key(os.environ.get(\"WEAVIATE_API_KEY\")),\n",
        ")"
      ]
    },
    {
      "cell_type": "markdown",
      "metadata": {
        "id": "XqbFu9xHMzEU"
      },
      "source": [
        "### Prepare the Collections\n",
        "\n",
        "In the following code blocks, we are pulling our demo datasets from Hugging Face and writing them to new collections in our Weaviate Serverless cluster.\n",
        "\n",
        "> ❗️ The `QueryAgent` uses the descriptions of collections and properties to decide which ones to use when solving queries, and to access more information about properties. You can experiment with changing these descriptions, providing more detail, and more. It's good practice to provide property descriptions too."
      ]
    },
    {
      "cell_type": "code",
      "execution_count": 14,
      "metadata": {
        "colab": {
          "base_uri": "https://localhost:8080/"
        },
        "id": "mS6IfoqyNHPq",
        "outputId": "4ad430ed-55bb-4033-ce8e-df8b727f7eb9"
      },
      "outputs": [
        {
          "output_type": "execute_result",
          "data": {
            "text/plain": [
              "<weaviate.collections.collection.sync.Collection at 0x7f90db8ce650>"
            ]
          },
          "metadata": {},
          "execution_count": 14
        }
      ],
      "source": [
        "from weaviate.classes.config import Configure, Property, DataType\n",
        "\n",
        "# client.collections.delete(\"Movies\")\n",
        "# client.collections.delete(\"Books\")\n",
        "client.collections.create(\n",
        "    \"Books\",\n",
        "    description=\"A dataset that lists books, their author, description and genres\",\n",
        "    vectorizer_config=Configure.Vectorizer.text2vec_weaviate(),\n",
        "    properties=[\n",
        "        Property(name=\"title\", data_type=DataType.TEXT, description=\"title of the book\"),\n",
        "        Property(name=\"author\", data_type=DataType.TEXT, description=\"author of the book\"),\n",
        "        Property(name=\"description\", data_type=DataType.TEXT, description=\"description of the book\"),\n",
        "        Property(name=\"genres\", data_type=DataType.TEXT_ARRAY, description=\"genres of the book\"),\n",
        "      ]\n",
        ")\n",
        "\n",
        "client.collections.create(\n",
        "    \"Movies\",\n",
        "    description=\"A dataset that lists movies, their ratings, original language etc..\",\n",
        "    vectorizer_config=Configure.Vectorizer.text2vec_weaviate(),\n",
        "    properties=[\n",
        "        Property(\n",
        "            name=\"title\",\n",
        "            data_type=DataType.TEXT,\n",
        "            description=\"The title of the movie\",\n",
        "        ),\n",
        "        Property(\n",
        "            name=\"release_date\",\n",
        "            data_type=DataType.TEXT,\n",
        "            description=\"The release date of the movie\",\n",
        "        ),\n",
        "        Property(\n",
        "            name=\"overview\",\n",
        "            data_type=DataType.TEXT,\n",
        "            description=\"Short description of the movie\",\n",
        "        ),\n",
        "        Property(\n",
        "            name=\"genres\",\n",
        "            data_type=DataType.TEXT_ARRAY,\n",
        "            description=\"The genres of the movie\",\n",
        "        ),\n",
        "        Property(\n",
        "            name=\"vote_average\",\n",
        "            data_type=DataType.NUMBER,\n",
        "            description=\"vote average of the movie\",\n",
        "        ),\n",
        "        Property(\n",
        "            name=\"vote_count\",\n",
        "            data_type=DataType.INT,\n",
        "            description=\"vote count of the movie\",\n",
        "        ),\n",
        "        Property(\n",
        "            name=\"popularity\",\n",
        "            data_type=DataType.NUMBER,\n",
        "            description=\"popularity of the movie\",\n",
        "        ),\n",
        "        Property(\n",
        "            name=\"poster_url\",\n",
        "            data_type=DataType.TEXT,\n",
        "            description=\"poster path of the movie\",\n",
        "            skip_vectorization=True,\n",
        "        ),\n",
        "        Property(\n",
        "            name=\"original_language\",\n",
        "            data_type=DataType.TEXT,\n",
        "            description=\"Code of the language of the movie\",\n",
        "            skip_vectorization=True,\n",
        "        ),\n",
        "    ]\n",
        ")\n"
      ]
    },
    {
      "cell_type": "code",
      "execution_count": 15,
      "metadata": {
        "id": "4rbymjtuNbnd",
        "colab": {
          "base_uri": "https://localhost:8080/",
          "height": 176,
          "referenced_widgets": [
            "6896202cd47c4e08a6c694225d79d3c8",
            "8793ce4806ce422488cc7ef6891dfab2",
            "8ec80043fdd14054aa5110b8820331ad",
            "d3934b5e320d4289bf917f0e87a0add6",
            "9220c701e3c14ed784e4b22592f96397",
            "a82c507e26ae479fb7101bc5f11b695d",
            "1d895a0efa934d1ea84fe346f6e1af27",
            "c5f0392c9bc24856930b5235f9f4ab21",
            "89a631b1e27d45c0bb87eec2d5f46db4",
            "506f6f6f3a2f47c087629721c457671b",
            "92644822b1324ab09914d9e78214a5ce"
          ]
        },
        "outputId": "609509a7-2464-4769-bfe4-e2df03a7c1dd"
      },
      "outputs": [
        {
          "output_type": "stream",
          "name": "stderr",
          "text": [
            "/usr/local/lib/python3.11/dist-packages/huggingface_hub/utils/_auth.py:94: UserWarning: \n",
            "The secret `HF_TOKEN` does not exist in your Colab secrets.\n",
            "To authenticate with the Hugging Face Hub, create a token in your settings tab (https://huggingface.co/settings/tokens), set it as secret in your Google Colab and restart your session.\n",
            "You will be able to reuse this secret in all of your notebooks.\n",
            "Please note that authentication is recommended but still optional to access public models or datasets.\n",
            "  warnings.warn(\n"
          ]
        },
        {
          "output_type": "display_data",
          "data": {
            "text/plain": [
              "README.md:   0%|          | 0.00/5.81k [00:00<?, ?B/s]"
            ],
            "application/vnd.jupyter.widget-view+json": {
              "version_major": 2,
              "version_minor": 0,
              "model_id": "6896202cd47c4e08a6c694225d79d3c8"
            }
          },
          "metadata": {}
        }
      ],
      "source": [
        "from datasets import load_dataset\n",
        "\n",
        "# movies_dataset = load_dataset(\"weaviate/agents\", \"personalization-agent-movies\", split=\"train\", streaming=True)\n",
        "# books_dataset = load_dataset(\"weaviate/agents\", \"query-agent-books\", split=\"train\", streaming=True)\n",
        "\n",
        "movies_collection = client.collections.get(\"Movies\")\n",
        "books_collection = client.collections.get(\"Books\")\n",
        "\n",
        "# with movies_collection.batch.dynamic() as batch:\n",
        "#     for item in movies_dataset:\n",
        "#         batch.add_object(properties=item[\"properties\"])\n",
        "\n",
        "# with books_collection.batch.dynamic() as batch:\n",
        "#     for item in books_dataset:\n",
        "#         batch.add_object(properties=item[\"properties\"])"
      ]
    },
    {
      "cell_type": "markdown",
      "metadata": {
        "id": "4H7h-onziDEA"
      },
      "source": [
        "## 2. Set Up the Query Agent\n",
        "\n",
        "Let's start with a simple agent. Here, we're creating an `agent` that has access to our `Books` & `Movies` datasets."
      ]
    },
    {
      "cell_type": "code",
      "execution_count": 16,
      "metadata": {
        "id": "-s6sk4zyiFmh"
      },
      "outputs": [],
      "source": [
        "from weaviate.agents.query import QueryAgent\n",
        "\n",
        "agent = QueryAgent(\n",
        "    client=client, collections=[\"Books\", \"Movies\"],\n",
        ")"
      ]
    },
    {
      "cell_type": "markdown",
      "metadata": {
        "id": "XnJiTt5LiMp-"
      },
      "source": [
        "## 3. Run the Query Agent\n",
        "The `QueryAgent` will determine wither a given query is a regular searcg query (vector search), or whether it requires aggregations, or both."
      ]
    },
    {
      "cell_type": "code",
      "execution_count": 17,
      "metadata": {
        "colab": {
          "base_uri": "https://localhost:8080/",
          "height": 1000
        },
        "id": "2A99656SiOvW",
        "outputId": "fe342ad4-722d-4f5f-f85d-0bfb6754d896"
      },
      "outputs": [
        {
          "output_type": "display_data",
          "data": {
            "text/plain": [
              "╭─────────────────────────────────────────────── 🔍 Original Query ───────────────────────────────────────────────╮\n",
              "│                                                                                                                 │\n",
              "│ What are some good fantasy films that involve elves?                                                            │\n",
              "│                                                                                                                 │\n",
              "╰─────────────────────────────────────────────────────────────────────────────────────────────────────────────────╯\n"
            ],
            "text/html": [
              "<pre style=\"white-space:pre;overflow-x:auto;line-height:normal;font-family:Menlo,'DejaVu Sans Mono',consolas,'Courier New',monospace\">╭─────────────────────────────────────────────── 🔍 Original Query ───────────────────────────────────────────────╮\n",
              "│                                                                                                                 │\n",
              "│ What are some good fantasy films that involve elves?                                                            │\n",
              "│                                                                                                                 │\n",
              "╰─────────────────────────────────────────────────────────────────────────────────────────────────────────────────╯\n",
              "</pre>\n"
            ]
          },
          "metadata": {}
        },
        {
          "output_type": "display_data",
          "data": {
            "text/plain": [
              "\u001b[36m╭─\u001b[0m\u001b[36m───────────────────────────────────────────────\u001b[0m 📝 Final Answer \u001b[36m───────────────────────────────────────────────\u001b[0m\u001b[36m─╮\u001b[0m\n",
              "\u001b[36m│\u001b[0m\u001b[36m                                                                                                                 \u001b[0m\u001b[36m│\u001b[0m\n",
              "\u001b[36m│\u001b[0m\u001b[36m \u001b[0m\u001b[36mHere are some notable fantasy films involving elves that you might enjoy:\u001b[0m\u001b[36m                                      \u001b[0m\u001b[36m \u001b[0m\u001b[36m│\u001b[0m\n",
              "\u001b[36m│\u001b[0m\u001b[36m \u001b[0m\u001b[36m                                                                                                               \u001b[0m\u001b[36m \u001b[0m\u001b[36m│\u001b[0m\n",
              "\u001b[36m│\u001b[0m\u001b[36m \u001b[0m\u001b[36m1. **Throne of Elves (2016)**: Set in the mythical Elven world of Altera, this film features an epic battle \u001b[0m\u001b[36m   \u001b[0m\u001b[36m \u001b[0m\u001b[36m│\u001b[0m\n",
              "\u001b[36m│\u001b[0m\u001b[36m \u001b[0m\u001b[36mbetween Princess Liya and the Dark Elf Elena, who possesses a powerful jewel. (Source 1)\u001b[0m\u001b[36m                       \u001b[0m\u001b[36m \u001b[0m\u001b[36m│\u001b[0m\n",
              "\u001b[36m│\u001b[0m\u001b[36m \u001b[0m\u001b[36m                                                                                                               \u001b[0m\u001b[36m \u001b[0m\u001b[36m│\u001b[0m\n",
              "\u001b[36m│\u001b[0m\u001b[36m \u001b[0m\u001b[36m2. **David and the Elves (2021)**: This family-oriented movie centers around David and an elf named Albert \u001b[0m\u001b[36m    \u001b[0m\u001b[36m \u001b[0m\u001b[36m│\u001b[0m\n",
              "\u001b[36m│\u001b[0m\u001b[36m \u001b[0m\u001b[36membarking on a journey to restore the meaning of Christmas. (Source 2)\u001b[0m\u001b[36m                                         \u001b[0m\u001b[36m \u001b[0m\u001b[36m│\u001b[0m\n",
              "\u001b[36m│\u001b[0m\u001b[36m \u001b[0m\u001b[36m                                                                                                               \u001b[0m\u001b[36m \u001b[0m\u001b[36m│\u001b[0m\n",
              "\u001b[36m│\u001b[0m\u001b[36m \u001b[0m\u001b[36m3. **Dragon Nest: Warriors' Dawn (2014)**: In this story, humans and elves join forces to fight against beasts \u001b[0m\u001b[36m \u001b[0m\u001b[36m│\u001b[0m\n",
              "\u001b[36m│\u001b[0m\u001b[36m \u001b[0m\u001b[36mloyal to a Black Dragon as they try to reach the dragon’s lair. (Source 3)\u001b[0m\u001b[36m                                     \u001b[0m\u001b[36m \u001b[0m\u001b[36m│\u001b[0m\n",
              "\u001b[36m│\u001b[0m\u001b[36m \u001b[0m\u001b[36m                                                                                                               \u001b[0m\u001b[36m \u001b[0m\u001b[36m│\u001b[0m\n",
              "\u001b[36m│\u001b[0m\u001b[36m \u001b[0m\u001b[36m4. **Onward (2020)**: This animated film follows two elf brothers on a quest to find out if there is still \u001b[0m\u001b[36m    \u001b[0m\u001b[36m \u001b[0m\u001b[36m│\u001b[0m\n",
              "\u001b[36m│\u001b[0m\u001b[36m \u001b[0m\u001b[36mmagic left in their world. (Source 5)\u001b[0m\u001b[36m                                                                          \u001b[0m\u001b[36m \u001b[0m\u001b[36m│\u001b[0m\n",
              "\u001b[36m│\u001b[0m\u001b[36m \u001b[0m\u001b[36m                                                                                                               \u001b[0m\u001b[36m \u001b[0m\u001b[36m│\u001b[0m\n",
              "\u001b[36m│\u001b[0m\u001b[36m \u001b[0m\u001b[36m5. **A Boy Called Christmas (2021)**: An extraordinary adventure of a young boy named Nikolas, who searches for\u001b[0m\u001b[36m \u001b[0m\u001b[36m│\u001b[0m\n",
              "\u001b[36m│\u001b[0m\u001b[36m \u001b[0m\u001b[36mthe village of the elves, Elfhelm. (Source 8)\u001b[0m\u001b[36m                                                                  \u001b[0m\u001b[36m \u001b[0m\u001b[36m│\u001b[0m\n",
              "\u001b[36m│\u001b[0m\u001b[36m \u001b[0m\u001b[36m                                                                                                               \u001b[0m\u001b[36m \u001b[0m\u001b[36m│\u001b[0m\n",
              "\u001b[36m│\u001b[0m\u001b[36m \u001b[0m\u001b[36m6. **Ella Enchanted (2004)**: Ella, who has the gift of obedience, embarks on a journey where she encounters \u001b[0m\u001b[36m  \u001b[0m\u001b[36m \u001b[0m\u001b[36m│\u001b[0m\n",
              "\u001b[36m│\u001b[0m\u001b[36m \u001b[0m\u001b[36melves among other magical creatures. (Source 10)\u001b[0m\u001b[36m                                                               \u001b[0m\u001b[36m \u001b[0m\u001b[36m│\u001b[0m\n",
              "\u001b[36m│\u001b[0m\u001b[36m \u001b[0m\u001b[36m                                                                                                               \u001b[0m\u001b[36m \u001b[0m\u001b[36m│\u001b[0m\n",
              "\u001b[36m│\u001b[0m\u001b[36m \u001b[0m\u001b[36m7. **Elf (2003)**: A comedy about Buddy, a human raised by elves in the North Pole, who travels to New York to \u001b[0m\u001b[36m \u001b[0m\u001b[36m│\u001b[0m\n",
              "\u001b[36m│\u001b[0m\u001b[36m \u001b[0m\u001b[36mfind his real father. (Source 11)\u001b[0m\u001b[36m                                                                              \u001b[0m\u001b[36m \u001b[0m\u001b[36m│\u001b[0m\n",
              "\u001b[36m│\u001b[0m\u001b[36m \u001b[0m\u001b[36m                                                                                                               \u001b[0m\u001b[36m \u001b[0m\u001b[36m│\u001b[0m\n",
              "\u001b[36m│\u001b[0m\u001b[36m \u001b[0m\u001b[36m8. **Bright: Samurai Soul (2021)**: In this animated film, a Ronin and an orc escort a young elf girl through a\u001b[0m\u001b[36m \u001b[0m\u001b[36m│\u001b[0m\n",
              "\u001b[36m│\u001b[0m\u001b[36m \u001b[0m\u001b[36mfantasy world. (Source 20)\u001b[0m\u001b[36m                                                                                     \u001b[0m\u001b[36m \u001b[0m\u001b[36m│\u001b[0m\n",
              "\u001b[36m│\u001b[0m\u001b[36m \u001b[0m\u001b[36m                                                                                                               \u001b[0m\u001b[36m \u001b[0m\u001b[36m│\u001b[0m\n",
              "\u001b[36m│\u001b[0m\u001b[36m \u001b[0m\u001b[36mEach of these films offers a unique exploration of fantasy worlds and the intriguing roles that elves play \u001b[0m\u001b[36m    \u001b[0m\u001b[36m \u001b[0m\u001b[36m│\u001b[0m\n",
              "\u001b[36m│\u001b[0m\u001b[36m \u001b[0m\u001b[36mwithin them.\u001b[0m\u001b[36m                                                                                                   \u001b[0m\u001b[36m \u001b[0m\u001b[36m│\u001b[0m\n",
              "\u001b[36m│\u001b[0m\u001b[36m                                                                                                                 \u001b[0m\u001b[36m│\u001b[0m\n",
              "\u001b[36m╰─────────────────────────────────────────────────────────────────────────────────────────────────────────────────╯\u001b[0m\n"
            ],
            "text/html": [
              "<pre style=\"white-space:pre;overflow-x:auto;line-height:normal;font-family:Menlo,'DejaVu Sans Mono',consolas,'Courier New',monospace\"><span style=\"color: #008080; text-decoration-color: #008080\">╭────────────────────────────────────────────────</span> 📝 Final Answer <span style=\"color: #008080; text-decoration-color: #008080\">────────────────────────────────────────────────╮</span>\n",
              "<span style=\"color: #008080; text-decoration-color: #008080\">│                                                                                                                 │</span>\n",
              "<span style=\"color: #008080; text-decoration-color: #008080\">│ Here are some notable fantasy films involving elves that you might enjoy:                                       │</span>\n",
              "<span style=\"color: #008080; text-decoration-color: #008080\">│                                                                                                                 │</span>\n",
              "<span style=\"color: #008080; text-decoration-color: #008080\">│ 1. **Throne of Elves (2016)**: Set in the mythical Elven world of Altera, this film features an epic battle     │</span>\n",
              "<span style=\"color: #008080; text-decoration-color: #008080\">│ between Princess Liya and the Dark Elf Elena, who possesses a powerful jewel. (Source 1)                        │</span>\n",
              "<span style=\"color: #008080; text-decoration-color: #008080\">│                                                                                                                 │</span>\n",
              "<span style=\"color: #008080; text-decoration-color: #008080\">│ 2. **David and the Elves (2021)**: This family-oriented movie centers around David and an elf named Albert      │</span>\n",
              "<span style=\"color: #008080; text-decoration-color: #008080\">│ embarking on a journey to restore the meaning of Christmas. (Source 2)                                          │</span>\n",
              "<span style=\"color: #008080; text-decoration-color: #008080\">│                                                                                                                 │</span>\n",
              "<span style=\"color: #008080; text-decoration-color: #008080\">│ 3. **Dragon Nest: Warriors' Dawn (2014)**: In this story, humans and elves join forces to fight against beasts  │</span>\n",
              "<span style=\"color: #008080; text-decoration-color: #008080\">│ loyal to a Black Dragon as they try to reach the dragon’s lair. (Source 3)                                      │</span>\n",
              "<span style=\"color: #008080; text-decoration-color: #008080\">│                                                                                                                 │</span>\n",
              "<span style=\"color: #008080; text-decoration-color: #008080\">│ 4. **Onward (2020)**: This animated film follows two elf brothers on a quest to find out if there is still      │</span>\n",
              "<span style=\"color: #008080; text-decoration-color: #008080\">│ magic left in their world. (Source 5)                                                                           │</span>\n",
              "<span style=\"color: #008080; text-decoration-color: #008080\">│                                                                                                                 │</span>\n",
              "<span style=\"color: #008080; text-decoration-color: #008080\">│ 5. **A Boy Called Christmas (2021)**: An extraordinary adventure of a young boy named Nikolas, who searches for │</span>\n",
              "<span style=\"color: #008080; text-decoration-color: #008080\">│ the village of the elves, Elfhelm. (Source 8)                                                                   │</span>\n",
              "<span style=\"color: #008080; text-decoration-color: #008080\">│                                                                                                                 │</span>\n",
              "<span style=\"color: #008080; text-decoration-color: #008080\">│ 6. **Ella Enchanted (2004)**: Ella, who has the gift of obedience, embarks on a journey where she encounters    │</span>\n",
              "<span style=\"color: #008080; text-decoration-color: #008080\">│ elves among other magical creatures. (Source 10)                                                                │</span>\n",
              "<span style=\"color: #008080; text-decoration-color: #008080\">│                                                                                                                 │</span>\n",
              "<span style=\"color: #008080; text-decoration-color: #008080\">│ 7. **Elf (2003)**: A comedy about Buddy, a human raised by elves in the North Pole, who travels to New York to  │</span>\n",
              "<span style=\"color: #008080; text-decoration-color: #008080\">│ find his real father. (Source 11)                                                                               │</span>\n",
              "<span style=\"color: #008080; text-decoration-color: #008080\">│                                                                                                                 │</span>\n",
              "<span style=\"color: #008080; text-decoration-color: #008080\">│ 8. **Bright: Samurai Soul (2021)**: In this animated film, a Ronin and an orc escort a young elf girl through a │</span>\n",
              "<span style=\"color: #008080; text-decoration-color: #008080\">│ fantasy world. (Source 20)                                                                                      │</span>\n",
              "<span style=\"color: #008080; text-decoration-color: #008080\">│                                                                                                                 │</span>\n",
              "<span style=\"color: #008080; text-decoration-color: #008080\">│ Each of these films offers a unique exploration of fantasy worlds and the intriguing roles that elves play      │</span>\n",
              "<span style=\"color: #008080; text-decoration-color: #008080\">│ within them.                                                                                                    │</span>\n",
              "<span style=\"color: #008080; text-decoration-color: #008080\">│                                                                                                                 │</span>\n",
              "<span style=\"color: #008080; text-decoration-color: #008080\">╰─────────────────────────────────────────────────────────────────────────────────────────────────────────────────╯</span>\n",
              "</pre>\n"
            ]
          },
          "metadata": {}
        },
        {
          "output_type": "display_data",
          "data": {
            "text/plain": [
              "\u001b[37m╭─\u001b[0m\u001b[37m──────────────────────────────────────────\u001b[0m 🔭 Searches Executed 1/1 \u001b[37m───────────────────────────────────────────\u001b[0m\u001b[37m─╮\u001b[0m\n",
              "\u001b[37m│\u001b[0m\u001b[37m                                                                                                                 \u001b[0m\u001b[37m│\u001b[0m\n",
              "\u001b[37m│\u001b[0m\u001b[37m \u001b[0m\u001b[1;35mQueryResultWithCollection\u001b[0m\u001b[1;37m(\u001b[0m\u001b[37m                                                                                     \u001b[0m\u001b[37m \u001b[0m\u001b[37m│\u001b[0m\n",
              "\u001b[37m│\u001b[0m\u001b[37m \u001b[0m\u001b[37m    \u001b[0m\u001b[33mqueries\u001b[0m\u001b[37m=\u001b[0m\u001b[1;37m[\u001b[0m\u001b[32m'fantasy films elves'\u001b[0m\u001b[1;37m]\u001b[0m\u001b[37m,\u001b[0m\u001b[37m                                                                           \u001b[0m\u001b[37m \u001b[0m\u001b[37m│\u001b[0m\n",
              "\u001b[37m│\u001b[0m\u001b[37m \u001b[0m\u001b[37m    \u001b[0m\u001b[33mfilters\u001b[0m\u001b[37m=\u001b[0m\u001b[1;37m[\u001b[0m\u001b[1;37m[\u001b[0m\u001b[1;37m]\u001b[0m\u001b[1;37m]\u001b[0m\u001b[37m,\u001b[0m\u001b[37m                                                                                              \u001b[0m\u001b[37m \u001b[0m\u001b[37m│\u001b[0m\n",
              "\u001b[37m│\u001b[0m\u001b[37m \u001b[0m\u001b[37m    \u001b[0m\u001b[33mfilter_operators\u001b[0m\u001b[37m=\u001b[0m\u001b[32m'AND'\u001b[0m\u001b[37m,\u001b[0m\u001b[37m                                                                                    \u001b[0m\u001b[37m \u001b[0m\u001b[37m│\u001b[0m\n",
              "\u001b[37m│\u001b[0m\u001b[37m \u001b[0m\u001b[37m    \u001b[0m\u001b[33mcollection\u001b[0m\u001b[37m=\u001b[0m\u001b[32m'Movies'\u001b[0m\u001b[37m                                                                                        \u001b[0m\u001b[37m \u001b[0m\u001b[37m│\u001b[0m\n",
              "\u001b[37m│\u001b[0m\u001b[37m \u001b[0m\u001b[1;37m)\u001b[0m\u001b[37m                                                                                                              \u001b[0m\u001b[37m \u001b[0m\u001b[37m│\u001b[0m\n",
              "\u001b[37m│\u001b[0m\u001b[37m                                                                                                                 \u001b[0m\u001b[37m│\u001b[0m\n",
              "\u001b[37m╰─────────────────────────────────────────────────────────────────────────────────────────────────────────────────╯\u001b[0m\n"
            ],
            "text/html": [
              "<pre style=\"white-space:pre;overflow-x:auto;line-height:normal;font-family:Menlo,'DejaVu Sans Mono',consolas,'Courier New',monospace\"><span style=\"color: #c0c0c0; text-decoration-color: #c0c0c0\">╭───────────────────────────────────────────</span> 🔭 Searches Executed 1/1 <span style=\"color: #c0c0c0; text-decoration-color: #c0c0c0\">────────────────────────────────────────────╮</span>\n",
              "<span style=\"color: #c0c0c0; text-decoration-color: #c0c0c0\">│                                                                                                                 │</span>\n",
              "<span style=\"color: #c0c0c0; text-decoration-color: #c0c0c0\">│ </span><span style=\"color: #800080; text-decoration-color: #800080; font-weight: bold\">QueryResultWithCollection</span><span style=\"color: #c0c0c0; text-decoration-color: #c0c0c0; font-weight: bold\">(</span><span style=\"color: #c0c0c0; text-decoration-color: #c0c0c0\">                                                                                      │</span>\n",
              "<span style=\"color: #c0c0c0; text-decoration-color: #c0c0c0\">│     </span><span style=\"color: #808000; text-decoration-color: #808000\">queries</span><span style=\"color: #c0c0c0; text-decoration-color: #c0c0c0\">=</span><span style=\"color: #c0c0c0; text-decoration-color: #c0c0c0; font-weight: bold\">[</span><span style=\"color: #008000; text-decoration-color: #008000\">'fantasy films elves'</span><span style=\"color: #c0c0c0; text-decoration-color: #c0c0c0; font-weight: bold\">]</span><span style=\"color: #c0c0c0; text-decoration-color: #c0c0c0\">,                                                                            │</span>\n",
              "<span style=\"color: #c0c0c0; text-decoration-color: #c0c0c0\">│     </span><span style=\"color: #808000; text-decoration-color: #808000\">filters</span><span style=\"color: #c0c0c0; text-decoration-color: #c0c0c0\">=</span><span style=\"color: #c0c0c0; text-decoration-color: #c0c0c0; font-weight: bold\">[[]]</span><span style=\"color: #c0c0c0; text-decoration-color: #c0c0c0\">,                                                                                               │</span>\n",
              "<span style=\"color: #c0c0c0; text-decoration-color: #c0c0c0\">│     </span><span style=\"color: #808000; text-decoration-color: #808000\">filter_operators</span><span style=\"color: #c0c0c0; text-decoration-color: #c0c0c0\">=</span><span style=\"color: #008000; text-decoration-color: #008000\">'AND'</span><span style=\"color: #c0c0c0; text-decoration-color: #c0c0c0\">,                                                                                     │</span>\n",
              "<span style=\"color: #c0c0c0; text-decoration-color: #c0c0c0\">│     </span><span style=\"color: #808000; text-decoration-color: #808000\">collection</span><span style=\"color: #c0c0c0; text-decoration-color: #c0c0c0\">=</span><span style=\"color: #008000; text-decoration-color: #008000\">'Movies'</span><span style=\"color: #c0c0c0; text-decoration-color: #c0c0c0\">                                                                                         │</span>\n",
              "<span style=\"color: #c0c0c0; text-decoration-color: #c0c0c0\">│ </span><span style=\"color: #c0c0c0; text-decoration-color: #c0c0c0; font-weight: bold\">)</span><span style=\"color: #c0c0c0; text-decoration-color: #c0c0c0\">                                                                                                               │</span>\n",
              "<span style=\"color: #c0c0c0; text-decoration-color: #c0c0c0\">│                                                                                                                 │</span>\n",
              "<span style=\"color: #c0c0c0; text-decoration-color: #c0c0c0\">╰─────────────────────────────────────────────────────────────────────────────────────────────────────────────────╯</span>\n",
              "</pre>\n"
            ]
          },
          "metadata": {}
        },
        {
          "output_type": "display_data",
          "data": {
            "text/plain": [
              "\u001b[38;5;167m╭─────────────────────────────────────────────────────────────────────────────────────────────────────────────────╮\u001b[0m\n",
              "\u001b[38;5;167m│\u001b[0m\u001b[38;5;167m                                                                                                                 \u001b[0m\u001b[38;5;167m│\u001b[0m\n",
              "\u001b[38;5;167m│\u001b[0m\u001b[38;5;167m \u001b[0m\u001b[38;5;167m📊 No Aggregations Run\u001b[0m\u001b[38;5;167m                                                                                         \u001b[0m\u001b[38;5;167m \u001b[0m\u001b[38;5;167m│\u001b[0m\n",
              "\u001b[38;5;167m│\u001b[0m\u001b[38;5;167m                                                                                                                 \u001b[0m\u001b[38;5;167m│\u001b[0m\n",
              "\u001b[38;5;167m╰─────────────────────────────────────────────────────────────────────────────────────────────────────────────────╯\u001b[0m\n"
            ],
            "text/html": [
              "<pre style=\"white-space:pre;overflow-x:auto;line-height:normal;font-family:Menlo,'DejaVu Sans Mono',consolas,'Courier New',monospace\"><span style=\"color: #d75f5f; text-decoration-color: #d75f5f\">╭─────────────────────────────────────────────────────────────────────────────────────────────────────────────────╮</span>\n",
              "<span style=\"color: #d75f5f; text-decoration-color: #d75f5f\">│                                                                                                                 │</span>\n",
              "<span style=\"color: #d75f5f; text-decoration-color: #d75f5f\">│ 📊 No Aggregations Run                                                                                          │</span>\n",
              "<span style=\"color: #d75f5f; text-decoration-color: #d75f5f\">│                                                                                                                 │</span>\n",
              "<span style=\"color: #d75f5f; text-decoration-color: #d75f5f\">╰─────────────────────────────────────────────────────────────────────────────────────────────────────────────────╯</span>\n",
              "</pre>\n"
            ]
          },
          "metadata": {}
        },
        {
          "output_type": "display_data",
          "data": {
            "text/plain": [
              "\u001b[37m╭─\u001b[0m\u001b[37m─────────────────────────────────────────────────\u001b[0m 📚 Sources \u001b[37m──────────────────────────────────────────────────\u001b[0m\u001b[37m─╮\u001b[0m\n",
              "\u001b[37m│\u001b[0m\u001b[37m                                                                                                                 \u001b[0m\u001b[37m│\u001b[0m\n",
              "\u001b[37m│\u001b[0m\u001b[37m \u001b[0m\u001b[37m - object_id='d6b48e74-b6f9-4fb0-96c9-109e8b431c83' collection='Movies'\u001b[0m\u001b[37m                                        \u001b[0m\u001b[37m \u001b[0m\u001b[37m│\u001b[0m\n",
              "\u001b[37m│\u001b[0m\u001b[37m \u001b[0m\u001b[37m - object_id='58a537df-670e-4d86-9c56-4a6dc9cb3317' collection='Movies'\u001b[0m\u001b[37m                                        \u001b[0m\u001b[37m \u001b[0m\u001b[37m│\u001b[0m\n",
              "\u001b[37m│\u001b[0m\u001b[37m \u001b[0m\u001b[37m - object_id='96982f3c-9847-4b76-a63d-9f3bb859fbf2' collection='Movies'\u001b[0m\u001b[37m                                        \u001b[0m\u001b[37m \u001b[0m\u001b[37m│\u001b[0m\n",
              "\u001b[37m│\u001b[0m\u001b[37m \u001b[0m\u001b[37m - object_id='85ffcd5f-9ce0-4f99-9f79-08d951bd8c4f' collection='Movies'\u001b[0m\u001b[37m                                        \u001b[0m\u001b[37m \u001b[0m\u001b[37m│\u001b[0m\n",
              "\u001b[37m│\u001b[0m\u001b[37m \u001b[0m\u001b[37m - object_id='85b1a40a-dd84-4429-92cf-c64d0a6fa0bf' collection='Movies'\u001b[0m\u001b[37m                                        \u001b[0m\u001b[37m \u001b[0m\u001b[37m│\u001b[0m\n",
              "\u001b[37m│\u001b[0m\u001b[37m \u001b[0m\u001b[37m - object_id='d695b7af-b9c6-4cf2-8f7f-13e3e8b74de8' collection='Movies'\u001b[0m\u001b[37m                                        \u001b[0m\u001b[37m \u001b[0m\u001b[37m│\u001b[0m\n",
              "\u001b[37m│\u001b[0m\u001b[37m \u001b[0m\u001b[37m - object_id='9d296c7e-0556-4213-9630-42952e32fda2' collection='Movies'\u001b[0m\u001b[37m                                        \u001b[0m\u001b[37m \u001b[0m\u001b[37m│\u001b[0m\n",
              "\u001b[37m│\u001b[0m\u001b[37m \u001b[0m\u001b[37m - object_id='6ad13de6-7908-4aa2-8234-e55bae0f8692' collection='Movies'\u001b[0m\u001b[37m                                        \u001b[0m\u001b[37m \u001b[0m\u001b[37m│\u001b[0m\n",
              "\u001b[37m│\u001b[0m\u001b[37m                                                                                                                 \u001b[0m\u001b[37m│\u001b[0m\n",
              "\u001b[37m╰─────────────────────────────────────────────────────────────────────────────────────────────────────────────────╯\u001b[0m\n"
            ],
            "text/html": [
              "<pre style=\"white-space:pre;overflow-x:auto;line-height:normal;font-family:Menlo,'DejaVu Sans Mono',consolas,'Courier New',monospace\"><span style=\"color: #c0c0c0; text-decoration-color: #c0c0c0\">╭──────────────────────────────────────────────────</span> 📚 Sources <span style=\"color: #c0c0c0; text-decoration-color: #c0c0c0\">───────────────────────────────────────────────────╮</span>\n",
              "<span style=\"color: #c0c0c0; text-decoration-color: #c0c0c0\">│                                                                                                                 │</span>\n",
              "<span style=\"color: #c0c0c0; text-decoration-color: #c0c0c0\">│  - object_id='d6b48e74-b6f9-4fb0-96c9-109e8b431c83' collection='Movies'                                         │</span>\n",
              "<span style=\"color: #c0c0c0; text-decoration-color: #c0c0c0\">│  - object_id='58a537df-670e-4d86-9c56-4a6dc9cb3317' collection='Movies'                                         │</span>\n",
              "<span style=\"color: #c0c0c0; text-decoration-color: #c0c0c0\">│  - object_id='96982f3c-9847-4b76-a63d-9f3bb859fbf2' collection='Movies'                                         │</span>\n",
              "<span style=\"color: #c0c0c0; text-decoration-color: #c0c0c0\">│  - object_id='85ffcd5f-9ce0-4f99-9f79-08d951bd8c4f' collection='Movies'                                         │</span>\n",
              "<span style=\"color: #c0c0c0; text-decoration-color: #c0c0c0\">│  - object_id='85b1a40a-dd84-4429-92cf-c64d0a6fa0bf' collection='Movies'                                         │</span>\n",
              "<span style=\"color: #c0c0c0; text-decoration-color: #c0c0c0\">│  - object_id='d695b7af-b9c6-4cf2-8f7f-13e3e8b74de8' collection='Movies'                                         │</span>\n",
              "<span style=\"color: #c0c0c0; text-decoration-color: #c0c0c0\">│  - object_id='9d296c7e-0556-4213-9630-42952e32fda2' collection='Movies'                                         │</span>\n",
              "<span style=\"color: #c0c0c0; text-decoration-color: #c0c0c0\">│  - object_id='6ad13de6-7908-4aa2-8234-e55bae0f8692' collection='Movies'                                         │</span>\n",
              "<span style=\"color: #c0c0c0; text-decoration-color: #c0c0c0\">│                                                                                                                 │</span>\n",
              "<span style=\"color: #c0c0c0; text-decoration-color: #c0c0c0\">╰─────────────────────────────────────────────────────────────────────────────────────────────────────────────────╯</span>\n",
              "</pre>\n"
            ]
          },
          "metadata": {}
        },
        {
          "output_type": "stream",
          "name": "stdout",
          "text": [
            "\n",
            "\n"
          ]
        },
        {
          "output_type": "display_data",
          "data": {
            "text/plain": [
              "\u001b[3m   📊 Usage Statistics   \u001b[0m\n",
              "┌────────────────┬──────┐\n",
              "│ LLM Requests:  │ 3    │\n",
              "│ Input Tokens:  │ 6406 │\n",
              "│ Output Tokens: │ 502  │\n",
              "│ Total Tokens:  │ 6908 │\n",
              "└────────────────┴──────┘\n"
            ],
            "text/html": [
              "<pre style=\"white-space:pre;overflow-x:auto;line-height:normal;font-family:Menlo,'DejaVu Sans Mono',consolas,'Courier New',monospace\"><span style=\"font-style: italic\">   📊 Usage Statistics   </span>\n",
              "┌────────────────┬──────┐\n",
              "│ LLM Requests:  │ 3    │\n",
              "│ Input Tokens:  │ 6406 │\n",
              "│ Output Tokens: │ 502  │\n",
              "│ Total Tokens:  │ 6908 │\n",
              "└────────────────┴──────┘\n",
              "</pre>\n"
            ]
          },
          "metadata": {}
        },
        {
          "output_type": "display_data",
          "data": {
            "text/plain": [
              "\n",
              "\u001b[1;36mTotal Time Taken:\u001b[0m\u001b[36m \u001b[0m\u001b[1;36m12.\u001b[0m\u001b[36m50s\u001b[0m\n"
            ],
            "text/html": [
              "<pre style=\"white-space:pre;overflow-x:auto;line-height:normal;font-family:Menlo,'DejaVu Sans Mono',consolas,'Courier New',monospace\">\n",
              "<span style=\"color: #008080; text-decoration-color: #008080; font-weight: bold\">Total Time Taken:</span><span style=\"color: #008080; text-decoration-color: #008080\"> </span><span style=\"color: #008080; text-decoration-color: #008080; font-weight: bold\">12.</span><span style=\"color: #008080; text-decoration-color: #008080\">50s</span>\n",
              "</pre>\n"
            ]
          },
          "metadata": {}
        }
      ],
      "source": [
        "from weaviate.agents.utils import print_query_agent_response\n",
        "\n",
        "response = agent.run(\"What are some good fantasy films that involve elves?\")\n",
        "response.display()"
      ]
    },
    {
      "cell_type": "markdown",
      "metadata": {
        "id": "RqsUGStI-RC_"
      },
      "source": [
        "### Ask a follow up question\n",
        "\n",
        "The agent can also be provided with additional context. For example, we can provide the previous response as context and get a `new_response`"
      ]
    },
    {
      "cell_type": "code",
      "execution_count": 18,
      "metadata": {
        "colab": {
          "base_uri": "https://localhost:8080/",
          "height": 1000
        },
        "id": "l--e-1HJiQu6",
        "outputId": "3ffe9b2d-e72c-4fd4-e9e2-5bd50027a29a"
      },
      "outputs": [
        {
          "output_type": "display_data",
          "data": {
            "text/plain": [
              "╭─────────────────────────────────────────────── 🔍 Original Query ───────────────────────────────────────────────╮\n",
              "│                                                                                                                 │\n",
              "│ And what are some books with a similar vibe to these films?                                                     │\n",
              "│                                                                                                                 │\n",
              "╰─────────────────────────────────────────────────────────────────────────────────────────────────────────────────╯\n"
            ],
            "text/html": [
              "<pre style=\"white-space:pre;overflow-x:auto;line-height:normal;font-family:Menlo,'DejaVu Sans Mono',consolas,'Courier New',monospace\">╭─────────────────────────────────────────────── 🔍 Original Query ───────────────────────────────────────────────╮\n",
              "│                                                                                                                 │\n",
              "│ And what are some books with a similar vibe to these films?                                                     │\n",
              "│                                                                                                                 │\n",
              "╰─────────────────────────────────────────────────────────────────────────────────────────────────────────────────╯\n",
              "</pre>\n"
            ]
          },
          "metadata": {}
        },
        {
          "output_type": "display_data",
          "data": {
            "text/plain": [
              "\u001b[36m╭─\u001b[0m\u001b[36m───────────────────────────────────────────────\u001b[0m 📝 Final Answer \u001b[36m───────────────────────────────────────────────\u001b[0m\u001b[36m─╮\u001b[0m\n",
              "\u001b[36m│\u001b[0m\u001b[36m                                                                                                                 \u001b[0m\u001b[36m│\u001b[0m\n",
              "\u001b[36m│\u001b[0m\u001b[36m \u001b[0m\u001b[36mHere are some books with a similar fantasy vibe to the films featuring elves:\u001b[0m\u001b[36m                                  \u001b[0m\u001b[36m \u001b[0m\u001b[36m│\u001b[0m\n",
              "\u001b[36m│\u001b[0m\u001b[36m \u001b[0m\u001b[36m                                                                                                               \u001b[0m\u001b[36m \u001b[0m\u001b[36m│\u001b[0m\n",
              "\u001b[36m│\u001b[0m\u001b[36m \u001b[0m\u001b[36m1. **Lark (Lark, #1)** by Erica Cope - This book involves Mia Carrington, who discovers she is the daughter of \u001b[0m\u001b[36m \u001b[0m\u001b[36m│\u001b[0m\n",
              "\u001b[36m│\u001b[0m\u001b[36m \u001b[0m\u001b[36mthe King of the Light Elves. An ominous prophecy predicts that she will unleash the Dark Elves, setting a \u001b[0m\u001b[36m     \u001b[0m\u001b[36m \u001b[0m\u001b[36m│\u001b[0m\n",
              "\u001b[36m│\u001b[0m\u001b[36m \u001b[0m\u001b[36mfantasy adventure in motion with elements of magic and intrigue.\u001b[0m\u001b[36m                                               \u001b[0m\u001b[36m \u001b[0m\u001b[36m│\u001b[0m\n",
              "\u001b[36m│\u001b[0m\u001b[36m \u001b[0m\u001b[36m                                                                                                               \u001b[0m\u001b[36m \u001b[0m\u001b[36m│\u001b[0m\n",
              "\u001b[36m│\u001b[0m\u001b[36m \u001b[0m\u001b[36m2. **The Dark Elf Trilogy Collector's Edition (Forgotten Realms: Dark Elf Trilogy, #1-3; Legend of Drizzt, \u001b[0m\u001b[36m    \u001b[0m\u001b[36m \u001b[0m\u001b[36m│\u001b[0m\n",
              "\u001b[36m│\u001b[0m\u001b[36m \u001b[0m\u001b[36m#1-3)** by R.A. Salvatore - A set of books revolving around elves in the Forgotten Realms universe, combining \u001b[0m\u001b[36m \u001b[0m\u001b[36m \u001b[0m\u001b[36m│\u001b[0m\n",
              "\u001b[36m│\u001b[0m\u001b[36m \u001b[0m\u001b[36mepic fantasy with adventure.\u001b[0m\u001b[36m                                                                                   \u001b[0m\u001b[36m \u001b[0m\u001b[36m│\u001b[0m\n",
              "\u001b[36m│\u001b[0m\u001b[36m \u001b[0m\u001b[36m                                                                                                               \u001b[0m\u001b[36m \u001b[0m\u001b[36m│\u001b[0m\n",
              "\u001b[36m│\u001b[0m\u001b[36m \u001b[0m\u001b[36m3. **The Elf Queen of Shannara** by Terry Brooks - Part of the Shannara series, this book features a quest \u001b[0m\u001b[36m    \u001b[0m\u001b[36m \u001b[0m\u001b[36m│\u001b[0m\n",
              "\u001b[36m│\u001b[0m\u001b[36m \u001b[0m\u001b[36minvolving the search for the missing Elves and contains themes of epic fantasy and magic.\u001b[0m\u001b[36m                      \u001b[0m\u001b[36m \u001b[0m\u001b[36m│\u001b[0m\n",
              "\u001b[36m│\u001b[0m\u001b[36m \u001b[0m\u001b[36m                                                                                                               \u001b[0m\u001b[36m \u001b[0m\u001b[36m│\u001b[0m\n",
              "\u001b[36m│\u001b[0m\u001b[36m \u001b[0m\u001b[36m4. **Blood of Elves (The Witcher, #1)** by Andrzej Sapkowski - In this book, the uneasy peace among humans, \u001b[0m\u001b[36m   \u001b[0m\u001b[36m \u001b[0m\u001b[36m│\u001b[0m\n",
              "\u001b[36m│\u001b[0m\u001b[36m \u001b[0m\u001b[36mdwarves, gnomes, and elves breaks down leading to conflict, aligning with the fantasy settings of films that \u001b[0m\u001b[36m  \u001b[0m\u001b[36m \u001b[0m\u001b[36m│\u001b[0m\n",
              "\u001b[36m│\u001b[0m\u001b[36m \u001b[0m\u001b[36minclude elves.\u001b[0m\u001b[36m                                                                                                 \u001b[0m\u001b[36m \u001b[0m\u001b[36m│\u001b[0m\n",
              "\u001b[36m│\u001b[0m\u001b[36m \u001b[0m\u001b[36m                                                                                                               \u001b[0m\u001b[36m \u001b[0m\u001b[36m│\u001b[0m\n",
              "\u001b[36m│\u001b[0m\u001b[36m \u001b[0m\u001b[36mThese books share elements of epic fantasy, magic, and adventure, similar to the themes found in films \u001b[0m\u001b[36m        \u001b[0m\u001b[36m \u001b[0m\u001b[36m│\u001b[0m\n",
              "\u001b[36m│\u001b[0m\u001b[36m \u001b[0m\u001b[36mfeaturing elves.\u001b[0m\u001b[36m                                                                                               \u001b[0m\u001b[36m \u001b[0m\u001b[36m│\u001b[0m\n",
              "\u001b[36m│\u001b[0m\u001b[36m                                                                                                                 \u001b[0m\u001b[36m│\u001b[0m\n",
              "\u001b[36m╰─────────────────────────────────────────────────────────────────────────────────────────────────────────────────╯\u001b[0m\n"
            ],
            "text/html": [
              "<pre style=\"white-space:pre;overflow-x:auto;line-height:normal;font-family:Menlo,'DejaVu Sans Mono',consolas,'Courier New',monospace\"><span style=\"color: #008080; text-decoration-color: #008080\">╭────────────────────────────────────────────────</span> 📝 Final Answer <span style=\"color: #008080; text-decoration-color: #008080\">────────────────────────────────────────────────╮</span>\n",
              "<span style=\"color: #008080; text-decoration-color: #008080\">│                                                                                                                 │</span>\n",
              "<span style=\"color: #008080; text-decoration-color: #008080\">│ Here are some books with a similar fantasy vibe to the films featuring elves:                                   │</span>\n",
              "<span style=\"color: #008080; text-decoration-color: #008080\">│                                                                                                                 │</span>\n",
              "<span style=\"color: #008080; text-decoration-color: #008080\">│ 1. **Lark (Lark, #1)** by Erica Cope - This book involves Mia Carrington, who discovers she is the daughter of  │</span>\n",
              "<span style=\"color: #008080; text-decoration-color: #008080\">│ the King of the Light Elves. An ominous prophecy predicts that she will unleash the Dark Elves, setting a       │</span>\n",
              "<span style=\"color: #008080; text-decoration-color: #008080\">│ fantasy adventure in motion with elements of magic and intrigue.                                                │</span>\n",
              "<span style=\"color: #008080; text-decoration-color: #008080\">│                                                                                                                 │</span>\n",
              "<span style=\"color: #008080; text-decoration-color: #008080\">│ 2. **The Dark Elf Trilogy Collector's Edition (Forgotten Realms: Dark Elf Trilogy, #1-3; Legend of Drizzt,      │</span>\n",
              "<span style=\"color: #008080; text-decoration-color: #008080\">│ #1-3)** by R.A. Salvatore - A set of books revolving around elves in the Forgotten Realms universe, combining   │</span>\n",
              "<span style=\"color: #008080; text-decoration-color: #008080\">│ epic fantasy with adventure.                                                                                    │</span>\n",
              "<span style=\"color: #008080; text-decoration-color: #008080\">│                                                                                                                 │</span>\n",
              "<span style=\"color: #008080; text-decoration-color: #008080\">│ 3. **The Elf Queen of Shannara** by Terry Brooks - Part of the Shannara series, this book features a quest      │</span>\n",
              "<span style=\"color: #008080; text-decoration-color: #008080\">│ involving the search for the missing Elves and contains themes of epic fantasy and magic.                       │</span>\n",
              "<span style=\"color: #008080; text-decoration-color: #008080\">│                                                                                                                 │</span>\n",
              "<span style=\"color: #008080; text-decoration-color: #008080\">│ 4. **Blood of Elves (The Witcher, #1)** by Andrzej Sapkowski - In this book, the uneasy peace among humans,     │</span>\n",
              "<span style=\"color: #008080; text-decoration-color: #008080\">│ dwarves, gnomes, and elves breaks down leading to conflict, aligning with the fantasy settings of films that    │</span>\n",
              "<span style=\"color: #008080; text-decoration-color: #008080\">│ include elves.                                                                                                  │</span>\n",
              "<span style=\"color: #008080; text-decoration-color: #008080\">│                                                                                                                 │</span>\n",
              "<span style=\"color: #008080; text-decoration-color: #008080\">│ These books share elements of epic fantasy, magic, and adventure, similar to the themes found in films          │</span>\n",
              "<span style=\"color: #008080; text-decoration-color: #008080\">│ featuring elves.                                                                                                │</span>\n",
              "<span style=\"color: #008080; text-decoration-color: #008080\">│                                                                                                                 │</span>\n",
              "<span style=\"color: #008080; text-decoration-color: #008080\">╰─────────────────────────────────────────────────────────────────────────────────────────────────────────────────╯</span>\n",
              "</pre>\n"
            ]
          },
          "metadata": {}
        },
        {
          "output_type": "display_data",
          "data": {
            "text/plain": [
              "\u001b[37m╭─\u001b[0m\u001b[37m──────────────────────────────────────────\u001b[0m 🔭 Searches Executed 1/1 \u001b[37m───────────────────────────────────────────\u001b[0m\u001b[37m─╮\u001b[0m\n",
              "\u001b[37m│\u001b[0m\u001b[37m                                                                                                                 \u001b[0m\u001b[37m│\u001b[0m\n",
              "\u001b[37m│\u001b[0m\u001b[37m \u001b[0m\u001b[1;35mQueryResultWithCollection\u001b[0m\u001b[1;37m(\u001b[0m\u001b[37m                                                                                     \u001b[0m\u001b[37m \u001b[0m\u001b[37m│\u001b[0m\n",
              "\u001b[37m│\u001b[0m\u001b[37m \u001b[0m\u001b[37m    \u001b[0m\u001b[33mqueries\u001b[0m\u001b[37m=\u001b[0m\u001b[1;37m[\u001b[0m\u001b[32m'fantasy books with elves'\u001b[0m\u001b[1;37m]\u001b[0m\u001b[37m,\u001b[0m\u001b[37m                                                                      \u001b[0m\u001b[37m \u001b[0m\u001b[37m│\u001b[0m\n",
              "\u001b[37m│\u001b[0m\u001b[37m \u001b[0m\u001b[37m    \u001b[0m\u001b[33mfilters\u001b[0m\u001b[37m=\u001b[0m\u001b[1;37m[\u001b[0m\u001b[1;37m[\u001b[0m\u001b[1;37m]\u001b[0m\u001b[1;37m]\u001b[0m\u001b[37m,\u001b[0m\u001b[37m                                                                                              \u001b[0m\u001b[37m \u001b[0m\u001b[37m│\u001b[0m\n",
              "\u001b[37m│\u001b[0m\u001b[37m \u001b[0m\u001b[37m    \u001b[0m\u001b[33mfilter_operators\u001b[0m\u001b[37m=\u001b[0m\u001b[32m'AND'\u001b[0m\u001b[37m,\u001b[0m\u001b[37m                                                                                    \u001b[0m\u001b[37m \u001b[0m\u001b[37m│\u001b[0m\n",
              "\u001b[37m│\u001b[0m\u001b[37m \u001b[0m\u001b[37m    \u001b[0m\u001b[33mcollection\u001b[0m\u001b[37m=\u001b[0m\u001b[32m'Books'\u001b[0m\u001b[37m                                                                                         \u001b[0m\u001b[37m \u001b[0m\u001b[37m│\u001b[0m\n",
              "\u001b[37m│\u001b[0m\u001b[37m \u001b[0m\u001b[1;37m)\u001b[0m\u001b[37m                                                                                                              \u001b[0m\u001b[37m \u001b[0m\u001b[37m│\u001b[0m\n",
              "\u001b[37m│\u001b[0m\u001b[37m                                                                                                                 \u001b[0m\u001b[37m│\u001b[0m\n",
              "\u001b[37m╰─────────────────────────────────────────────────────────────────────────────────────────────────────────────────╯\u001b[0m\n"
            ],
            "text/html": [
              "<pre style=\"white-space:pre;overflow-x:auto;line-height:normal;font-family:Menlo,'DejaVu Sans Mono',consolas,'Courier New',monospace\"><span style=\"color: #c0c0c0; text-decoration-color: #c0c0c0\">╭───────────────────────────────────────────</span> 🔭 Searches Executed 1/1 <span style=\"color: #c0c0c0; text-decoration-color: #c0c0c0\">────────────────────────────────────────────╮</span>\n",
              "<span style=\"color: #c0c0c0; text-decoration-color: #c0c0c0\">│                                                                                                                 │</span>\n",
              "<span style=\"color: #c0c0c0; text-decoration-color: #c0c0c0\">│ </span><span style=\"color: #800080; text-decoration-color: #800080; font-weight: bold\">QueryResultWithCollection</span><span style=\"color: #c0c0c0; text-decoration-color: #c0c0c0; font-weight: bold\">(</span><span style=\"color: #c0c0c0; text-decoration-color: #c0c0c0\">                                                                                      │</span>\n",
              "<span style=\"color: #c0c0c0; text-decoration-color: #c0c0c0\">│     </span><span style=\"color: #808000; text-decoration-color: #808000\">queries</span><span style=\"color: #c0c0c0; text-decoration-color: #c0c0c0\">=</span><span style=\"color: #c0c0c0; text-decoration-color: #c0c0c0; font-weight: bold\">[</span><span style=\"color: #008000; text-decoration-color: #008000\">'fantasy books with elves'</span><span style=\"color: #c0c0c0; text-decoration-color: #c0c0c0; font-weight: bold\">]</span><span style=\"color: #c0c0c0; text-decoration-color: #c0c0c0\">,                                                                       │</span>\n",
              "<span style=\"color: #c0c0c0; text-decoration-color: #c0c0c0\">│     </span><span style=\"color: #808000; text-decoration-color: #808000\">filters</span><span style=\"color: #c0c0c0; text-decoration-color: #c0c0c0\">=</span><span style=\"color: #c0c0c0; text-decoration-color: #c0c0c0; font-weight: bold\">[[]]</span><span style=\"color: #c0c0c0; text-decoration-color: #c0c0c0\">,                                                                                               │</span>\n",
              "<span style=\"color: #c0c0c0; text-decoration-color: #c0c0c0\">│     </span><span style=\"color: #808000; text-decoration-color: #808000\">filter_operators</span><span style=\"color: #c0c0c0; text-decoration-color: #c0c0c0\">=</span><span style=\"color: #008000; text-decoration-color: #008000\">'AND'</span><span style=\"color: #c0c0c0; text-decoration-color: #c0c0c0\">,                                                                                     │</span>\n",
              "<span style=\"color: #c0c0c0; text-decoration-color: #c0c0c0\">│     </span><span style=\"color: #808000; text-decoration-color: #808000\">collection</span><span style=\"color: #c0c0c0; text-decoration-color: #c0c0c0\">=</span><span style=\"color: #008000; text-decoration-color: #008000\">'Books'</span><span style=\"color: #c0c0c0; text-decoration-color: #c0c0c0\">                                                                                          │</span>\n",
              "<span style=\"color: #c0c0c0; text-decoration-color: #c0c0c0\">│ </span><span style=\"color: #c0c0c0; text-decoration-color: #c0c0c0; font-weight: bold\">)</span><span style=\"color: #c0c0c0; text-decoration-color: #c0c0c0\">                                                                                                               │</span>\n",
              "<span style=\"color: #c0c0c0; text-decoration-color: #c0c0c0\">│                                                                                                                 │</span>\n",
              "<span style=\"color: #c0c0c0; text-decoration-color: #c0c0c0\">╰─────────────────────────────────────────────────────────────────────────────────────────────────────────────────╯</span>\n",
              "</pre>\n"
            ]
          },
          "metadata": {}
        },
        {
          "output_type": "display_data",
          "data": {
            "text/plain": [
              "\u001b[38;5;167m╭─────────────────────────────────────────────────────────────────────────────────────────────────────────────────╮\u001b[0m\n",
              "\u001b[38;5;167m│\u001b[0m\u001b[38;5;167m                                                                                                                 \u001b[0m\u001b[38;5;167m│\u001b[0m\n",
              "\u001b[38;5;167m│\u001b[0m\u001b[38;5;167m \u001b[0m\u001b[38;5;167m📊 No Aggregations Run\u001b[0m\u001b[38;5;167m                                                                                         \u001b[0m\u001b[38;5;167m \u001b[0m\u001b[38;5;167m│\u001b[0m\n",
              "\u001b[38;5;167m│\u001b[0m\u001b[38;5;167m                                                                                                                 \u001b[0m\u001b[38;5;167m│\u001b[0m\n",
              "\u001b[38;5;167m╰─────────────────────────────────────────────────────────────────────────────────────────────────────────────────╯\u001b[0m\n"
            ],
            "text/html": [
              "<pre style=\"white-space:pre;overflow-x:auto;line-height:normal;font-family:Menlo,'DejaVu Sans Mono',consolas,'Courier New',monospace\"><span style=\"color: #d75f5f; text-decoration-color: #d75f5f\">╭─────────────────────────────────────────────────────────────────────────────────────────────────────────────────╮</span>\n",
              "<span style=\"color: #d75f5f; text-decoration-color: #d75f5f\">│                                                                                                                 │</span>\n",
              "<span style=\"color: #d75f5f; text-decoration-color: #d75f5f\">│ 📊 No Aggregations Run                                                                                          │</span>\n",
              "<span style=\"color: #d75f5f; text-decoration-color: #d75f5f\">│                                                                                                                 │</span>\n",
              "<span style=\"color: #d75f5f; text-decoration-color: #d75f5f\">╰─────────────────────────────────────────────────────────────────────────────────────────────────────────────────╯</span>\n",
              "</pre>\n"
            ]
          },
          "metadata": {}
        },
        {
          "output_type": "display_data",
          "data": {
            "text/plain": [
              "\u001b[37m╭─\u001b[0m\u001b[37m─────────────────────────────────────────────────\u001b[0m 📚 Sources \u001b[37m──────────────────────────────────────────────────\u001b[0m\u001b[37m─╮\u001b[0m\n",
              "\u001b[37m│\u001b[0m\u001b[37m                                                                                                                 \u001b[0m\u001b[37m│\u001b[0m\n",
              "\u001b[37m│\u001b[0m\u001b[37m \u001b[0m\u001b[37m - object_id='5678eb39-b17e-4ccb-b8c0-a00968ce06c4' collection='Books'\u001b[0m\u001b[37m                                         \u001b[0m\u001b[37m \u001b[0m\u001b[37m│\u001b[0m\n",
              "\u001b[37m│\u001b[0m\u001b[37m \u001b[0m\u001b[37m - object_id='37c4b9a1-f19b-412e-b992-5a9d579f3309' collection='Books'\u001b[0m\u001b[37m                                         \u001b[0m\u001b[37m \u001b[0m\u001b[37m│\u001b[0m\n",
              "\u001b[37m│\u001b[0m\u001b[37m \u001b[0m\u001b[37m - object_id='cb11b35b-7c90-415d-b41a-bc24d113e1f5' collection='Books'\u001b[0m\u001b[37m                                         \u001b[0m\u001b[37m \u001b[0m\u001b[37m│\u001b[0m\n",
              "\u001b[37m│\u001b[0m\u001b[37m \u001b[0m\u001b[37m - object_id='277a86af-4872-479b-adc9-ce4e77bee2d8' collection='Books'\u001b[0m\u001b[37m                                         \u001b[0m\u001b[37m \u001b[0m\u001b[37m│\u001b[0m\n",
              "\u001b[37m│\u001b[0m\u001b[37m                                                                                                                 \u001b[0m\u001b[37m│\u001b[0m\n",
              "\u001b[37m╰─────────────────────────────────────────────────────────────────────────────────────────────────────────────────╯\u001b[0m\n"
            ],
            "text/html": [
              "<pre style=\"white-space:pre;overflow-x:auto;line-height:normal;font-family:Menlo,'DejaVu Sans Mono',consolas,'Courier New',monospace\"><span style=\"color: #c0c0c0; text-decoration-color: #c0c0c0\">╭──────────────────────────────────────────────────</span> 📚 Sources <span style=\"color: #c0c0c0; text-decoration-color: #c0c0c0\">───────────────────────────────────────────────────╮</span>\n",
              "<span style=\"color: #c0c0c0; text-decoration-color: #c0c0c0\">│                                                                                                                 │</span>\n",
              "<span style=\"color: #c0c0c0; text-decoration-color: #c0c0c0\">│  - object_id='5678eb39-b17e-4ccb-b8c0-a00968ce06c4' collection='Books'                                          │</span>\n",
              "<span style=\"color: #c0c0c0; text-decoration-color: #c0c0c0\">│  - object_id='37c4b9a1-f19b-412e-b992-5a9d579f3309' collection='Books'                                          │</span>\n",
              "<span style=\"color: #c0c0c0; text-decoration-color: #c0c0c0\">│  - object_id='cb11b35b-7c90-415d-b41a-bc24d113e1f5' collection='Books'                                          │</span>\n",
              "<span style=\"color: #c0c0c0; text-decoration-color: #c0c0c0\">│  - object_id='277a86af-4872-479b-adc9-ce4e77bee2d8' collection='Books'                                          │</span>\n",
              "<span style=\"color: #c0c0c0; text-decoration-color: #c0c0c0\">│                                                                                                                 │</span>\n",
              "<span style=\"color: #c0c0c0; text-decoration-color: #c0c0c0\">╰─────────────────────────────────────────────────────────────────────────────────────────────────────────────────╯</span>\n",
              "</pre>\n"
            ]
          },
          "metadata": {}
        },
        {
          "output_type": "stream",
          "name": "stdout",
          "text": [
            "\n",
            "\n"
          ]
        },
        {
          "output_type": "display_data",
          "data": {
            "text/plain": [
              "\u001b[3m   📊 Usage Statistics    \u001b[0m\n",
              "┌────────────────┬───────┐\n",
              "│ LLM Requests:  │ 4     │\n",
              "│ Input Tokens:  │ 10454 │\n",
              "│ Output Tokens: │ 532   │\n",
              "│ Total Tokens:  │ 10986 │\n",
              "└────────────────┴───────┘\n"
            ],
            "text/html": [
              "<pre style=\"white-space:pre;overflow-x:auto;line-height:normal;font-family:Menlo,'DejaVu Sans Mono',consolas,'Courier New',monospace\"><span style=\"font-style: italic\">   📊 Usage Statistics    </span>\n",
              "┌────────────────┬───────┐\n",
              "│ LLM Requests:  │ 4     │\n",
              "│ Input Tokens:  │ 10454 │\n",
              "│ Output Tokens: │ 532   │\n",
              "│ Total Tokens:  │ 10986 │\n",
              "└────────────────┴───────┘\n",
              "</pre>\n"
            ]
          },
          "metadata": {}
        },
        {
          "output_type": "display_data",
          "data": {
            "text/plain": [
              "\n",
              "\u001b[1;36mTotal Time Taken:\u001b[0m\u001b[36m \u001b[0m\u001b[1;36m15.\u001b[0m\u001b[36m21s\u001b[0m\n"
            ],
            "text/html": [
              "<pre style=\"white-space:pre;overflow-x:auto;line-height:normal;font-family:Menlo,'DejaVu Sans Mono',consolas,'Courier New',monospace\">\n",
              "<span style=\"color: #008080; text-decoration-color: #008080; font-weight: bold\">Total Time Taken:</span><span style=\"color: #008080; text-decoration-color: #008080\"> </span><span style=\"color: #008080; text-decoration-color: #008080; font-weight: bold\">15.</span><span style=\"color: #008080; text-decoration-color: #008080\">21s</span>\n",
              "</pre>\n"
            ]
          },
          "metadata": {}
        }
      ],
      "source": [
        "new_response = agent.run(\"And what are some books with a similar vibe to these films?\", context=response)\n",
        "new_response.display()"
      ]
    },
    {
      "cell_type": "markdown",
      "metadata": {
        "id": "HTUE7S7d_85T"
      },
      "source": [
        "Now let's try a question that sholud require an aggregation. Let's see which author has the most books in our collection."
      ]
    },
    {
      "cell_type": "code",
      "execution_count": 19,
      "metadata": {
        "colab": {
          "base_uri": "https://localhost:8080/",
          "height": 723
        },
        "id": "n5X5wCoYAOdi",
        "outputId": "8f49cf7d-be9c-4bf1-ea38-993c99dbdebc"
      },
      "outputs": [
        {
          "output_type": "display_data",
          "data": {
            "text/plain": [
              "╭─────────────────────────────────────────────── 🔍 Original Query ───────────────────────────────────────────────╮\n",
              "│                                                                                                                 │\n",
              "│ Which author has the most books listed in our collection?                                                       │\n",
              "│                                                                                                                 │\n",
              "╰─────────────────────────────────────────────────────────────────────────────────────────────────────────────────╯\n"
            ],
            "text/html": [
              "<pre style=\"white-space:pre;overflow-x:auto;line-height:normal;font-family:Menlo,'DejaVu Sans Mono',consolas,'Courier New',monospace\">╭─────────────────────────────────────────────── 🔍 Original Query ───────────────────────────────────────────────╮\n",
              "│                                                                                                                 │\n",
              "│ Which author has the most books listed in our collection?                                                       │\n",
              "│                                                                                                                 │\n",
              "╰─────────────────────────────────────────────────────────────────────────────────────────────────────────────────╯\n",
              "</pre>\n"
            ]
          },
          "metadata": {}
        },
        {
          "output_type": "display_data",
          "data": {
            "text/plain": [
              "\u001b[36m╭─\u001b[0m\u001b[36m───────────────────────────────────────────────\u001b[0m 📝 Final Answer \u001b[36m───────────────────────────────────────────────\u001b[0m\u001b[36m─╮\u001b[0m\n",
              "\u001b[36m│\u001b[0m\u001b[36m                                                                                                                 \u001b[0m\u001b[36m│\u001b[0m\n",
              "\u001b[36m│\u001b[0m\u001b[36m \u001b[0m\u001b[36mThe author with the most books listed in the collection is Stephen King, with 57 books.\u001b[0m\u001b[36m                        \u001b[0m\u001b[36m \u001b[0m\u001b[36m│\u001b[0m\n",
              "\u001b[36m│\u001b[0m\u001b[36m                                                                                                                 \u001b[0m\u001b[36m│\u001b[0m\n",
              "\u001b[36m╰─────────────────────────────────────────────────────────────────────────────────────────────────────────────────╯\u001b[0m\n"
            ],
            "text/html": [
              "<pre style=\"white-space:pre;overflow-x:auto;line-height:normal;font-family:Menlo,'DejaVu Sans Mono',consolas,'Courier New',monospace\"><span style=\"color: #008080; text-decoration-color: #008080\">╭────────────────────────────────────────────────</span> 📝 Final Answer <span style=\"color: #008080; text-decoration-color: #008080\">────────────────────────────────────────────────╮</span>\n",
              "<span style=\"color: #008080; text-decoration-color: #008080\">│                                                                                                                 │</span>\n",
              "<span style=\"color: #008080; text-decoration-color: #008080\">│ The author with the most books listed in the collection is Stephen King, with 57 books.                         │</span>\n",
              "<span style=\"color: #008080; text-decoration-color: #008080\">│                                                                                                                 │</span>\n",
              "<span style=\"color: #008080; text-decoration-color: #008080\">╰─────────────────────────────────────────────────────────────────────────────────────────────────────────────────╯</span>\n",
              "</pre>\n"
            ]
          },
          "metadata": {}
        },
        {
          "output_type": "display_data",
          "data": {
            "text/plain": [
              "\u001b[38;5;167m╭─────────────────────────────────────────────────────────────────────────────────────────────────────────────────╮\u001b[0m\n",
              "\u001b[38;5;167m│\u001b[0m\u001b[38;5;167m                                                                                                                 \u001b[0m\u001b[38;5;167m│\u001b[0m\n",
              "\u001b[38;5;167m│\u001b[0m\u001b[38;5;167m \u001b[0m\u001b[38;5;167m🔭 No Searches Run\u001b[0m\u001b[38;5;167m                                                                                             \u001b[0m\u001b[38;5;167m \u001b[0m\u001b[38;5;167m│\u001b[0m\n",
              "\u001b[38;5;167m│\u001b[0m\u001b[38;5;167m                                                                                                                 \u001b[0m\u001b[38;5;167m│\u001b[0m\n",
              "\u001b[38;5;167m╰─────────────────────────────────────────────────────────────────────────────────────────────────────────────────╯\u001b[0m\n"
            ],
            "text/html": [
              "<pre style=\"white-space:pre;overflow-x:auto;line-height:normal;font-family:Menlo,'DejaVu Sans Mono',consolas,'Courier New',monospace\"><span style=\"color: #d75f5f; text-decoration-color: #d75f5f\">╭─────────────────────────────────────────────────────────────────────────────────────────────────────────────────╮</span>\n",
              "<span style=\"color: #d75f5f; text-decoration-color: #d75f5f\">│                                                                                                                 │</span>\n",
              "<span style=\"color: #d75f5f; text-decoration-color: #d75f5f\">│ 🔭 No Searches Run                                                                                              │</span>\n",
              "<span style=\"color: #d75f5f; text-decoration-color: #d75f5f\">│                                                                                                                 │</span>\n",
              "<span style=\"color: #d75f5f; text-decoration-color: #d75f5f\">╰─────────────────────────────────────────────────────────────────────────────────────────────────────────────────╯</span>\n",
              "</pre>\n"
            ]
          },
          "metadata": {}
        },
        {
          "output_type": "display_data",
          "data": {
            "text/plain": [
              "\u001b[37m╭─\u001b[0m\u001b[37m───────────────────────────────────────────\u001b[0m 📊 Aggregations Run 1/1 \u001b[37m───────────────────────────────────────────\u001b[0m\u001b[37m─╮\u001b[0m\n",
              "\u001b[37m│\u001b[0m\u001b[37m                                                                                                                 \u001b[0m\u001b[37m│\u001b[0m\n",
              "\u001b[37m│\u001b[0m\u001b[37m \u001b[0m\u001b[1;35mAggregationResultWithCollection\u001b[0m\u001b[1;37m(\u001b[0m\u001b[37m                                                                               \u001b[0m\u001b[37m \u001b[0m\u001b[37m│\u001b[0m\n",
              "\u001b[37m│\u001b[0m\u001b[37m \u001b[0m\u001b[37m    \u001b[0m\u001b[33msearch_query\u001b[0m\u001b[37m=\u001b[0m\u001b[3;35mNone\u001b[0m\u001b[37m,\u001b[0m\u001b[37m                                                                                         \u001b[0m\u001b[37m \u001b[0m\u001b[37m│\u001b[0m\n",
              "\u001b[37m│\u001b[0m\u001b[37m \u001b[0m\u001b[37m    \u001b[0m\u001b[33mgroupby_property\u001b[0m\u001b[37m=\u001b[0m\u001b[3;35mNone\u001b[0m\u001b[37m,\u001b[0m\u001b[37m                                                                                     \u001b[0m\u001b[37m \u001b[0m\u001b[37m│\u001b[0m\n",
              "\u001b[37m│\u001b[0m\u001b[37m \u001b[0m\u001b[37m    \u001b[0m\u001b[33maggregations\u001b[0m\u001b[37m=\u001b[0m\u001b[1;37m[\u001b[0m\u001b[37m                                                                                             \u001b[0m\u001b[37m \u001b[0m\u001b[37m│\u001b[0m\n",
              "\u001b[37m│\u001b[0m\u001b[37m \u001b[0m\u001b[37m        \u001b[0m\u001b[1;35mTextPropertyAggregation\u001b[0m\u001b[1;37m(\u001b[0m\u001b[37m                                                                               \u001b[0m\u001b[37m \u001b[0m\u001b[37m│\u001b[0m\n",
              "\u001b[37m│\u001b[0m\u001b[37m \u001b[0m\u001b[37m            \u001b[0m\u001b[33mproperty_name\u001b[0m\u001b[37m=\u001b[0m\u001b[32m'author'\u001b[0m\u001b[37m,\u001b[0m\u001b[37m                                                                            \u001b[0m\u001b[37m \u001b[0m\u001b[37m│\u001b[0m\n",
              "\u001b[37m│\u001b[0m\u001b[37m \u001b[0m\u001b[37m            \u001b[0m\u001b[33mmetrics\u001b[0m\u001b[37m=\u001b[0m\u001b[1;37m<\u001b[0m\u001b[1;95mTextMetrics.TOP_OCCURRENCES:\u001b[0m\u001b[39m \u001b[0m\u001b[32m'TOP_OCCURRENCES'\u001b[0m\u001b[1;37m>\u001b[0m\u001b[37m,\u001b[0m\u001b[37m                                          \u001b[0m\u001b[37m \u001b[0m\u001b[37m│\u001b[0m\n",
              "\u001b[37m│\u001b[0m\u001b[37m \u001b[0m\u001b[37m            \u001b[0m\u001b[33mtop_occurrences_limit\u001b[0m\u001b[37m=\u001b[0m\u001b[1;36m1\u001b[0m\u001b[37m                                                                            \u001b[0m\u001b[37m \u001b[0m\u001b[37m│\u001b[0m\n",
              "\u001b[37m│\u001b[0m\u001b[37m \u001b[0m\u001b[37m        \u001b[0m\u001b[1;37m)\u001b[0m\u001b[37m                                                                                                      \u001b[0m\u001b[37m \u001b[0m\u001b[37m│\u001b[0m\n",
              "\u001b[37m│\u001b[0m\u001b[37m \u001b[0m\u001b[37m    \u001b[0m\u001b[1;37m]\u001b[0m\u001b[37m,\u001b[0m\u001b[37m                                                                                                         \u001b[0m\u001b[37m \u001b[0m\u001b[37m│\u001b[0m\n",
              "\u001b[37m│\u001b[0m\u001b[37m \u001b[0m\u001b[37m    \u001b[0m\u001b[33mfilters\u001b[0m\u001b[37m=\u001b[0m\u001b[1;37m[\u001b[0m\u001b[1;37m]\u001b[0m\u001b[37m,\u001b[0m\u001b[37m                                                                                                \u001b[0m\u001b[37m \u001b[0m\u001b[37m│\u001b[0m\n",
              "\u001b[37m│\u001b[0m\u001b[37m \u001b[0m\u001b[37m    \u001b[0m\u001b[33mcollection\u001b[0m\u001b[37m=\u001b[0m\u001b[32m'Books'\u001b[0m\u001b[37m                                                                                         \u001b[0m\u001b[37m \u001b[0m\u001b[37m│\u001b[0m\n",
              "\u001b[37m│\u001b[0m\u001b[37m \u001b[0m\u001b[1;37m)\u001b[0m\u001b[37m                                                                                                              \u001b[0m\u001b[37m \u001b[0m\u001b[37m│\u001b[0m\n",
              "\u001b[37m│\u001b[0m\u001b[37m                                                                                                                 \u001b[0m\u001b[37m│\u001b[0m\n",
              "\u001b[37m╰─────────────────────────────────────────────────────────────────────────────────────────────────────────────────╯\u001b[0m\n"
            ],
            "text/html": [
              "<pre style=\"white-space:pre;overflow-x:auto;line-height:normal;font-family:Menlo,'DejaVu Sans Mono',consolas,'Courier New',monospace\"><span style=\"color: #c0c0c0; text-decoration-color: #c0c0c0\">╭────────────────────────────────────────────</span> 📊 Aggregations Run 1/1 <span style=\"color: #c0c0c0; text-decoration-color: #c0c0c0\">────────────────────────────────────────────╮</span>\n",
              "<span style=\"color: #c0c0c0; text-decoration-color: #c0c0c0\">│                                                                                                                 │</span>\n",
              "<span style=\"color: #c0c0c0; text-decoration-color: #c0c0c0\">│ </span><span style=\"color: #800080; text-decoration-color: #800080; font-weight: bold\">AggregationResultWithCollection</span><span style=\"color: #c0c0c0; text-decoration-color: #c0c0c0; font-weight: bold\">(</span><span style=\"color: #c0c0c0; text-decoration-color: #c0c0c0\">                                                                                │</span>\n",
              "<span style=\"color: #c0c0c0; text-decoration-color: #c0c0c0\">│     </span><span style=\"color: #808000; text-decoration-color: #808000\">search_query</span><span style=\"color: #c0c0c0; text-decoration-color: #c0c0c0\">=</span><span style=\"color: #800080; text-decoration-color: #800080; font-style: italic\">None</span><span style=\"color: #c0c0c0; text-decoration-color: #c0c0c0\">,                                                                                          │</span>\n",
              "<span style=\"color: #c0c0c0; text-decoration-color: #c0c0c0\">│     </span><span style=\"color: #808000; text-decoration-color: #808000\">groupby_property</span><span style=\"color: #c0c0c0; text-decoration-color: #c0c0c0\">=</span><span style=\"color: #800080; text-decoration-color: #800080; font-style: italic\">None</span><span style=\"color: #c0c0c0; text-decoration-color: #c0c0c0\">,                                                                                      │</span>\n",
              "<span style=\"color: #c0c0c0; text-decoration-color: #c0c0c0\">│     </span><span style=\"color: #808000; text-decoration-color: #808000\">aggregations</span><span style=\"color: #c0c0c0; text-decoration-color: #c0c0c0\">=</span><span style=\"color: #c0c0c0; text-decoration-color: #c0c0c0; font-weight: bold\">[</span><span style=\"color: #c0c0c0; text-decoration-color: #c0c0c0\">                                                                                              │</span>\n",
              "<span style=\"color: #c0c0c0; text-decoration-color: #c0c0c0\">│         </span><span style=\"color: #800080; text-decoration-color: #800080; font-weight: bold\">TextPropertyAggregation</span><span style=\"color: #c0c0c0; text-decoration-color: #c0c0c0; font-weight: bold\">(</span><span style=\"color: #c0c0c0; text-decoration-color: #c0c0c0\">                                                                                │</span>\n",
              "<span style=\"color: #c0c0c0; text-decoration-color: #c0c0c0\">│             </span><span style=\"color: #808000; text-decoration-color: #808000\">property_name</span><span style=\"color: #c0c0c0; text-decoration-color: #c0c0c0\">=</span><span style=\"color: #008000; text-decoration-color: #008000\">'author'</span><span style=\"color: #c0c0c0; text-decoration-color: #c0c0c0\">,                                                                             │</span>\n",
              "<span style=\"color: #c0c0c0; text-decoration-color: #c0c0c0\">│             </span><span style=\"color: #808000; text-decoration-color: #808000\">metrics</span><span style=\"color: #c0c0c0; text-decoration-color: #c0c0c0\">=</span><span style=\"color: #c0c0c0; text-decoration-color: #c0c0c0; font-weight: bold\">&lt;</span><span style=\"color: #ff00ff; text-decoration-color: #ff00ff; font-weight: bold\">TextMetrics.TOP_OCCURRENCES:</span><span style=\"color: #000000; text-decoration-color: #000000\"> </span><span style=\"color: #008000; text-decoration-color: #008000\">'TOP_OCCURRENCES'</span><span style=\"color: #c0c0c0; text-decoration-color: #c0c0c0; font-weight: bold\">&gt;</span><span style=\"color: #c0c0c0; text-decoration-color: #c0c0c0\">,                                           │</span>\n",
              "<span style=\"color: #c0c0c0; text-decoration-color: #c0c0c0\">│             </span><span style=\"color: #808000; text-decoration-color: #808000\">top_occurrences_limit</span><span style=\"color: #c0c0c0; text-decoration-color: #c0c0c0\">=</span><span style=\"color: #008080; text-decoration-color: #008080; font-weight: bold\">1</span><span style=\"color: #c0c0c0; text-decoration-color: #c0c0c0\">                                                                             │</span>\n",
              "<span style=\"color: #c0c0c0; text-decoration-color: #c0c0c0\">│         </span><span style=\"color: #c0c0c0; text-decoration-color: #c0c0c0; font-weight: bold\">)</span><span style=\"color: #c0c0c0; text-decoration-color: #c0c0c0\">                                                                                                       │</span>\n",
              "<span style=\"color: #c0c0c0; text-decoration-color: #c0c0c0\">│     </span><span style=\"color: #c0c0c0; text-decoration-color: #c0c0c0; font-weight: bold\">]</span><span style=\"color: #c0c0c0; text-decoration-color: #c0c0c0\">,                                                                                                          │</span>\n",
              "<span style=\"color: #c0c0c0; text-decoration-color: #c0c0c0\">│     </span><span style=\"color: #808000; text-decoration-color: #808000\">filters</span><span style=\"color: #c0c0c0; text-decoration-color: #c0c0c0\">=</span><span style=\"color: #c0c0c0; text-decoration-color: #c0c0c0; font-weight: bold\">[]</span><span style=\"color: #c0c0c0; text-decoration-color: #c0c0c0\">,                                                                                                 │</span>\n",
              "<span style=\"color: #c0c0c0; text-decoration-color: #c0c0c0\">│     </span><span style=\"color: #808000; text-decoration-color: #808000\">collection</span><span style=\"color: #c0c0c0; text-decoration-color: #c0c0c0\">=</span><span style=\"color: #008000; text-decoration-color: #008000\">'Books'</span><span style=\"color: #c0c0c0; text-decoration-color: #c0c0c0\">                                                                                          │</span>\n",
              "<span style=\"color: #c0c0c0; text-decoration-color: #c0c0c0\">│ </span><span style=\"color: #c0c0c0; text-decoration-color: #c0c0c0; font-weight: bold\">)</span><span style=\"color: #c0c0c0; text-decoration-color: #c0c0c0\">                                                                                                               │</span>\n",
              "<span style=\"color: #c0c0c0; text-decoration-color: #c0c0c0\">│                                                                                                                 │</span>\n",
              "<span style=\"color: #c0c0c0; text-decoration-color: #c0c0c0\">╰─────────────────────────────────────────────────────────────────────────────────────────────────────────────────╯</span>\n",
              "</pre>\n"
            ]
          },
          "metadata": {}
        },
        {
          "output_type": "stream",
          "name": "stdout",
          "text": [
            "\n",
            "\n"
          ]
        },
        {
          "output_type": "display_data",
          "data": {
            "text/plain": [
              "\u001b[3m   📊 Usage Statistics   \u001b[0m\n",
              "┌────────────────┬──────┐\n",
              "│ LLM Requests:  │ 3    │\n",
              "│ Input Tokens:  │ 3389 │\n",
              "│ Output Tokens: │ 146  │\n",
              "│ Total Tokens:  │ 3535 │\n",
              "└────────────────┴──────┘\n"
            ],
            "text/html": [
              "<pre style=\"white-space:pre;overflow-x:auto;line-height:normal;font-family:Menlo,'DejaVu Sans Mono',consolas,'Courier New',monospace\"><span style=\"font-style: italic\">   📊 Usage Statistics   </span>\n",
              "┌────────────────┬──────┐\n",
              "│ LLM Requests:  │ 3    │\n",
              "│ Input Tokens:  │ 3389 │\n",
              "│ Output Tokens: │ 146  │\n",
              "│ Total Tokens:  │ 3535 │\n",
              "└────────────────┴──────┘\n",
              "</pre>\n"
            ]
          },
          "metadata": {}
        },
        {
          "output_type": "display_data",
          "data": {
            "text/plain": [
              "\n",
              "\u001b[1;36mTotal Time Taken:\u001b[0m\u001b[36m \u001b[0m\u001b[1;36m4.\u001b[0m\u001b[36m77s\u001b[0m\n"
            ],
            "text/html": [
              "<pre style=\"white-space:pre;overflow-x:auto;line-height:normal;font-family:Menlo,'DejaVu Sans Mono',consolas,'Courier New',monospace\">\n",
              "<span style=\"color: #008080; text-decoration-color: #008080; font-weight: bold\">Total Time Taken:</span><span style=\"color: #008080; text-decoration-color: #008080\"> </span><span style=\"color: #008080; text-decoration-color: #008080; font-weight: bold\">4.</span><span style=\"color: #008080; text-decoration-color: #008080\">77s</span>\n",
              "</pre>\n"
            ]
          },
          "metadata": {}
        }
      ],
      "source": [
        "response = agent.run(\"Which author has the most books listed in our collection?\")\n",
        "response.display()"
      ]
    },
    {
      "cell_type": "code",
      "source": [
        "response = agent.run(\"And are there any films based on this author's books?\", context=response)\n",
        "response.display()"
      ],
      "metadata": {
        "id": "en0RA8ofavWL",
        "outputId": "04dc078f-1153-4306-d0eb-2df7bd24d1f5",
        "colab": {
          "base_uri": "https://localhost:8080/",
          "height": 972
        }
      },
      "execution_count": 20,
      "outputs": [
        {
          "output_type": "display_data",
          "data": {
            "text/plain": [
              "╭─────────────────────────────────────────────── 🔍 Original Query ───────────────────────────────────────────────╮\n",
              "│                                                                                                                 │\n",
              "│ And are there any films based on this author's books?                                                           │\n",
              "│                                                                                                                 │\n",
              "╰─────────────────────────────────────────────────────────────────────────────────────────────────────────────────╯\n"
            ],
            "text/html": [
              "<pre style=\"white-space:pre;overflow-x:auto;line-height:normal;font-family:Menlo,'DejaVu Sans Mono',consolas,'Courier New',monospace\">╭─────────────────────────────────────────────── 🔍 Original Query ───────────────────────────────────────────────╮\n",
              "│                                                                                                                 │\n",
              "│ And are there any films based on this author's books?                                                           │\n",
              "│                                                                                                                 │\n",
              "╰─────────────────────────────────────────────────────────────────────────────────────────────────────────────────╯\n",
              "</pre>\n"
            ]
          },
          "metadata": {}
        },
        {
          "output_type": "display_data",
          "data": {
            "text/plain": [
              "\u001b[36m╭─\u001b[0m\u001b[36m───────────────────────────────────────────────\u001b[0m 📝 Final Answer \u001b[36m───────────────────────────────────────────────\u001b[0m\u001b[36m─╮\u001b[0m\n",
              "\u001b[36m│\u001b[0m\u001b[36m                                                                                                                 \u001b[0m\u001b[36m│\u001b[0m\n",
              "\u001b[36m│\u001b[0m\u001b[36m \u001b[0m\u001b[36mYes, there are several films based on Stephen King's books. Here are a few examples:\u001b[0m\u001b[36m                           \u001b[0m\u001b[36m \u001b[0m\u001b[36m│\u001b[0m\n",
              "\u001b[36m│\u001b[0m\u001b[36m \u001b[0m\u001b[36m                                                                                                               \u001b[0m\u001b[36m \u001b[0m\u001b[36m│\u001b[0m\n",
              "\u001b[36m│\u001b[0m\u001b[36m \u001b[0m\u001b[36m1. **Creepshow (1982)**: Directed by George A. Romero and with a screenplay by Stephen King, this film brings \u001b[0m\u001b[36m \u001b[0m\u001b[36m \u001b[0m\u001b[36m│\u001b[0m\n",
              "\u001b[36m│\u001b[0m\u001b[36m \u001b[0m\u001b[36mfive tales of terror to the screen. It's inspired by the E.C. comics of the 1950s and is a unique collaboration\u001b[0m\u001b[36m \u001b[0m\u001b[36m│\u001b[0m\n",
              "\u001b[36m│\u001b[0m\u001b[36m \u001b[0m\u001b[36mbetween King and Romero, with a mix of horror and comedy.\u001b[0m\u001b[36m                                                      \u001b[0m\u001b[36m \u001b[0m\u001b[36m│\u001b[0m\n",
              "\u001b[36m│\u001b[0m\u001b[36m \u001b[0m\u001b[36m                                                                                                               \u001b[0m\u001b[36m \u001b[0m\u001b[36m│\u001b[0m\n",
              "\u001b[36m│\u001b[0m\u001b[36m \u001b[0m\u001b[36m2. **Big Driver (2014)**: This film is based on a novella by Stephen King. It tells the story of a famous \u001b[0m\u001b[36m     \u001b[0m\u001b[36m \u001b[0m\u001b[36m│\u001b[0m\n",
              "\u001b[36m│\u001b[0m\u001b[36m \u001b[0m\u001b[36mmystery writer who sets out for revenge after a brutal attack, and it's a crime, mystery, and thriller film.\u001b[0m\u001b[36m   \u001b[0m\u001b[36m \u001b[0m\u001b[36m│\u001b[0m\n",
              "\u001b[36m│\u001b[0m\u001b[36m \u001b[0m\u001b[36m                                                                                                               \u001b[0m\u001b[36m \u001b[0m\u001b[36m│\u001b[0m\n",
              "\u001b[36m│\u001b[0m\u001b[36m \u001b[0m\u001b[36m3. **Sometimes They Come Back (1991)**: Adapted from a Stephen King short story, this horror film features a \u001b[0m\u001b[36m  \u001b[0m\u001b[36m \u001b[0m\u001b[36m│\u001b[0m\n",
              "\u001b[36m│\u001b[0m\u001b[36m \u001b[0m\u001b[36mman and his family who return to his hometown, facing harassment from teenagers who died when he was a child.\u001b[0m\u001b[36m  \u001b[0m\u001b[36m \u001b[0m\u001b[36m│\u001b[0m\n",
              "\u001b[36m│\u001b[0m\u001b[36m \u001b[0m\u001b[36m                                                                                                               \u001b[0m\u001b[36m \u001b[0m\u001b[36m│\u001b[0m\n",
              "\u001b[36m│\u001b[0m\u001b[36m \u001b[0m\u001b[36m4. **Cat's Eye (1985)**: A horror-thriller anthology film that adapts three of King's short stories, linked by \u001b[0m\u001b[36m \u001b[0m\u001b[36m│\u001b[0m\n",
              "\u001b[36m│\u001b[0m\u001b[36m \u001b[0m\u001b[36ma stray cat that roams from one tale to the next. Each story presents its own chilling narrative with elements \u001b[0m\u001b[36m \u001b[0m\u001b[36m│\u001b[0m\n",
              "\u001b[36m│\u001b[0m\u001b[36m \u001b[0m\u001b[36mof supernatural intrigue.\u001b[0m\u001b[36m                                                                                      \u001b[0m\u001b[36m \u001b[0m\u001b[36m│\u001b[0m\n",
              "\u001b[36m│\u001b[0m\u001b[36m                                                                                                                 \u001b[0m\u001b[36m│\u001b[0m\n",
              "\u001b[36m╰─────────────────────────────────────────────────────────────────────────────────────────────────────────────────╯\u001b[0m\n"
            ],
            "text/html": [
              "<pre style=\"white-space:pre;overflow-x:auto;line-height:normal;font-family:Menlo,'DejaVu Sans Mono',consolas,'Courier New',monospace\"><span style=\"color: #008080; text-decoration-color: #008080\">╭────────────────────────────────────────────────</span> 📝 Final Answer <span style=\"color: #008080; text-decoration-color: #008080\">────────────────────────────────────────────────╮</span>\n",
              "<span style=\"color: #008080; text-decoration-color: #008080\">│                                                                                                                 │</span>\n",
              "<span style=\"color: #008080; text-decoration-color: #008080\">│ Yes, there are several films based on Stephen King's books. Here are a few examples:                            │</span>\n",
              "<span style=\"color: #008080; text-decoration-color: #008080\">│                                                                                                                 │</span>\n",
              "<span style=\"color: #008080; text-decoration-color: #008080\">│ 1. **Creepshow (1982)**: Directed by George A. Romero and with a screenplay by Stephen King, this film brings   │</span>\n",
              "<span style=\"color: #008080; text-decoration-color: #008080\">│ five tales of terror to the screen. It's inspired by the E.C. comics of the 1950s and is a unique collaboration │</span>\n",
              "<span style=\"color: #008080; text-decoration-color: #008080\">│ between King and Romero, with a mix of horror and comedy.                                                       │</span>\n",
              "<span style=\"color: #008080; text-decoration-color: #008080\">│                                                                                                                 │</span>\n",
              "<span style=\"color: #008080; text-decoration-color: #008080\">│ 2. **Big Driver (2014)**: This film is based on a novella by Stephen King. It tells the story of a famous       │</span>\n",
              "<span style=\"color: #008080; text-decoration-color: #008080\">│ mystery writer who sets out for revenge after a brutal attack, and it's a crime, mystery, and thriller film.    │</span>\n",
              "<span style=\"color: #008080; text-decoration-color: #008080\">│                                                                                                                 │</span>\n",
              "<span style=\"color: #008080; text-decoration-color: #008080\">│ 3. **Sometimes They Come Back (1991)**: Adapted from a Stephen King short story, this horror film features a    │</span>\n",
              "<span style=\"color: #008080; text-decoration-color: #008080\">│ man and his family who return to his hometown, facing harassment from teenagers who died when he was a child.   │</span>\n",
              "<span style=\"color: #008080; text-decoration-color: #008080\">│                                                                                                                 │</span>\n",
              "<span style=\"color: #008080; text-decoration-color: #008080\">│ 4. **Cat's Eye (1985)**: A horror-thriller anthology film that adapts three of King's short stories, linked by  │</span>\n",
              "<span style=\"color: #008080; text-decoration-color: #008080\">│ a stray cat that roams from one tale to the next. Each story presents its own chilling narrative with elements  │</span>\n",
              "<span style=\"color: #008080; text-decoration-color: #008080\">│ of supernatural intrigue.                                                                                       │</span>\n",
              "<span style=\"color: #008080; text-decoration-color: #008080\">│                                                                                                                 │</span>\n",
              "<span style=\"color: #008080; text-decoration-color: #008080\">╰─────────────────────────────────────────────────────────────────────────────────────────────────────────────────╯</span>\n",
              "</pre>\n"
            ]
          },
          "metadata": {}
        },
        {
          "output_type": "display_data",
          "data": {
            "text/plain": [
              "\u001b[37m╭─\u001b[0m\u001b[37m──────────────────────────────────────────\u001b[0m 🔭 Searches Executed 1/1 \u001b[37m───────────────────────────────────────────\u001b[0m\u001b[37m─╮\u001b[0m\n",
              "\u001b[37m│\u001b[0m\u001b[37m                                                                                                                 \u001b[0m\u001b[37m│\u001b[0m\n",
              "\u001b[37m│\u001b[0m\u001b[37m \u001b[0m\u001b[1;35mQueryResultWithCollection\u001b[0m\u001b[1;37m(\u001b[0m\u001b[37m                                                                                     \u001b[0m\u001b[37m \u001b[0m\u001b[37m│\u001b[0m\n",
              "\u001b[37m│\u001b[0m\u001b[37m \u001b[0m\u001b[37m    \u001b[0m\u001b[33mqueries\u001b[0m\u001b[37m=\u001b[0m\u001b[1;37m[\u001b[0m\u001b[32m'films adapted from Stephen King books'\u001b[0m\u001b[1;37m]\u001b[0m\u001b[37m,\u001b[0m\u001b[37m                                                         \u001b[0m\u001b[37m \u001b[0m\u001b[37m│\u001b[0m\n",
              "\u001b[37m│\u001b[0m\u001b[37m \u001b[0m\u001b[37m    \u001b[0m\u001b[33mfilters\u001b[0m\u001b[37m=\u001b[0m\u001b[1;37m[\u001b[0m\u001b[1;37m[\u001b[0m\u001b[1;37m]\u001b[0m\u001b[1;37m]\u001b[0m\u001b[37m,\u001b[0m\u001b[37m                                                                                              \u001b[0m\u001b[37m \u001b[0m\u001b[37m│\u001b[0m\n",
              "\u001b[37m│\u001b[0m\u001b[37m \u001b[0m\u001b[37m    \u001b[0m\u001b[33mfilter_operators\u001b[0m\u001b[37m=\u001b[0m\u001b[32m'AND'\u001b[0m\u001b[37m,\u001b[0m\u001b[37m                                                                                    \u001b[0m\u001b[37m \u001b[0m\u001b[37m│\u001b[0m\n",
              "\u001b[37m│\u001b[0m\u001b[37m \u001b[0m\u001b[37m    \u001b[0m\u001b[33mcollection\u001b[0m\u001b[37m=\u001b[0m\u001b[32m'Movies'\u001b[0m\u001b[37m                                                                                        \u001b[0m\u001b[37m \u001b[0m\u001b[37m│\u001b[0m\n",
              "\u001b[37m│\u001b[0m\u001b[37m \u001b[0m\u001b[1;37m)\u001b[0m\u001b[37m                                                                                                              \u001b[0m\u001b[37m \u001b[0m\u001b[37m│\u001b[0m\n",
              "\u001b[37m│\u001b[0m\u001b[37m                                                                                                                 \u001b[0m\u001b[37m│\u001b[0m\n",
              "\u001b[37m╰─────────────────────────────────────────────────────────────────────────────────────────────────────────────────╯\u001b[0m\n"
            ],
            "text/html": [
              "<pre style=\"white-space:pre;overflow-x:auto;line-height:normal;font-family:Menlo,'DejaVu Sans Mono',consolas,'Courier New',monospace\"><span style=\"color: #c0c0c0; text-decoration-color: #c0c0c0\">╭───────────────────────────────────────────</span> 🔭 Searches Executed 1/1 <span style=\"color: #c0c0c0; text-decoration-color: #c0c0c0\">────────────────────────────────────────────╮</span>\n",
              "<span style=\"color: #c0c0c0; text-decoration-color: #c0c0c0\">│                                                                                                                 │</span>\n",
              "<span style=\"color: #c0c0c0; text-decoration-color: #c0c0c0\">│ </span><span style=\"color: #800080; text-decoration-color: #800080; font-weight: bold\">QueryResultWithCollection</span><span style=\"color: #c0c0c0; text-decoration-color: #c0c0c0; font-weight: bold\">(</span><span style=\"color: #c0c0c0; text-decoration-color: #c0c0c0\">                                                                                      │</span>\n",
              "<span style=\"color: #c0c0c0; text-decoration-color: #c0c0c0\">│     </span><span style=\"color: #808000; text-decoration-color: #808000\">queries</span><span style=\"color: #c0c0c0; text-decoration-color: #c0c0c0\">=</span><span style=\"color: #c0c0c0; text-decoration-color: #c0c0c0; font-weight: bold\">[</span><span style=\"color: #008000; text-decoration-color: #008000\">'films adapted from Stephen King books'</span><span style=\"color: #c0c0c0; text-decoration-color: #c0c0c0; font-weight: bold\">]</span><span style=\"color: #c0c0c0; text-decoration-color: #c0c0c0\">,                                                          │</span>\n",
              "<span style=\"color: #c0c0c0; text-decoration-color: #c0c0c0\">│     </span><span style=\"color: #808000; text-decoration-color: #808000\">filters</span><span style=\"color: #c0c0c0; text-decoration-color: #c0c0c0\">=</span><span style=\"color: #c0c0c0; text-decoration-color: #c0c0c0; font-weight: bold\">[[]]</span><span style=\"color: #c0c0c0; text-decoration-color: #c0c0c0\">,                                                                                               │</span>\n",
              "<span style=\"color: #c0c0c0; text-decoration-color: #c0c0c0\">│     </span><span style=\"color: #808000; text-decoration-color: #808000\">filter_operators</span><span style=\"color: #c0c0c0; text-decoration-color: #c0c0c0\">=</span><span style=\"color: #008000; text-decoration-color: #008000\">'AND'</span><span style=\"color: #c0c0c0; text-decoration-color: #c0c0c0\">,                                                                                     │</span>\n",
              "<span style=\"color: #c0c0c0; text-decoration-color: #c0c0c0\">│     </span><span style=\"color: #808000; text-decoration-color: #808000\">collection</span><span style=\"color: #c0c0c0; text-decoration-color: #c0c0c0\">=</span><span style=\"color: #008000; text-decoration-color: #008000\">'Movies'</span><span style=\"color: #c0c0c0; text-decoration-color: #c0c0c0\">                                                                                         │</span>\n",
              "<span style=\"color: #c0c0c0; text-decoration-color: #c0c0c0\">│ </span><span style=\"color: #c0c0c0; text-decoration-color: #c0c0c0; font-weight: bold\">)</span><span style=\"color: #c0c0c0; text-decoration-color: #c0c0c0\">                                                                                                               │</span>\n",
              "<span style=\"color: #c0c0c0; text-decoration-color: #c0c0c0\">│                                                                                                                 │</span>\n",
              "<span style=\"color: #c0c0c0; text-decoration-color: #c0c0c0\">╰─────────────────────────────────────────────────────────────────────────────────────────────────────────────────╯</span>\n",
              "</pre>\n"
            ]
          },
          "metadata": {}
        },
        {
          "output_type": "display_data",
          "data": {
            "text/plain": [
              "\u001b[38;5;167m╭─────────────────────────────────────────────────────────────────────────────────────────────────────────────────╮\u001b[0m\n",
              "\u001b[38;5;167m│\u001b[0m\u001b[38;5;167m                                                                                                                 \u001b[0m\u001b[38;5;167m│\u001b[0m\n",
              "\u001b[38;5;167m│\u001b[0m\u001b[38;5;167m \u001b[0m\u001b[38;5;167m📊 No Aggregations Run\u001b[0m\u001b[38;5;167m                                                                                         \u001b[0m\u001b[38;5;167m \u001b[0m\u001b[38;5;167m│\u001b[0m\n",
              "\u001b[38;5;167m│\u001b[0m\u001b[38;5;167m                                                                                                                 \u001b[0m\u001b[38;5;167m│\u001b[0m\n",
              "\u001b[38;5;167m╰─────────────────────────────────────────────────────────────────────────────────────────────────────────────────╯\u001b[0m\n"
            ],
            "text/html": [
              "<pre style=\"white-space:pre;overflow-x:auto;line-height:normal;font-family:Menlo,'DejaVu Sans Mono',consolas,'Courier New',monospace\"><span style=\"color: #d75f5f; text-decoration-color: #d75f5f\">╭─────────────────────────────────────────────────────────────────────────────────────────────────────────────────╮</span>\n",
              "<span style=\"color: #d75f5f; text-decoration-color: #d75f5f\">│                                                                                                                 │</span>\n",
              "<span style=\"color: #d75f5f; text-decoration-color: #d75f5f\">│ 📊 No Aggregations Run                                                                                          │</span>\n",
              "<span style=\"color: #d75f5f; text-decoration-color: #d75f5f\">│                                                                                                                 │</span>\n",
              "<span style=\"color: #d75f5f; text-decoration-color: #d75f5f\">╰─────────────────────────────────────────────────────────────────────────────────────────────────────────────────╯</span>\n",
              "</pre>\n"
            ]
          },
          "metadata": {}
        },
        {
          "output_type": "display_data",
          "data": {
            "text/plain": [
              "\u001b[37m╭─\u001b[0m\u001b[37m─────────────────────────────────────────────────\u001b[0m 📚 Sources \u001b[37m──────────────────────────────────────────────────\u001b[0m\u001b[37m─╮\u001b[0m\n",
              "\u001b[37m│\u001b[0m\u001b[37m                                                                                                                 \u001b[0m\u001b[37m│\u001b[0m\n",
              "\u001b[37m│\u001b[0m\u001b[37m \u001b[0m\u001b[37m - object_id='32d5c53f-0768-4cbf-bfc0-18410f72ba29' collection='Movies'\u001b[0m\u001b[37m                                        \u001b[0m\u001b[37m \u001b[0m\u001b[37m│\u001b[0m\n",
              "\u001b[37m│\u001b[0m\u001b[37m \u001b[0m\u001b[37m - object_id='20b016ae-277e-4b03-a89a-202d6e6917df' collection='Movies'\u001b[0m\u001b[37m                                        \u001b[0m\u001b[37m \u001b[0m\u001b[37m│\u001b[0m\n",
              "\u001b[37m│\u001b[0m\u001b[37m \u001b[0m\u001b[37m - object_id='88ddd9d3-f326-41a2-9f8a-2ae199f05c4c' collection='Movies'\u001b[0m\u001b[37m                                        \u001b[0m\u001b[37m \u001b[0m\u001b[37m│\u001b[0m\n",
              "\u001b[37m│\u001b[0m\u001b[37m \u001b[0m\u001b[37m - object_id='3f0db086-c0d2-4ac6-aa2c-ed1870d4e341' collection='Movies'\u001b[0m\u001b[37m                                        \u001b[0m\u001b[37m \u001b[0m\u001b[37m│\u001b[0m\n",
              "\u001b[37m│\u001b[0m\u001b[37m                                                                                                                 \u001b[0m\u001b[37m│\u001b[0m\n",
              "\u001b[37m╰─────────────────────────────────────────────────────────────────────────────────────────────────────────────────╯\u001b[0m\n"
            ],
            "text/html": [
              "<pre style=\"white-space:pre;overflow-x:auto;line-height:normal;font-family:Menlo,'DejaVu Sans Mono',consolas,'Courier New',monospace\"><span style=\"color: #c0c0c0; text-decoration-color: #c0c0c0\">╭──────────────────────────────────────────────────</span> 📚 Sources <span style=\"color: #c0c0c0; text-decoration-color: #c0c0c0\">───────────────────────────────────────────────────╮</span>\n",
              "<span style=\"color: #c0c0c0; text-decoration-color: #c0c0c0\">│                                                                                                                 │</span>\n",
              "<span style=\"color: #c0c0c0; text-decoration-color: #c0c0c0\">│  - object_id='32d5c53f-0768-4cbf-bfc0-18410f72ba29' collection='Movies'                                         │</span>\n",
              "<span style=\"color: #c0c0c0; text-decoration-color: #c0c0c0\">│  - object_id='20b016ae-277e-4b03-a89a-202d6e6917df' collection='Movies'                                         │</span>\n",
              "<span style=\"color: #c0c0c0; text-decoration-color: #c0c0c0\">│  - object_id='88ddd9d3-f326-41a2-9f8a-2ae199f05c4c' collection='Movies'                                         │</span>\n",
              "<span style=\"color: #c0c0c0; text-decoration-color: #c0c0c0\">│  - object_id='3f0db086-c0d2-4ac6-aa2c-ed1870d4e341' collection='Movies'                                         │</span>\n",
              "<span style=\"color: #c0c0c0; text-decoration-color: #c0c0c0\">│                                                                                                                 │</span>\n",
              "<span style=\"color: #c0c0c0; text-decoration-color: #c0c0c0\">╰─────────────────────────────────────────────────────────────────────────────────────────────────────────────────╯</span>\n",
              "</pre>\n"
            ]
          },
          "metadata": {}
        },
        {
          "output_type": "stream",
          "name": "stdout",
          "text": [
            "\n",
            "\n"
          ]
        },
        {
          "output_type": "display_data",
          "data": {
            "text/plain": [
              "\u001b[3m   📊 Usage Statistics   \u001b[0m\n",
              "┌────────────────┬──────┐\n",
              "│ LLM Requests:  │ 4    │\n",
              "│ Input Tokens:  │ 8163 │\n",
              "│ Output Tokens: │ 483  │\n",
              "│ Total Tokens:  │ 8646 │\n",
              "└────────────────┴──────┘\n"
            ],
            "text/html": [
              "<pre style=\"white-space:pre;overflow-x:auto;line-height:normal;font-family:Menlo,'DejaVu Sans Mono',consolas,'Courier New',monospace\"><span style=\"font-style: italic\">   📊 Usage Statistics   </span>\n",
              "┌────────────────┬──────┐\n",
              "│ LLM Requests:  │ 4    │\n",
              "│ Input Tokens:  │ 8163 │\n",
              "│ Output Tokens: │ 483  │\n",
              "│ Total Tokens:  │ 8646 │\n",
              "└────────────────┴──────┘\n",
              "</pre>\n"
            ]
          },
          "metadata": {}
        },
        {
          "output_type": "display_data",
          "data": {
            "text/plain": [
              "\n",
              "\u001b[1;36mTotal Time Taken:\u001b[0m\u001b[36m \u001b[0m\u001b[1;36m12.\u001b[0m\u001b[36m98s\u001b[0m\n"
            ],
            "text/html": [
              "<pre style=\"white-space:pre;overflow-x:auto;line-height:normal;font-family:Menlo,'DejaVu Sans Mono',consolas,'Courier New',monospace\">\n",
              "<span style=\"color: #008080; text-decoration-color: #008080; font-weight: bold\">Total Time Taken:</span><span style=\"color: #008080; text-decoration-color: #008080\"> </span><span style=\"color: #008080; text-decoration-color: #008080; font-weight: bold\">12.</span><span style=\"color: #008080; text-decoration-color: #008080\">98s</span>\n",
              "</pre>\n"
            ]
          },
          "metadata": {}
        }
      ]
    },
    {
      "cell_type": "markdown",
      "metadata": {
        "id": "sl78PHYmBe2s"
      },
      "source": [
        "### Search over multiple collections\n",
        "\n",
        "In some cases, we need to combine the results of searches across multiple collections."
      ]
    },
    {
      "cell_type": "code",
      "execution_count": 23,
      "metadata": {
        "colab": {
          "base_uri": "https://localhost:8080/",
          "height": 1000
        },
        "id": "boJHOMyAttEq",
        "outputId": "5f239a85-920d-4a02-b04f-4717a29e96f8"
      },
      "outputs": [
        {
          "output_type": "display_data",
          "data": {
            "text/plain": [
              "╭─────────────────────────────────────────────── 🔍 Original Query ───────────────────────────────────────────────╮\n",
              "│                                                                                                                 │\n",
              "│ I'm interested in historical fiction books, can you recommend any good ones?Are there any films based on        │\n",
              "│ historical fiction? And on average, what's the original language that they were filmed in?                      │\n",
              "│                                                                                                                 │\n",
              "╰─────────────────────────────────────────────────────────────────────────────────────────────────────────────────╯\n"
            ],
            "text/html": [
              "<pre style=\"white-space:pre;overflow-x:auto;line-height:normal;font-family:Menlo,'DejaVu Sans Mono',consolas,'Courier New',monospace\">╭─────────────────────────────────────────────── 🔍 Original Query ───────────────────────────────────────────────╮\n",
              "│                                                                                                                 │\n",
              "│ I'm interested in historical fiction books, can you recommend any good ones?Are there any films based on        │\n",
              "│ historical fiction? And on average, what's the original language that they were filmed in?                      │\n",
              "│                                                                                                                 │\n",
              "╰─────────────────────────────────────────────────────────────────────────────────────────────────────────────────╯\n",
              "</pre>\n"
            ]
          },
          "metadata": {}
        },
        {
          "output_type": "display_data",
          "data": {
            "text/plain": [
              "\u001b[36m╭─\u001b[0m\u001b[36m───────────────────────────────────────────────\u001b[0m 📝 Final Answer \u001b[36m───────────────────────────────────────────────\u001b[0m\u001b[36m─╮\u001b[0m\n",
              "\u001b[36m│\u001b[0m\u001b[36m                                                                                                                 \u001b[0m\u001b[36m│\u001b[0m\n",
              "\u001b[36m│\u001b[0m\u001b[36m \u001b[0m\u001b[36mIf you're interested in historical fiction books, here are some notable recommendations:\u001b[0m\u001b[36m                       \u001b[0m\u001b[36m \u001b[0m\u001b[36m│\u001b[0m\n",
              "\u001b[36m│\u001b[0m\u001b[36m \u001b[0m\u001b[36m                                                                                                               \u001b[0m\u001b[36m \u001b[0m\u001b[36m│\u001b[0m\n",
              "\u001b[36m│\u001b[0m\u001b[36m \u001b[0m\u001b[36m1. **\"Castles, Customs, and Kings\"** by Debra Brown: This is a compilation of essays offering a rich historical\u001b[0m\u001b[36m \u001b[0m\u001b[36m│\u001b[0m\n",
              "\u001b[36m│\u001b[0m\u001b[36m \u001b[0m\u001b[36mbackdrop, exploring Great Britain's history from Roman times to the early 20th century.\u001b[0m\u001b[36m                        \u001b[0m\u001b[36m \u001b[0m\u001b[36m│\u001b[0m\n",
              "\u001b[36m│\u001b[0m\u001b[36m \u001b[0m\u001b[36m                                                                                                               \u001b[0m\u001b[36m \u001b[0m\u001b[36m│\u001b[0m\n",
              "\u001b[36m│\u001b[0m\u001b[36m \u001b[0m\u001b[36m2. **\"Post Captain\"** by Patrick O'Brian: Part of the Aubrey & Maturin series, this book is acclaimed for its \u001b[0m\u001b[36m \u001b[0m\u001b[36m \u001b[0m\u001b[36m│\u001b[0m\n",
              "\u001b[36m│\u001b[0m\u001b[36m \u001b[0m\u001b[36mdetailed depiction of naval life during the Napoleonic Wars.\u001b[0m\u001b[36m                                                   \u001b[0m\u001b[36m \u001b[0m\u001b[36m│\u001b[0m\n",
              "\u001b[36m│\u001b[0m\u001b[36m \u001b[0m\u001b[36m                                                                                                               \u001b[0m\u001b[36m \u001b[0m\u001b[36m│\u001b[0m\n",
              "\u001b[36m│\u001b[0m\u001b[36m \u001b[0m\u001b[36m3. **\"People of the Book\"** by Geraldine Brooks: This novel traces the journey of a rare manuscript, delving \u001b[0m\u001b[36m  \u001b[0m\u001b[36m \u001b[0m\u001b[36m│\u001b[0m\n",
              "\u001b[36m│\u001b[0m\u001b[36m \u001b[0m\u001b[36minto historical events spanning several centuries.\u001b[0m\u001b[36m                                                             \u001b[0m\u001b[36m \u001b[0m\u001b[36m│\u001b[0m\n",
              "\u001b[36m│\u001b[0m\u001b[36m \u001b[0m\u001b[36m                                                                                                               \u001b[0m\u001b[36m \u001b[0m\u001b[36m│\u001b[0m\n",
              "\u001b[36m│\u001b[0m\u001b[36m \u001b[0m\u001b[36m4. **\"The Shadow of the Wind\"**, **\"The Angel's Game\"**, and **\"The Prisoner of Heaven\"** by Carlos Ruiz Zafón:\u001b[0m\u001b[36m \u001b[0m\u001b[36m│\u001b[0m\n",
              "\u001b[36m│\u001b[0m\u001b[36m \u001b[0m\u001b[36mSet in a post-war Barcelona, these novels intertwine mystery and history within the Cemetery of Forgotten Books\u001b[0m\u001b[36m \u001b[0m\u001b[36m│\u001b[0m\n",
              "\u001b[36m│\u001b[0m\u001b[36m \u001b[0m\u001b[36mseries.\u001b[0m\u001b[36m                                                                                                        \u001b[0m\u001b[36m \u001b[0m\u001b[36m│\u001b[0m\n",
              "\u001b[36m│\u001b[0m\u001b[36m \u001b[0m\u001b[36m                                                                                                               \u001b[0m\u001b[36m \u001b[0m\u001b[36m│\u001b[0m\n",
              "\u001b[36m│\u001b[0m\u001b[36m \u001b[0m\u001b[36mRegarding films based on historical fiction, some notable examples include:\u001b[0m\u001b[36m                                    \u001b[0m\u001b[36m \u001b[0m\u001b[36m│\u001b[0m\n",
              "\u001b[36m│\u001b[0m\u001b[36m \u001b[0m\u001b[36m                                                                                                               \u001b[0m\u001b[36m \u001b[0m\u001b[36m│\u001b[0m\n",
              "\u001b[36m│\u001b[0m\u001b[36m \u001b[0m\u001b[36m- **\"Suffragette\"**: A drama about the early feminist movement.\u001b[0m\u001b[36m                                                \u001b[0m\u001b[36m \u001b[0m\u001b[36m│\u001b[0m\n",
              "\u001b[36m│\u001b[0m\u001b[36m \u001b[0m\u001b[36m- **\"300\"**: A film loosely based on the Battle of Thermopylae.\u001b[0m\u001b[36m                                                \u001b[0m\u001b[36m \u001b[0m\u001b[36m│\u001b[0m\n",
              "\u001b[36m│\u001b[0m\u001b[36m \u001b[0m\u001b[36m- **\"Casualties of War\"**: Depicting events from the Vietnam War.\u001b[0m\u001b[36m                                              \u001b[0m\u001b[36m \u001b[0m\u001b[36m│\u001b[0m\n",
              "\u001b[36m│\u001b[0m\u001b[36m \u001b[0m\u001b[36m- **\"The Warlords\"**: Set amidst the Qing Dynasty, focusing on internal political strife.\u001b[0m\u001b[36m                      \u001b[0m\u001b[36m \u001b[0m\u001b[36m│\u001b[0m\n",
              "\u001b[36m│\u001b[0m\u001b[36m \u001b[0m\u001b[36m                                                                                                               \u001b[0m\u001b[36m \u001b[0m\u001b[36m│\u001b[0m\n",
              "\u001b[36m│\u001b[0m\u001b[36m \u001b[0m\u001b[36mFilms based on historical fiction are predominantly filmed in English, with it being the original language for \u001b[0m\u001b[36m \u001b[0m\u001b[36m│\u001b[0m\n",
              "\u001b[36m│\u001b[0m\u001b[36m \u001b[0m\u001b[36ma vast majority of them.\u001b[0m\u001b[36m                                                                                       \u001b[0m\u001b[36m \u001b[0m\u001b[36m│\u001b[0m\n",
              "\u001b[36m│\u001b[0m\u001b[36m                                                                                                                 \u001b[0m\u001b[36m│\u001b[0m\n",
              "\u001b[36m╰─────────────────────────────────────────────────────────────────────────────────────────────────────────────────╯\u001b[0m\n"
            ],
            "text/html": [
              "<pre style=\"white-space:pre;overflow-x:auto;line-height:normal;font-family:Menlo,'DejaVu Sans Mono',consolas,'Courier New',monospace\"><span style=\"color: #008080; text-decoration-color: #008080\">╭────────────────────────────────────────────────</span> 📝 Final Answer <span style=\"color: #008080; text-decoration-color: #008080\">────────────────────────────────────────────────╮</span>\n",
              "<span style=\"color: #008080; text-decoration-color: #008080\">│                                                                                                                 │</span>\n",
              "<span style=\"color: #008080; text-decoration-color: #008080\">│ If you're interested in historical fiction books, here are some notable recommendations:                        │</span>\n",
              "<span style=\"color: #008080; text-decoration-color: #008080\">│                                                                                                                 │</span>\n",
              "<span style=\"color: #008080; text-decoration-color: #008080\">│ 1. **\"Castles, Customs, and Kings\"** by Debra Brown: This is a compilation of essays offering a rich historical │</span>\n",
              "<span style=\"color: #008080; text-decoration-color: #008080\">│ backdrop, exploring Great Britain's history from Roman times to the early 20th century.                         │</span>\n",
              "<span style=\"color: #008080; text-decoration-color: #008080\">│                                                                                                                 │</span>\n",
              "<span style=\"color: #008080; text-decoration-color: #008080\">│ 2. **\"Post Captain\"** by Patrick O'Brian: Part of the Aubrey &amp; Maturin series, this book is acclaimed for its   │</span>\n",
              "<span style=\"color: #008080; text-decoration-color: #008080\">│ detailed depiction of naval life during the Napoleonic Wars.                                                    │</span>\n",
              "<span style=\"color: #008080; text-decoration-color: #008080\">│                                                                                                                 │</span>\n",
              "<span style=\"color: #008080; text-decoration-color: #008080\">│ 3. **\"People of the Book\"** by Geraldine Brooks: This novel traces the journey of a rare manuscript, delving    │</span>\n",
              "<span style=\"color: #008080; text-decoration-color: #008080\">│ into historical events spanning several centuries.                                                              │</span>\n",
              "<span style=\"color: #008080; text-decoration-color: #008080\">│                                                                                                                 │</span>\n",
              "<span style=\"color: #008080; text-decoration-color: #008080\">│ 4. **\"The Shadow of the Wind\"**, **\"The Angel's Game\"**, and **\"The Prisoner of Heaven\"** by Carlos Ruiz Zafón: │</span>\n",
              "<span style=\"color: #008080; text-decoration-color: #008080\">│ Set in a post-war Barcelona, these novels intertwine mystery and history within the Cemetery of Forgotten Books │</span>\n",
              "<span style=\"color: #008080; text-decoration-color: #008080\">│ series.                                                                                                         │</span>\n",
              "<span style=\"color: #008080; text-decoration-color: #008080\">│                                                                                                                 │</span>\n",
              "<span style=\"color: #008080; text-decoration-color: #008080\">│ Regarding films based on historical fiction, some notable examples include:                                     │</span>\n",
              "<span style=\"color: #008080; text-decoration-color: #008080\">│                                                                                                                 │</span>\n",
              "<span style=\"color: #008080; text-decoration-color: #008080\">│ - **\"Suffragette\"**: A drama about the early feminist movement.                                                 │</span>\n",
              "<span style=\"color: #008080; text-decoration-color: #008080\">│ - **\"300\"**: A film loosely based on the Battle of Thermopylae.                                                 │</span>\n",
              "<span style=\"color: #008080; text-decoration-color: #008080\">│ - **\"Casualties of War\"**: Depicting events from the Vietnam War.                                               │</span>\n",
              "<span style=\"color: #008080; text-decoration-color: #008080\">│ - **\"The Warlords\"**: Set amidst the Qing Dynasty, focusing on internal political strife.                       │</span>\n",
              "<span style=\"color: #008080; text-decoration-color: #008080\">│                                                                                                                 │</span>\n",
              "<span style=\"color: #008080; text-decoration-color: #008080\">│ Films based on historical fiction are predominantly filmed in English, with it being the original language for  │</span>\n",
              "<span style=\"color: #008080; text-decoration-color: #008080\">│ a vast majority of them.                                                                                        │</span>\n",
              "<span style=\"color: #008080; text-decoration-color: #008080\">│                                                                                                                 │</span>\n",
              "<span style=\"color: #008080; text-decoration-color: #008080\">╰─────────────────────────────────────────────────────────────────────────────────────────────────────────────────╯</span>\n",
              "</pre>\n"
            ]
          },
          "metadata": {}
        },
        {
          "output_type": "display_data",
          "data": {
            "text/plain": [
              "\u001b[37m╭─\u001b[0m\u001b[37m──────────────────────────────────────────\u001b[0m 🔭 Searches Executed 1/2 \u001b[37m───────────────────────────────────────────\u001b[0m\u001b[37m─╮\u001b[0m\n",
              "\u001b[37m│\u001b[0m\u001b[37m                                                                                                                 \u001b[0m\u001b[37m│\u001b[0m\n",
              "\u001b[37m│\u001b[0m\u001b[37m \u001b[0m\u001b[1;35mQueryResultWithCollection\u001b[0m\u001b[1;37m(\u001b[0m\u001b[37m                                                                                     \u001b[0m\u001b[37m \u001b[0m\u001b[37m│\u001b[0m\n",
              "\u001b[37m│\u001b[0m\u001b[37m \u001b[0m\u001b[37m    \u001b[0m\u001b[33mqueries\u001b[0m\u001b[37m=\u001b[0m\u001b[1;37m[\u001b[0m\u001b[32m'historical fiction books'\u001b[0m\u001b[1;37m]\u001b[0m\u001b[37m,\u001b[0m\u001b[37m                                                                      \u001b[0m\u001b[37m \u001b[0m\u001b[37m│\u001b[0m\n",
              "\u001b[37m│\u001b[0m\u001b[37m \u001b[0m\u001b[37m    \u001b[0m\u001b[33mfilters\u001b[0m\u001b[37m=\u001b[0m\u001b[1;37m[\u001b[0m\u001b[1;37m[\u001b[0m\u001b[1;37m]\u001b[0m\u001b[1;37m]\u001b[0m\u001b[37m,\u001b[0m\u001b[37m                                                                                              \u001b[0m\u001b[37m \u001b[0m\u001b[37m│\u001b[0m\n",
              "\u001b[37m│\u001b[0m\u001b[37m \u001b[0m\u001b[37m    \u001b[0m\u001b[33mfilter_operators\u001b[0m\u001b[37m=\u001b[0m\u001b[32m'AND'\u001b[0m\u001b[37m,\u001b[0m\u001b[37m                                                                                    \u001b[0m\u001b[37m \u001b[0m\u001b[37m│\u001b[0m\n",
              "\u001b[37m│\u001b[0m\u001b[37m \u001b[0m\u001b[37m    \u001b[0m\u001b[33mcollection\u001b[0m\u001b[37m=\u001b[0m\u001b[32m'Books'\u001b[0m\u001b[37m                                                                                         \u001b[0m\u001b[37m \u001b[0m\u001b[37m│\u001b[0m\n",
              "\u001b[37m│\u001b[0m\u001b[37m \u001b[0m\u001b[1;37m)\u001b[0m\u001b[37m                                                                                                              \u001b[0m\u001b[37m \u001b[0m\u001b[37m│\u001b[0m\n",
              "\u001b[37m│\u001b[0m\u001b[37m                                                                                                                 \u001b[0m\u001b[37m│\u001b[0m\n",
              "\u001b[37m╰─────────────────────────────────────────────────────────────────────────────────────────────────────────────────╯\u001b[0m\n"
            ],
            "text/html": [
              "<pre style=\"white-space:pre;overflow-x:auto;line-height:normal;font-family:Menlo,'DejaVu Sans Mono',consolas,'Courier New',monospace\"><span style=\"color: #c0c0c0; text-decoration-color: #c0c0c0\">╭───────────────────────────────────────────</span> 🔭 Searches Executed 1/2 <span style=\"color: #c0c0c0; text-decoration-color: #c0c0c0\">────────────────────────────────────────────╮</span>\n",
              "<span style=\"color: #c0c0c0; text-decoration-color: #c0c0c0\">│                                                                                                                 │</span>\n",
              "<span style=\"color: #c0c0c0; text-decoration-color: #c0c0c0\">│ </span><span style=\"color: #800080; text-decoration-color: #800080; font-weight: bold\">QueryResultWithCollection</span><span style=\"color: #c0c0c0; text-decoration-color: #c0c0c0; font-weight: bold\">(</span><span style=\"color: #c0c0c0; text-decoration-color: #c0c0c0\">                                                                                      │</span>\n",
              "<span style=\"color: #c0c0c0; text-decoration-color: #c0c0c0\">│     </span><span style=\"color: #808000; text-decoration-color: #808000\">queries</span><span style=\"color: #c0c0c0; text-decoration-color: #c0c0c0\">=</span><span style=\"color: #c0c0c0; text-decoration-color: #c0c0c0; font-weight: bold\">[</span><span style=\"color: #008000; text-decoration-color: #008000\">'historical fiction books'</span><span style=\"color: #c0c0c0; text-decoration-color: #c0c0c0; font-weight: bold\">]</span><span style=\"color: #c0c0c0; text-decoration-color: #c0c0c0\">,                                                                       │</span>\n",
              "<span style=\"color: #c0c0c0; text-decoration-color: #c0c0c0\">│     </span><span style=\"color: #808000; text-decoration-color: #808000\">filters</span><span style=\"color: #c0c0c0; text-decoration-color: #c0c0c0\">=</span><span style=\"color: #c0c0c0; text-decoration-color: #c0c0c0; font-weight: bold\">[[]]</span><span style=\"color: #c0c0c0; text-decoration-color: #c0c0c0\">,                                                                                               │</span>\n",
              "<span style=\"color: #c0c0c0; text-decoration-color: #c0c0c0\">│     </span><span style=\"color: #808000; text-decoration-color: #808000\">filter_operators</span><span style=\"color: #c0c0c0; text-decoration-color: #c0c0c0\">=</span><span style=\"color: #008000; text-decoration-color: #008000\">'AND'</span><span style=\"color: #c0c0c0; text-decoration-color: #c0c0c0\">,                                                                                     │</span>\n",
              "<span style=\"color: #c0c0c0; text-decoration-color: #c0c0c0\">│     </span><span style=\"color: #808000; text-decoration-color: #808000\">collection</span><span style=\"color: #c0c0c0; text-decoration-color: #c0c0c0\">=</span><span style=\"color: #008000; text-decoration-color: #008000\">'Books'</span><span style=\"color: #c0c0c0; text-decoration-color: #c0c0c0\">                                                                                          │</span>\n",
              "<span style=\"color: #c0c0c0; text-decoration-color: #c0c0c0\">│ </span><span style=\"color: #c0c0c0; text-decoration-color: #c0c0c0; font-weight: bold\">)</span><span style=\"color: #c0c0c0; text-decoration-color: #c0c0c0\">                                                                                                               │</span>\n",
              "<span style=\"color: #c0c0c0; text-decoration-color: #c0c0c0\">│                                                                                                                 │</span>\n",
              "<span style=\"color: #c0c0c0; text-decoration-color: #c0c0c0\">╰─────────────────────────────────────────────────────────────────────────────────────────────────────────────────╯</span>\n",
              "</pre>\n"
            ]
          },
          "metadata": {}
        },
        {
          "output_type": "display_data",
          "data": {
            "text/plain": [
              "\u001b[37m╭─\u001b[0m\u001b[37m──────────────────────────────────────────\u001b[0m 🔭 Searches Executed 2/2 \u001b[37m───────────────────────────────────────────\u001b[0m\u001b[37m─╮\u001b[0m\n",
              "\u001b[37m│\u001b[0m\u001b[37m                                                                                                                 \u001b[0m\u001b[37m│\u001b[0m\n",
              "\u001b[37m│\u001b[0m\u001b[37m \u001b[0m\u001b[1;35mQueryResultWithCollection\u001b[0m\u001b[1;37m(\u001b[0m\u001b[37m                                                                                     \u001b[0m\u001b[37m \u001b[0m\u001b[37m│\u001b[0m\n",
              "\u001b[37m│\u001b[0m\u001b[37m \u001b[0m\u001b[37m    \u001b[0m\u001b[33mqueries\u001b[0m\u001b[37m=\u001b[0m\u001b[1;37m[\u001b[0m\u001b[32m'films based on historical fiction'\u001b[0m\u001b[1;37m]\u001b[0m\u001b[37m,\u001b[0m\u001b[37m                                                             \u001b[0m\u001b[37m \u001b[0m\u001b[37m│\u001b[0m\n",
              "\u001b[37m│\u001b[0m\u001b[37m \u001b[0m\u001b[37m    \u001b[0m\u001b[33mfilters\u001b[0m\u001b[37m=\u001b[0m\u001b[1;37m[\u001b[0m\u001b[1;37m[\u001b[0m\u001b[1;37m]\u001b[0m\u001b[1;37m]\u001b[0m\u001b[37m,\u001b[0m\u001b[37m                                                                                              \u001b[0m\u001b[37m \u001b[0m\u001b[37m│\u001b[0m\n",
              "\u001b[37m│\u001b[0m\u001b[37m \u001b[0m\u001b[37m    \u001b[0m\u001b[33mfilter_operators\u001b[0m\u001b[37m=\u001b[0m\u001b[32m'AND'\u001b[0m\u001b[37m,\u001b[0m\u001b[37m                                                                                    \u001b[0m\u001b[37m \u001b[0m\u001b[37m│\u001b[0m\n",
              "\u001b[37m│\u001b[0m\u001b[37m \u001b[0m\u001b[37m    \u001b[0m\u001b[33mcollection\u001b[0m\u001b[37m=\u001b[0m\u001b[32m'Movies'\u001b[0m\u001b[37m                                                                                        \u001b[0m\u001b[37m \u001b[0m\u001b[37m│\u001b[0m\n",
              "\u001b[37m│\u001b[0m\u001b[37m \u001b[0m\u001b[1;37m)\u001b[0m\u001b[37m                                                                                                              \u001b[0m\u001b[37m \u001b[0m\u001b[37m│\u001b[0m\n",
              "\u001b[37m│\u001b[0m\u001b[37m                                                                                                                 \u001b[0m\u001b[37m│\u001b[0m\n",
              "\u001b[37m╰─────────────────────────────────────────────────────────────────────────────────────────────────────────────────╯\u001b[0m\n"
            ],
            "text/html": [
              "<pre style=\"white-space:pre;overflow-x:auto;line-height:normal;font-family:Menlo,'DejaVu Sans Mono',consolas,'Courier New',monospace\"><span style=\"color: #c0c0c0; text-decoration-color: #c0c0c0\">╭───────────────────────────────────────────</span> 🔭 Searches Executed 2/2 <span style=\"color: #c0c0c0; text-decoration-color: #c0c0c0\">────────────────────────────────────────────╮</span>\n",
              "<span style=\"color: #c0c0c0; text-decoration-color: #c0c0c0\">│                                                                                                                 │</span>\n",
              "<span style=\"color: #c0c0c0; text-decoration-color: #c0c0c0\">│ </span><span style=\"color: #800080; text-decoration-color: #800080; font-weight: bold\">QueryResultWithCollection</span><span style=\"color: #c0c0c0; text-decoration-color: #c0c0c0; font-weight: bold\">(</span><span style=\"color: #c0c0c0; text-decoration-color: #c0c0c0\">                                                                                      │</span>\n",
              "<span style=\"color: #c0c0c0; text-decoration-color: #c0c0c0\">│     </span><span style=\"color: #808000; text-decoration-color: #808000\">queries</span><span style=\"color: #c0c0c0; text-decoration-color: #c0c0c0\">=</span><span style=\"color: #c0c0c0; text-decoration-color: #c0c0c0; font-weight: bold\">[</span><span style=\"color: #008000; text-decoration-color: #008000\">'films based on historical fiction'</span><span style=\"color: #c0c0c0; text-decoration-color: #c0c0c0; font-weight: bold\">]</span><span style=\"color: #c0c0c0; text-decoration-color: #c0c0c0\">,                                                              │</span>\n",
              "<span style=\"color: #c0c0c0; text-decoration-color: #c0c0c0\">│     </span><span style=\"color: #808000; text-decoration-color: #808000\">filters</span><span style=\"color: #c0c0c0; text-decoration-color: #c0c0c0\">=</span><span style=\"color: #c0c0c0; text-decoration-color: #c0c0c0; font-weight: bold\">[[]]</span><span style=\"color: #c0c0c0; text-decoration-color: #c0c0c0\">,                                                                                               │</span>\n",
              "<span style=\"color: #c0c0c0; text-decoration-color: #c0c0c0\">│     </span><span style=\"color: #808000; text-decoration-color: #808000\">filter_operators</span><span style=\"color: #c0c0c0; text-decoration-color: #c0c0c0\">=</span><span style=\"color: #008000; text-decoration-color: #008000\">'AND'</span><span style=\"color: #c0c0c0; text-decoration-color: #c0c0c0\">,                                                                                     │</span>\n",
              "<span style=\"color: #c0c0c0; text-decoration-color: #c0c0c0\">│     </span><span style=\"color: #808000; text-decoration-color: #808000\">collection</span><span style=\"color: #c0c0c0; text-decoration-color: #c0c0c0\">=</span><span style=\"color: #008000; text-decoration-color: #008000\">'Movies'</span><span style=\"color: #c0c0c0; text-decoration-color: #c0c0c0\">                                                                                         │</span>\n",
              "<span style=\"color: #c0c0c0; text-decoration-color: #c0c0c0\">│ </span><span style=\"color: #c0c0c0; text-decoration-color: #c0c0c0; font-weight: bold\">)</span><span style=\"color: #c0c0c0; text-decoration-color: #c0c0c0\">                                                                                                               │</span>\n",
              "<span style=\"color: #c0c0c0; text-decoration-color: #c0c0c0\">│                                                                                                                 │</span>\n",
              "<span style=\"color: #c0c0c0; text-decoration-color: #c0c0c0\">╰─────────────────────────────────────────────────────────────────────────────────────────────────────────────────╯</span>\n",
              "</pre>\n"
            ]
          },
          "metadata": {}
        },
        {
          "output_type": "display_data",
          "data": {
            "text/plain": [
              "\u001b[37m╭─\u001b[0m\u001b[37m───────────────────────────────────────────\u001b[0m 📊 Aggregations Run 1/1 \u001b[37m───────────────────────────────────────────\u001b[0m\u001b[37m─╮\u001b[0m\n",
              "\u001b[37m│\u001b[0m\u001b[37m                                                                                                                 \u001b[0m\u001b[37m│\u001b[0m\n",
              "\u001b[37m│\u001b[0m\u001b[37m \u001b[0m\u001b[1;35mAggregationResultWithCollection\u001b[0m\u001b[1;37m(\u001b[0m\u001b[37m                                                                               \u001b[0m\u001b[37m \u001b[0m\u001b[37m│\u001b[0m\n",
              "\u001b[37m│\u001b[0m\u001b[37m \u001b[0m\u001b[37m    \u001b[0m\u001b[33msearch_query\u001b[0m\u001b[37m=\u001b[0m\u001b[32m'historical fiction'\u001b[0m\u001b[37m,\u001b[0m\u001b[37m                                                                         \u001b[0m\u001b[37m \u001b[0m\u001b[37m│\u001b[0m\n",
              "\u001b[37m│\u001b[0m\u001b[37m \u001b[0m\u001b[37m    \u001b[0m\u001b[33mgroupby_property\u001b[0m\u001b[37m=\u001b[0m\u001b[32m'original_language'\u001b[0m\u001b[37m,\u001b[0m\u001b[37m                                                                      \u001b[0m\u001b[37m \u001b[0m\u001b[37m│\u001b[0m\n",
              "\u001b[37m│\u001b[0m\u001b[37m \u001b[0m\u001b[37m    \u001b[0m\u001b[33maggregations\u001b[0m\u001b[37m=\u001b[0m\u001b[1;37m[\u001b[0m\u001b[37m                                                                                             \u001b[0m\u001b[37m \u001b[0m\u001b[37m│\u001b[0m\n",
              "\u001b[37m│\u001b[0m\u001b[37m \u001b[0m\u001b[37m        \u001b[0m\u001b[1;35mIntegerPropertyAggregation\u001b[0m\u001b[1;37m(\u001b[0m\u001b[37m                                                                            \u001b[0m\u001b[37m \u001b[0m\u001b[37m│\u001b[0m\n",
              "\u001b[37m│\u001b[0m\u001b[37m \u001b[0m\u001b[37m            \u001b[0m\u001b[33mproperty_name\u001b[0m\u001b[37m=\u001b[0m\u001b[32m'original_language'\u001b[0m\u001b[37m,\u001b[0m\u001b[37m                                                                 \u001b[0m\u001b[37m \u001b[0m\u001b[37m│\u001b[0m\n",
              "\u001b[37m│\u001b[0m\u001b[37m \u001b[0m\u001b[37m            \u001b[0m\u001b[33mmetrics\u001b[0m\u001b[37m=\u001b[0m\u001b[1;37m<\u001b[0m\u001b[1;95mNumericMetrics.COUNT:\u001b[0m\u001b[39m \u001b[0m\u001b[32m'COUNT'\u001b[0m\u001b[1;37m>\u001b[0m\u001b[37m                                                            \u001b[0m\u001b[37m \u001b[0m\u001b[37m│\u001b[0m\n",
              "\u001b[37m│\u001b[0m\u001b[37m \u001b[0m\u001b[37m        \u001b[0m\u001b[1;37m)\u001b[0m\u001b[37m                                                                                                      \u001b[0m\u001b[37m \u001b[0m\u001b[37m│\u001b[0m\n",
              "\u001b[37m│\u001b[0m\u001b[37m \u001b[0m\u001b[37m    \u001b[0m\u001b[1;37m]\u001b[0m\u001b[37m,\u001b[0m\u001b[37m                                                                                                         \u001b[0m\u001b[37m \u001b[0m\u001b[37m│\u001b[0m\n",
              "\u001b[37m│\u001b[0m\u001b[37m \u001b[0m\u001b[37m    \u001b[0m\u001b[33mfilters\u001b[0m\u001b[37m=\u001b[0m\u001b[1;37m[\u001b[0m\u001b[1;37m]\u001b[0m\u001b[37m,\u001b[0m\u001b[37m                                                                                                \u001b[0m\u001b[37m \u001b[0m\u001b[37m│\u001b[0m\n",
              "\u001b[37m│\u001b[0m\u001b[37m \u001b[0m\u001b[37m    \u001b[0m\u001b[33mcollection\u001b[0m\u001b[37m=\u001b[0m\u001b[32m'Movies'\u001b[0m\u001b[37m                                                                                        \u001b[0m\u001b[37m \u001b[0m\u001b[37m│\u001b[0m\n",
              "\u001b[37m│\u001b[0m\u001b[37m \u001b[0m\u001b[1;37m)\u001b[0m\u001b[37m                                                                                                              \u001b[0m\u001b[37m \u001b[0m\u001b[37m│\u001b[0m\n",
              "\u001b[37m│\u001b[0m\u001b[37m                                                                                                                 \u001b[0m\u001b[37m│\u001b[0m\n",
              "\u001b[37m╰─────────────────────────────────────────────────────────────────────────────────────────────────────────────────╯\u001b[0m\n"
            ],
            "text/html": [
              "<pre style=\"white-space:pre;overflow-x:auto;line-height:normal;font-family:Menlo,'DejaVu Sans Mono',consolas,'Courier New',monospace\"><span style=\"color: #c0c0c0; text-decoration-color: #c0c0c0\">╭────────────────────────────────────────────</span> 📊 Aggregations Run 1/1 <span style=\"color: #c0c0c0; text-decoration-color: #c0c0c0\">────────────────────────────────────────────╮</span>\n",
              "<span style=\"color: #c0c0c0; text-decoration-color: #c0c0c0\">│                                                                                                                 │</span>\n",
              "<span style=\"color: #c0c0c0; text-decoration-color: #c0c0c0\">│ </span><span style=\"color: #800080; text-decoration-color: #800080; font-weight: bold\">AggregationResultWithCollection</span><span style=\"color: #c0c0c0; text-decoration-color: #c0c0c0; font-weight: bold\">(</span><span style=\"color: #c0c0c0; text-decoration-color: #c0c0c0\">                                                                                │</span>\n",
              "<span style=\"color: #c0c0c0; text-decoration-color: #c0c0c0\">│     </span><span style=\"color: #808000; text-decoration-color: #808000\">search_query</span><span style=\"color: #c0c0c0; text-decoration-color: #c0c0c0\">=</span><span style=\"color: #008000; text-decoration-color: #008000\">'historical fiction'</span><span style=\"color: #c0c0c0; text-decoration-color: #c0c0c0\">,                                                                          │</span>\n",
              "<span style=\"color: #c0c0c0; text-decoration-color: #c0c0c0\">│     </span><span style=\"color: #808000; text-decoration-color: #808000\">groupby_property</span><span style=\"color: #c0c0c0; text-decoration-color: #c0c0c0\">=</span><span style=\"color: #008000; text-decoration-color: #008000\">'original_language'</span><span style=\"color: #c0c0c0; text-decoration-color: #c0c0c0\">,                                                                       │</span>\n",
              "<span style=\"color: #c0c0c0; text-decoration-color: #c0c0c0\">│     </span><span style=\"color: #808000; text-decoration-color: #808000\">aggregations</span><span style=\"color: #c0c0c0; text-decoration-color: #c0c0c0\">=</span><span style=\"color: #c0c0c0; text-decoration-color: #c0c0c0; font-weight: bold\">[</span><span style=\"color: #c0c0c0; text-decoration-color: #c0c0c0\">                                                                                              │</span>\n",
              "<span style=\"color: #c0c0c0; text-decoration-color: #c0c0c0\">│         </span><span style=\"color: #800080; text-decoration-color: #800080; font-weight: bold\">IntegerPropertyAggregation</span><span style=\"color: #c0c0c0; text-decoration-color: #c0c0c0; font-weight: bold\">(</span><span style=\"color: #c0c0c0; text-decoration-color: #c0c0c0\">                                                                             │</span>\n",
              "<span style=\"color: #c0c0c0; text-decoration-color: #c0c0c0\">│             </span><span style=\"color: #808000; text-decoration-color: #808000\">property_name</span><span style=\"color: #c0c0c0; text-decoration-color: #c0c0c0\">=</span><span style=\"color: #008000; text-decoration-color: #008000\">'original_language'</span><span style=\"color: #c0c0c0; text-decoration-color: #c0c0c0\">,                                                                  │</span>\n",
              "<span style=\"color: #c0c0c0; text-decoration-color: #c0c0c0\">│             </span><span style=\"color: #808000; text-decoration-color: #808000\">metrics</span><span style=\"color: #c0c0c0; text-decoration-color: #c0c0c0\">=</span><span style=\"color: #c0c0c0; text-decoration-color: #c0c0c0; font-weight: bold\">&lt;</span><span style=\"color: #ff00ff; text-decoration-color: #ff00ff; font-weight: bold\">NumericMetrics.COUNT:</span><span style=\"color: #000000; text-decoration-color: #000000\"> </span><span style=\"color: #008000; text-decoration-color: #008000\">'COUNT'</span><span style=\"color: #c0c0c0; text-decoration-color: #c0c0c0; font-weight: bold\">&gt;</span><span style=\"color: #c0c0c0; text-decoration-color: #c0c0c0\">                                                             │</span>\n",
              "<span style=\"color: #c0c0c0; text-decoration-color: #c0c0c0\">│         </span><span style=\"color: #c0c0c0; text-decoration-color: #c0c0c0; font-weight: bold\">)</span><span style=\"color: #c0c0c0; text-decoration-color: #c0c0c0\">                                                                                                       │</span>\n",
              "<span style=\"color: #c0c0c0; text-decoration-color: #c0c0c0\">│     </span><span style=\"color: #c0c0c0; text-decoration-color: #c0c0c0; font-weight: bold\">]</span><span style=\"color: #c0c0c0; text-decoration-color: #c0c0c0\">,                                                                                                          │</span>\n",
              "<span style=\"color: #c0c0c0; text-decoration-color: #c0c0c0\">│     </span><span style=\"color: #808000; text-decoration-color: #808000\">filters</span><span style=\"color: #c0c0c0; text-decoration-color: #c0c0c0\">=</span><span style=\"color: #c0c0c0; text-decoration-color: #c0c0c0; font-weight: bold\">[]</span><span style=\"color: #c0c0c0; text-decoration-color: #c0c0c0\">,                                                                                                 │</span>\n",
              "<span style=\"color: #c0c0c0; text-decoration-color: #c0c0c0\">│     </span><span style=\"color: #808000; text-decoration-color: #808000\">collection</span><span style=\"color: #c0c0c0; text-decoration-color: #c0c0c0\">=</span><span style=\"color: #008000; text-decoration-color: #008000\">'Movies'</span><span style=\"color: #c0c0c0; text-decoration-color: #c0c0c0\">                                                                                         │</span>\n",
              "<span style=\"color: #c0c0c0; text-decoration-color: #c0c0c0\">│ </span><span style=\"color: #c0c0c0; text-decoration-color: #c0c0c0; font-weight: bold\">)</span><span style=\"color: #c0c0c0; text-decoration-color: #c0c0c0\">                                                                                                               │</span>\n",
              "<span style=\"color: #c0c0c0; text-decoration-color: #c0c0c0\">│                                                                                                                 │</span>\n",
              "<span style=\"color: #c0c0c0; text-decoration-color: #c0c0c0\">╰─────────────────────────────────────────────────────────────────────────────────────────────────────────────────╯</span>\n",
              "</pre>\n"
            ]
          },
          "metadata": {}
        },
        {
          "output_type": "display_data",
          "data": {
            "text/plain": [
              "\u001b[37m╭─\u001b[0m\u001b[37m─────────────────────────────────────────────────\u001b[0m 📚 Sources \u001b[37m──────────────────────────────────────────────────\u001b[0m\u001b[37m─╮\u001b[0m\n",
              "\u001b[37m│\u001b[0m\u001b[37m                                                                                                                 \u001b[0m\u001b[37m│\u001b[0m\n",
              "\u001b[37m│\u001b[0m\u001b[37m \u001b[0m\u001b[37m - object_id='b23a88d8-5d49-4871-a69e-31e11761a14c' collection='Books'\u001b[0m\u001b[37m                                         \u001b[0m\u001b[37m \u001b[0m\u001b[37m│\u001b[0m\n",
              "\u001b[37m│\u001b[0m\u001b[37m \u001b[0m\u001b[37m - object_id='7789f34a-2b9f-4a9f-82e0-26575faac318' collection='Books'\u001b[0m\u001b[37m                                         \u001b[0m\u001b[37m \u001b[0m\u001b[37m│\u001b[0m\n",
              "\u001b[37m│\u001b[0m\u001b[37m \u001b[0m\u001b[37m - object_id='caff6c2d-cef6-4ce9-98f3-48cf57d66b31' collection='Books'\u001b[0m\u001b[37m                                         \u001b[0m\u001b[37m \u001b[0m\u001b[37m│\u001b[0m\n",
              "\u001b[37m│\u001b[0m\u001b[37m \u001b[0m\u001b[37m - object_id='81023cdc-1332-4cab-973c-c28c7ccfae73' collection='Books'\u001b[0m\u001b[37m                                         \u001b[0m\u001b[37m \u001b[0m\u001b[37m│\u001b[0m\n",
              "\u001b[37m│\u001b[0m\u001b[37m \u001b[0m\u001b[37m - object_id='428f1342-f2c2-4a9a-90af-16a8d46df455' collection='Books'\u001b[0m\u001b[37m                                         \u001b[0m\u001b[37m \u001b[0m\u001b[37m│\u001b[0m\n",
              "\u001b[37m│\u001b[0m\u001b[37m \u001b[0m\u001b[37m - object_id='17f11071-e357-4e7b-be75-45f9a140e8fa' collection='Books'\u001b[0m\u001b[37m                                         \u001b[0m\u001b[37m \u001b[0m\u001b[37m│\u001b[0m\n",
              "\u001b[37m│\u001b[0m\u001b[37m \u001b[0m\u001b[37m - object_id='600fa2ea-b0a2-4d87-98bc-d0d27f9f5ad2' collection='Movies'\u001b[0m\u001b[37m                                        \u001b[0m\u001b[37m \u001b[0m\u001b[37m│\u001b[0m\n",
              "\u001b[37m│\u001b[0m\u001b[37m \u001b[0m\u001b[37m - object_id='3faf3d17-b4d1-41c0-bd0d-4a8e37d3624a' collection='Movies'\u001b[0m\u001b[37m                                        \u001b[0m\u001b[37m \u001b[0m\u001b[37m│\u001b[0m\n",
              "\u001b[37m│\u001b[0m\u001b[37m \u001b[0m\u001b[37m - object_id='19fe42f2-0c41-40dc-a781-03838fb46b8a' collection='Movies'\u001b[0m\u001b[37m                                        \u001b[0m\u001b[37m \u001b[0m\u001b[37m│\u001b[0m\n",
              "\u001b[37m│\u001b[0m\u001b[37m \u001b[0m\u001b[37m - object_id='212b015d-375f-4b11-9db3-af8b81ca32b1' collection='Movies'\u001b[0m\u001b[37m                                        \u001b[0m\u001b[37m \u001b[0m\u001b[37m│\u001b[0m\n",
              "\u001b[37m│\u001b[0m\u001b[37m                                                                                                                 \u001b[0m\u001b[37m│\u001b[0m\n",
              "\u001b[37m╰─────────────────────────────────────────────────────────────────────────────────────────────────────────────────╯\u001b[0m\n"
            ],
            "text/html": [
              "<pre style=\"white-space:pre;overflow-x:auto;line-height:normal;font-family:Menlo,'DejaVu Sans Mono',consolas,'Courier New',monospace\"><span style=\"color: #c0c0c0; text-decoration-color: #c0c0c0\">╭──────────────────────────────────────────────────</span> 📚 Sources <span style=\"color: #c0c0c0; text-decoration-color: #c0c0c0\">───────────────────────────────────────────────────╮</span>\n",
              "<span style=\"color: #c0c0c0; text-decoration-color: #c0c0c0\">│                                                                                                                 │</span>\n",
              "<span style=\"color: #c0c0c0; text-decoration-color: #c0c0c0\">│  - object_id='b23a88d8-5d49-4871-a69e-31e11761a14c' collection='Books'                                          │</span>\n",
              "<span style=\"color: #c0c0c0; text-decoration-color: #c0c0c0\">│  - object_id='7789f34a-2b9f-4a9f-82e0-26575faac318' collection='Books'                                          │</span>\n",
              "<span style=\"color: #c0c0c0; text-decoration-color: #c0c0c0\">│  - object_id='caff6c2d-cef6-4ce9-98f3-48cf57d66b31' collection='Books'                                          │</span>\n",
              "<span style=\"color: #c0c0c0; text-decoration-color: #c0c0c0\">│  - object_id='81023cdc-1332-4cab-973c-c28c7ccfae73' collection='Books'                                          │</span>\n",
              "<span style=\"color: #c0c0c0; text-decoration-color: #c0c0c0\">│  - object_id='428f1342-f2c2-4a9a-90af-16a8d46df455' collection='Books'                                          │</span>\n",
              "<span style=\"color: #c0c0c0; text-decoration-color: #c0c0c0\">│  - object_id='17f11071-e357-4e7b-be75-45f9a140e8fa' collection='Books'                                          │</span>\n",
              "<span style=\"color: #c0c0c0; text-decoration-color: #c0c0c0\">│  - object_id='600fa2ea-b0a2-4d87-98bc-d0d27f9f5ad2' collection='Movies'                                         │</span>\n",
              "<span style=\"color: #c0c0c0; text-decoration-color: #c0c0c0\">│  - object_id='3faf3d17-b4d1-41c0-bd0d-4a8e37d3624a' collection='Movies'                                         │</span>\n",
              "<span style=\"color: #c0c0c0; text-decoration-color: #c0c0c0\">│  - object_id='19fe42f2-0c41-40dc-a781-03838fb46b8a' collection='Movies'                                         │</span>\n",
              "<span style=\"color: #c0c0c0; text-decoration-color: #c0c0c0\">│  - object_id='212b015d-375f-4b11-9db3-af8b81ca32b1' collection='Movies'                                         │</span>\n",
              "<span style=\"color: #c0c0c0; text-decoration-color: #c0c0c0\">│                                                                                                                 │</span>\n",
              "<span style=\"color: #c0c0c0; text-decoration-color: #c0c0c0\">╰─────────────────────────────────────────────────────────────────────────────────────────────────────────────────╯</span>\n",
              "</pre>\n"
            ]
          },
          "metadata": {}
        },
        {
          "output_type": "stream",
          "name": "stdout",
          "text": [
            "\n",
            "\n"
          ]
        },
        {
          "output_type": "display_data",
          "data": {
            "text/plain": [
              "\u001b[3m   📊 Usage Statistics    \u001b[0m\n",
              "┌────────────────┬───────┐\n",
              "│ LLM Requests:  │ 5     │\n",
              "│ Input Tokens:  │ 11470 │\n",
              "│ Output Tokens: │ 571   │\n",
              "│ Total Tokens:  │ 12041 │\n",
              "└────────────────┴───────┘\n"
            ],
            "text/html": [
              "<pre style=\"white-space:pre;overflow-x:auto;line-height:normal;font-family:Menlo,'DejaVu Sans Mono',consolas,'Courier New',monospace\"><span style=\"font-style: italic\">   📊 Usage Statistics    </span>\n",
              "┌────────────────┬───────┐\n",
              "│ LLM Requests:  │ 5     │\n",
              "│ Input Tokens:  │ 11470 │\n",
              "│ Output Tokens: │ 571   │\n",
              "│ Total Tokens:  │ 12041 │\n",
              "└────────────────┴───────┘\n",
              "</pre>\n"
            ]
          },
          "metadata": {}
        },
        {
          "output_type": "display_data",
          "data": {
            "text/plain": [
              "\n",
              "\u001b[1;36mTotal Time Taken:\u001b[0m\u001b[36m \u001b[0m\u001b[1;36m12.\u001b[0m\u001b[36m82s\u001b[0m\n"
            ],
            "text/html": [
              "<pre style=\"white-space:pre;overflow-x:auto;line-height:normal;font-family:Menlo,'DejaVu Sans Mono',consolas,'Courier New',monospace\">\n",
              "<span style=\"color: #008080; text-decoration-color: #008080; font-weight: bold\">Total Time Taken:</span><span style=\"color: #008080; text-decoration-color: #008080\"> </span><span style=\"color: #008080; text-decoration-color: #008080; font-weight: bold\">12.</span><span style=\"color: #008080; text-decoration-color: #008080\">82s</span>\n",
              "</pre>\n"
            ]
          },
          "metadata": {}
        }
      ],
      "source": [
        "response = agent.run(\"I'm interested in historical fiction books, can you recommend any good ones?\"\n",
        "                     \"Are there any films based on historical fiction? And on average, what's the original language that they were filmed in?\")\n",
        "\n",
        "response.display()"
      ]
    },
    {
      "cell_type": "markdown",
      "metadata": {
        "id": "Hm32UutOC63l"
      },
      "source": [
        "### Changing the System Prompt\n",
        "\n",
        "In some cases, you may want to define a custom `system_prompt` for your agent. This can help you provide the agent with some default instructions as to how to behave. For example, let's create an agent that is designed to give short bullet point answers.\n"
      ]
    },
    {
      "cell_type": "code",
      "execution_count": 24,
      "metadata": {
        "id": "WWFMuHpIC6ol"
      },
      "outputs": [],
      "source": [
        "new_agent = QueryAgent(\n",
        "    client=client, collections=[\"Books\", \"Movies\"],\n",
        "    system_prompt=\"You are a helpful movies and books assistant that always responds in short, bullet point answsers.\"\n",
        ")"
      ]
    },
    {
      "cell_type": "markdown",
      "metadata": {
        "id": "6hzF0PdfEllR"
      },
      "source": [
        "For example, this time lets ask something that is about weather!"
      ]
    },
    {
      "cell_type": "code",
      "execution_count": 25,
      "metadata": {
        "colab": {
          "base_uri": "https://localhost:8080/"
        },
        "id": "76tch6bPuOOL",
        "outputId": "016bc958-d8b4-4811-ac5c-fec7947bc4f9"
      },
      "outputs": [
        {
          "output_type": "stream",
          "name": "stdout",
          "text": [
            "Here are some recommended historical fiction books:\n",
            "- **Castles, Customs, and Kings**: A compilation of essays providing historical information from Roman Britain to early twentieth-century England. Authors share real-life stories and tidbits used in their historical novels.\n",
            "- **Post Captain** by Patrick O'Brian: Part of the Aubrey & Maturin series, known as one of the best historical novels.\n",
            "- **People of the Book** by Geraldine Brooks: Follows a rare manuscript through centuries, inspired by the true story of the Sarajevo Haggadah.\n",
            "- **The Shadow of the Wind** by Carlos Ruiz Zafón: A mystery set in post-war Barcelona around a lost literary work.\n",
            "\n",
            "Films based on historical fiction include:\n",
            "- \"Hamilton\" (2020): A filmed version of the Broadway hit about American founding father Alexander Hamilton.\n",
            "- \"The Lost City of Z\" (2017): The story of British explorer Percy Fawcett's adventures in the Amazon in the 1920s.\n",
            "- \"Suffragette\" (2015): Based on true events about early feminist movement activists.\n",
            "\n",
            "On average, the original language of films based on historical fiction is predominantly English (en), accounting for the majority of such films created.\n"
          ]
        }
      ],
      "source": [
        "response = new_agent.run(\"I'm interested in historical fiction books, can you recommend any good ones?\"\n",
        "                         \"Are there any films based on historical fiction? And on average, what's the original language that they were filmed in?\")\n",
        "print(response.final_answer)"
      ]
    }
  ],
  "metadata": {
    "colab": {
      "provenance": []
    },
    "kernelspec": {
      "display_name": "Python 3 (ipykernel)",
      "language": "python",
      "name": "python3"
    },
    "language_info": {
      "codemirror_mode": {
        "name": "ipython",
        "version": 3
      },
      "file_extension": ".py",
      "mimetype": "text/x-python",
      "name": "python",
      "nbconvert_exporter": "python",
      "pygments_lexer": "ipython3",
      "version": "3.11.6"
    },
    "widgets": {
      "application/vnd.jupyter.widget-state+json": {
        "6896202cd47c4e08a6c694225d79d3c8": {
          "model_module": "@jupyter-widgets/controls",
          "model_name": "HBoxModel",
          "model_module_version": "1.5.0",
          "state": {
            "_dom_classes": [],
            "_model_module": "@jupyter-widgets/controls",
            "_model_module_version": "1.5.0",
            "_model_name": "HBoxModel",
            "_view_count": null,
            "_view_module": "@jupyter-widgets/controls",
            "_view_module_version": "1.5.0",
            "_view_name": "HBoxView",
            "box_style": "",
            "children": [
              "IPY_MODEL_8793ce4806ce422488cc7ef6891dfab2",
              "IPY_MODEL_8ec80043fdd14054aa5110b8820331ad",
              "IPY_MODEL_d3934b5e320d4289bf917f0e87a0add6"
            ],
            "layout": "IPY_MODEL_9220c701e3c14ed784e4b22592f96397"
          }
        },
        "8793ce4806ce422488cc7ef6891dfab2": {
          "model_module": "@jupyter-widgets/controls",
          "model_name": "HTMLModel",
          "model_module_version": "1.5.0",
          "state": {
            "_dom_classes": [],
            "_model_module": "@jupyter-widgets/controls",
            "_model_module_version": "1.5.0",
            "_model_name": "HTMLModel",
            "_view_count": null,
            "_view_module": "@jupyter-widgets/controls",
            "_view_module_version": "1.5.0",
            "_view_name": "HTMLView",
            "description": "",
            "description_tooltip": null,
            "layout": "IPY_MODEL_a82c507e26ae479fb7101bc5f11b695d",
            "placeholder": "​",
            "style": "IPY_MODEL_1d895a0efa934d1ea84fe346f6e1af27",
            "value": "README.md: 100%"
          }
        },
        "8ec80043fdd14054aa5110b8820331ad": {
          "model_module": "@jupyter-widgets/controls",
          "model_name": "FloatProgressModel",
          "model_module_version": "1.5.0",
          "state": {
            "_dom_classes": [],
            "_model_module": "@jupyter-widgets/controls",
            "_model_module_version": "1.5.0",
            "_model_name": "FloatProgressModel",
            "_view_count": null,
            "_view_module": "@jupyter-widgets/controls",
            "_view_module_version": "1.5.0",
            "_view_name": "ProgressView",
            "bar_style": "success",
            "description": "",
            "description_tooltip": null,
            "layout": "IPY_MODEL_c5f0392c9bc24856930b5235f9f4ab21",
            "max": 5812,
            "min": 0,
            "orientation": "horizontal",
            "style": "IPY_MODEL_89a631b1e27d45c0bb87eec2d5f46db4",
            "value": 5812
          }
        },
        "d3934b5e320d4289bf917f0e87a0add6": {
          "model_module": "@jupyter-widgets/controls",
          "model_name": "HTMLModel",
          "model_module_version": "1.5.0",
          "state": {
            "_dom_classes": [],
            "_model_module": "@jupyter-widgets/controls",
            "_model_module_version": "1.5.0",
            "_model_name": "HTMLModel",
            "_view_count": null,
            "_view_module": "@jupyter-widgets/controls",
            "_view_module_version": "1.5.0",
            "_view_name": "HTMLView",
            "description": "",
            "description_tooltip": null,
            "layout": "IPY_MODEL_506f6f6f3a2f47c087629721c457671b",
            "placeholder": "​",
            "style": "IPY_MODEL_92644822b1324ab09914d9e78214a5ce",
            "value": " 5.81k/5.81k [00:00&lt;00:00, 359kB/s]"
          }
        },
        "9220c701e3c14ed784e4b22592f96397": {
          "model_module": "@jupyter-widgets/base",
          "model_name": "LayoutModel",
          "model_module_version": "1.2.0",
          "state": {
            "_model_module": "@jupyter-widgets/base",
            "_model_module_version": "1.2.0",
            "_model_name": "LayoutModel",
            "_view_count": null,
            "_view_module": "@jupyter-widgets/base",
            "_view_module_version": "1.2.0",
            "_view_name": "LayoutView",
            "align_content": null,
            "align_items": null,
            "align_self": null,
            "border": null,
            "bottom": null,
            "display": null,
            "flex": null,
            "flex_flow": null,
            "grid_area": null,
            "grid_auto_columns": null,
            "grid_auto_flow": null,
            "grid_auto_rows": null,
            "grid_column": null,
            "grid_gap": null,
            "grid_row": null,
            "grid_template_areas": null,
            "grid_template_columns": null,
            "grid_template_rows": null,
            "height": null,
            "justify_content": null,
            "justify_items": null,
            "left": null,
            "margin": null,
            "max_height": null,
            "max_width": null,
            "min_height": null,
            "min_width": null,
            "object_fit": null,
            "object_position": null,
            "order": null,
            "overflow": null,
            "overflow_x": null,
            "overflow_y": null,
            "padding": null,
            "right": null,
            "top": null,
            "visibility": null,
            "width": null
          }
        },
        "a82c507e26ae479fb7101bc5f11b695d": {
          "model_module": "@jupyter-widgets/base",
          "model_name": "LayoutModel",
          "model_module_version": "1.2.0",
          "state": {
            "_model_module": "@jupyter-widgets/base",
            "_model_module_version": "1.2.0",
            "_model_name": "LayoutModel",
            "_view_count": null,
            "_view_module": "@jupyter-widgets/base",
            "_view_module_version": "1.2.0",
            "_view_name": "LayoutView",
            "align_content": null,
            "align_items": null,
            "align_self": null,
            "border": null,
            "bottom": null,
            "display": null,
            "flex": null,
            "flex_flow": null,
            "grid_area": null,
            "grid_auto_columns": null,
            "grid_auto_flow": null,
            "grid_auto_rows": null,
            "grid_column": null,
            "grid_gap": null,
            "grid_row": null,
            "grid_template_areas": null,
            "grid_template_columns": null,
            "grid_template_rows": null,
            "height": null,
            "justify_content": null,
            "justify_items": null,
            "left": null,
            "margin": null,
            "max_height": null,
            "max_width": null,
            "min_height": null,
            "min_width": null,
            "object_fit": null,
            "object_position": null,
            "order": null,
            "overflow": null,
            "overflow_x": null,
            "overflow_y": null,
            "padding": null,
            "right": null,
            "top": null,
            "visibility": null,
            "width": null
          }
        },
        "1d895a0efa934d1ea84fe346f6e1af27": {
          "model_module": "@jupyter-widgets/controls",
          "model_name": "DescriptionStyleModel",
          "model_module_version": "1.5.0",
          "state": {
            "_model_module": "@jupyter-widgets/controls",
            "_model_module_version": "1.5.0",
            "_model_name": "DescriptionStyleModel",
            "_view_count": null,
            "_view_module": "@jupyter-widgets/base",
            "_view_module_version": "1.2.0",
            "_view_name": "StyleView",
            "description_width": ""
          }
        },
        "c5f0392c9bc24856930b5235f9f4ab21": {
          "model_module": "@jupyter-widgets/base",
          "model_name": "LayoutModel",
          "model_module_version": "1.2.0",
          "state": {
            "_model_module": "@jupyter-widgets/base",
            "_model_module_version": "1.2.0",
            "_model_name": "LayoutModel",
            "_view_count": null,
            "_view_module": "@jupyter-widgets/base",
            "_view_module_version": "1.2.0",
            "_view_name": "LayoutView",
            "align_content": null,
            "align_items": null,
            "align_self": null,
            "border": null,
            "bottom": null,
            "display": null,
            "flex": null,
            "flex_flow": null,
            "grid_area": null,
            "grid_auto_columns": null,
            "grid_auto_flow": null,
            "grid_auto_rows": null,
            "grid_column": null,
            "grid_gap": null,
            "grid_row": null,
            "grid_template_areas": null,
            "grid_template_columns": null,
            "grid_template_rows": null,
            "height": null,
            "justify_content": null,
            "justify_items": null,
            "left": null,
            "margin": null,
            "max_height": null,
            "max_width": null,
            "min_height": null,
            "min_width": null,
            "object_fit": null,
            "object_position": null,
            "order": null,
            "overflow": null,
            "overflow_x": null,
            "overflow_y": null,
            "padding": null,
            "right": null,
            "top": null,
            "visibility": null,
            "width": null
          }
        },
        "89a631b1e27d45c0bb87eec2d5f46db4": {
          "model_module": "@jupyter-widgets/controls",
          "model_name": "ProgressStyleModel",
          "model_module_version": "1.5.0",
          "state": {
            "_model_module": "@jupyter-widgets/controls",
            "_model_module_version": "1.5.0",
            "_model_name": "ProgressStyleModel",
            "_view_count": null,
            "_view_module": "@jupyter-widgets/base",
            "_view_module_version": "1.2.0",
            "_view_name": "StyleView",
            "bar_color": null,
            "description_width": ""
          }
        },
        "506f6f6f3a2f47c087629721c457671b": {
          "model_module": "@jupyter-widgets/base",
          "model_name": "LayoutModel",
          "model_module_version": "1.2.0",
          "state": {
            "_model_module": "@jupyter-widgets/base",
            "_model_module_version": "1.2.0",
            "_model_name": "LayoutModel",
            "_view_count": null,
            "_view_module": "@jupyter-widgets/base",
            "_view_module_version": "1.2.0",
            "_view_name": "LayoutView",
            "align_content": null,
            "align_items": null,
            "align_self": null,
            "border": null,
            "bottom": null,
            "display": null,
            "flex": null,
            "flex_flow": null,
            "grid_area": null,
            "grid_auto_columns": null,
            "grid_auto_flow": null,
            "grid_auto_rows": null,
            "grid_column": null,
            "grid_gap": null,
            "grid_row": null,
            "grid_template_areas": null,
            "grid_template_columns": null,
            "grid_template_rows": null,
            "height": null,
            "justify_content": null,
            "justify_items": null,
            "left": null,
            "margin": null,
            "max_height": null,
            "max_width": null,
            "min_height": null,
            "min_width": null,
            "object_fit": null,
            "object_position": null,
            "order": null,
            "overflow": null,
            "overflow_x": null,
            "overflow_y": null,
            "padding": null,
            "right": null,
            "top": null,
            "visibility": null,
            "width": null
          }
        },
        "92644822b1324ab09914d9e78214a5ce": {
          "model_module": "@jupyter-widgets/controls",
          "model_name": "DescriptionStyleModel",
          "model_module_version": "1.5.0",
          "state": {
            "_model_module": "@jupyter-widgets/controls",
            "_model_module_version": "1.5.0",
            "_model_name": "DescriptionStyleModel",
            "_view_count": null,
            "_view_module": "@jupyter-widgets/base",
            "_view_module_version": "1.2.0",
            "_view_name": "StyleView",
            "description_width": ""
          }
        }
      }
    }
  },
  "nbformat": 4,
  "nbformat_minor": 0
}
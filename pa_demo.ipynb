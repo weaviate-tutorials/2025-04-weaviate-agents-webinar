{
 "cells": [
  {
   "cell_type": "markdown",
   "id": "0f56e3ec",
   "metadata": {},
   "source": [
    "# Personalization Agent Demo"
   ]
  },
  {
   "cell_type": "markdown",
   "id": "f33da2c1",
   "metadata": {},
   "source": [
    "## Connect to the Weaviate Cloud instance\n",
    "\n",
    "> Reminder: Weaviate Agents are only available for Weaviate Cloud instances.\n",
    "\n",
    "Connect to your Weaviate instance, using credentials from the Weaviate Cloud console. Here, they are loaded from the `.env` file."
   ]
  },
  {
   "cell_type": "code",
   "execution_count": null,
   "id": "0979baeb",
   "metadata": {},
   "outputs": [],
   "source": [
    "import weaviate\n",
    "from weaviate.classes.init import Auth\n",
    "import os\n",
    "from dotenv import load_dotenv\n",
    "\n",
    "weaviate_url = os.getenv(\"WEAVIATE_URL\")\n",
    "weaviate_key = os.getenv(\"WEAVIATE_API_KEY\")\n",
    "load_dotenv()\n",
    "\n",
    "client = weaviate.connect_to_weaviate_cloud(\n",
    "    cluster_url=weaviate_url, auth_credentials=Auth.api_key(weaviate_key)\n",
    ")"
   ]
  },
  {
   "cell_type": "markdown",
   "id": "56e0d9e7",
   "metadata": {},
   "source": [
    "## Connect to the Personalization Agent\n",
    "\n",
    "You can initialize the Personalization Agent, or connect to an existing one, as shown below."
   ]
  },
  {
   "cell_type": "code",
   "execution_count": null,
   "id": "9f4c0cb1",
   "metadata": {},
   "outputs": [],
   "source": [
    "from weaviate.agents.personalization import PersonalizationAgent\n",
    "from weaviate.classes.config import DataType\n",
    "from helpers import PA_DEMO_COLLECTION\n",
    "\n",
    "if PersonalizationAgent.exists(client, PA_DEMO_COLLECTION):\n",
    "    pa = PersonalizationAgent.connect(client=client, reference_collection=PA_DEMO_COLLECTION)\n",
    "else:\n",
    "    pa = PersonalizationAgent.create(\n",
    "        client=client,\n",
    "        reference_collection=PA_DEMO_COLLECTION,\n",
    "        # These properties will be used to give the persona a \"baseline\" set of characteristics\n",
    "        user_properties={\n",
    "            \"age\": DataType.NUMBER,\n",
    "            \"favorite_genres\": DataType.TEXT_ARRAY,\n",
    "            \"favorite_years\": DataType.NUMBER_ARRAY,\n",
    "            \"language\": DataType.TEXT,\n",
    "        },\n",
    "    )"
   ]
  },
  {
   "cell_type": "markdown",
   "id": "d7741843",
   "metadata": {},
   "source": [
    "## Create a persona"
   ]
  },
  {
   "cell_type": "code",
   "execution_count": null,
   "id": "36a0fc97",
   "metadata": {},
   "outputs": [],
   "source": [
    "from weaviate.agents.classes import Persona\n",
    "from weaviate.util import generate_uuid5\n",
    "from uuid import uuid4  # If you want to generate a random UUID\n",
    "\n",
    "persona_id = generate_uuid5(\"sebawita\")  # To generate a deterministic UUID\n",
    "# persona_id = uuid4()  # To generate a random UUID\n",
    "\n",
    "# You can delete a persona if you want to remove it from the system\n",
    "pa.delete_persona(persona_id)\n",
    "\n",
    "if pa.has_persona(persona_id):\n",
    "    print(f\"Persona with ID {persona_id} already exists.\")\n",
    "else:\n",
    "    print(f\"Creating new persona with ID {persona_id}.\")\n",
    "    pa.add_persona(\n",
    "        Persona(\n",
    "            persona_id=persona_id,\n",
    "            properties={\n",
    "                \"age\": 30,\n",
    "                \"favorite_genres\": [\"Sci-Fi\", \"Horror\", \"Mystery\"],\n",
    "                \"favorite_years\": [1999, 1996, 2008, 2019],\n",
    "                \"language\": \"English\",\n",
    "            },\n",
    "        )\n",
    "    )"
   ]
  },
  {
   "cell_type": "code",
   "execution_count": null,
   "id": "ef88499d",
   "metadata": {},
   "outputs": [],
   "source": [
    "pa.get_persona(persona_id)"
   ]
  },
  {
   "cell_type": "markdown",
   "id": "00944fed",
   "metadata": {},
   "source": [
    "## Add interactions\n",
    "\n",
    "This is how the agent learns each persona's preferences. (At least one interaction is required to perform queries.)"
   ]
  },
  {
   "cell_type": "code",
   "execution_count": null,
   "id": "57b31da2",
   "metadata": {},
   "outputs": [],
   "source": [
    "from weaviate.agents.classes import PersonaInteraction\n",
    "from weaviate.collections.classes.filters import Filter\n",
    "from helpers import get_movie_uuid  # Helper to get the UUID of a movie\n",
    "\n",
    "# Need at least one interaction to get recommendations\n",
    "pa.add_interactions(interactions=[\n",
    "    PersonaInteraction(\n",
    "        persona_id=persona_id, item_id=get_movie_uuid(client, \"Avatar\"), weight=0.5\n",
    "    ),\n",
    "])"
   ]
  },
  {
   "cell_type": "markdown",
   "id": "b548bf46",
   "metadata": {},
   "source": [
    "## Queries\n",
    "\n",
    "We can already perform queries.\n",
    "\n",
    "### Basic queries\n",
    "\n",
    "Fast, most basic personalized queries\n",
    "\n",
    "- Uses vectors of interaction history only"
   ]
  },
  {
   "cell_type": "code",
   "execution_count": null,
   "id": "48a29cbd",
   "metadata": {},
   "outputs": [],
   "source": [
    "response = pa.get_objects(persona_id, limit=50, use_agent_ranking=False)"
   ]
  },
  {
   "cell_type": "code",
   "execution_count": null,
   "id": "f160f3d5",
   "metadata": {},
   "outputs": [],
   "source": [
    "from helpers import print_movie_response_details\n",
    "\n",
    "print_movie_response_details(response, 5)"
   ]
  },
  {
   "cell_type": "markdown",
   "id": "f84ba308",
   "metadata": {},
   "source": [
    "### Agent reranking\n",
    "\n",
    "The agent can smartly rerank the results based on the information about the persona, as well as the interactions."
   ]
  },
  {
   "cell_type": "code",
   "execution_count": null,
   "id": "e0749a04",
   "metadata": {},
   "outputs": [],
   "source": [
    "response = pa.get_objects(persona_id, limit=50, use_agent_ranking=True)\n",
    "\n",
    "print_movie_response_details(response, 5)"
   ]
  },
  {
   "cell_type": "markdown",
   "id": "5d58bcbe",
   "metadata": {},
   "source": [
    "### With Reranker + Instruction\n",
    "\n",
    "- The most complex personalized queries\n",
    "- Uses vectors of interaction history and AI-based reranker\n",
    "- Instructions used to guide the reranker"
   ]
  },
  {
   "cell_type": "code",
   "execution_count": null,
   "id": "dc5b1906",
   "metadata": {},
   "outputs": [],
   "source": [
    "response = pa.get_objects(\n",
    "    persona_id,\n",
    "    limit=50,\n",
    "    use_agent_ranking=True,\n",
    "    instruction=\"I'm looking for something for the whole family, maybe historical.\"\n",
    ")\n",
    "\n",
    "print_movie_response_details(response, 5)"
   ]
  },
  {
   "cell_type": "markdown",
   "id": "1eddbb5e",
   "metadata": {},
   "source": [
    "### Add more interactions\n",
    "\n",
    "Over time, you will add more interactions to the agent, which will help it learn more about the persona's preferences.\n",
    "\n",
    "Note each interaction can be positive or negative. \n",
    "(1: most positive, 0: neutral, -1: most negative)"
   ]
  },
  {
   "cell_type": "code",
   "execution_count": null,
   "id": "445db975",
   "metadata": {},
   "outputs": [],
   "source": [
    "interactions = [\n",
    "    PersonaInteraction(\n",
    "        persona_id=persona_id, item_id=get_movie_uuid(client, \"How It Ends\"), weight=0.7\n",
    "    ),\n",
    "    PersonaInteraction(\n",
    "        persona_id=persona_id, item_id=get_movie_uuid(client, \"Doctor Sleep\"), weight=0.6\n",
    "    ),\n",
    "    PersonaInteraction(\n",
    "        persona_id=persona_id, item_id=get_movie_uuid(client, \"The Howling\"), weight=0.5\n",
    "    ),\n",
    "    PersonaInteraction(\n",
    "        persona_id=persona_id,\n",
    "        item_id=get_movie_uuid(client, \"A Nightmare on Elm Street\"),\n",
    "        weight=0.9,\n",
    "    ),\n",
    "    PersonaInteraction(\n",
    "        persona_id=persona_id, item_id=get_movie_uuid(client, \"High Life\"), weight=0.75\n",
    "    ),\n",
    "    PersonaInteraction(\n",
    "        persona_id=persona_id, item_id=get_movie_uuid(client, \"Magic Mike\"), weight=-0.9\n",
    "    ),  # negative\n",
    "]\n",
    "\n",
    "pa.add_interactions(interactions=interactions)"
   ]
  },
  {
   "cell_type": "markdown",
   "id": "29cad0ba",
   "metadata": {},
   "source": [
    "### Retry queries"
   ]
  },
  {
   "cell_type": "code",
   "execution_count": null,
   "id": "8b5ee640",
   "metadata": {},
   "outputs": [],
   "source": [
    "response = pa.get_objects(persona_id, limit=50, use_agent_ranking=False)\n",
    "\n",
    "print_movie_response_details(response, 5)"
   ]
  },
  {
   "cell_type": "markdown",
   "id": "fbd0b683",
   "metadata": {},
   "source": [
    "### With Reranker + Instruction + Filter\n",
    "\n",
    "- The most complex personalized queries\n",
    "- Uses vectors of interaction history and AI-based reranker\n",
    "- Instructions used to guide the reranker\n",
    "- Filters out items that are not relevant to the user"
   ]
  },
  {
   "cell_type": "code",
   "execution_count": null,
   "id": "7f4d80b2",
   "metadata": {},
   "outputs": [],
   "source": [
    "# With Reranker + Instruction + Filter\n",
    "response = pa.get_objects(\n",
    "    persona_id,\n",
    "    limit=50,\n",
    "    use_agent_ranking=True,\n",
    "    instruction=\"User's favorite sub genre of horror is slasher and least favorite is space horror\",\n",
    "    filters=Filter.by_property(\"genres\").contains_any([\"Mystery\", \"Horror\"]),\n",
    ")"
   ]
  },
  {
   "cell_type": "code",
   "execution_count": null,
   "id": "2718a329",
   "metadata": {},
   "outputs": [],
   "source": [
    "print_movie_response_details(response, 10)"
   ]
  },
  {
   "cell_type": "markdown",
   "id": "fcf9403f",
   "metadata": {},
   "source": [
    "## Compare results \n",
    "\n",
    "What happens if we look at results across different query methods?"
   ]
  },
  {
   "cell_type": "code",
   "execution_count": null,
   "id": "fcd68b16",
   "metadata": {},
   "outputs": [],
   "source": [
    "from helpers import compare_genre_match_scores\n",
    "\n",
    "query = pa.query(persona_id=persona_id, strength=0.95)  # fully personalized reranking\n",
    "query2 = pa.query(persona_id=persona_id, strength=0.0)  # no reranking\n",
    "\n",
    "response1 = query.hybrid(\"slasher\", limit=50)\n",
    "response2 = query2.hybrid(\"slasher\", limit=50)\n",
    "\n",
    "compare_genre_match_scores(\n",
    "    [response1, response2],\n",
    "    preferred_genres={\"Science Fiction\", \"Horror\", \"Mystery\"},\n",
    "    top_n=10,\n",
    "    response_labels=[\"Personalized\", \"No Personalization\"],\n",
    ")"
   ]
  },
  {
   "cell_type": "markdown",
   "id": "8edfcac9",
   "metadata": {},
   "source": [
    "We see that the personalized results are much more relevant to the user than the non-personalized results."
   ]
  },
  {
   "cell_type": "code",
   "execution_count": null,
   "id": "30fe2de7",
   "metadata": {},
   "outputs": [],
   "source": [
    "client.close()"
   ]
  }
 ],
 "metadata": {
  "kernelspec": {
   "display_name": ".venv",
   "language": "python",
   "name": "python3"
  },
  "language_info": {
   "codemirror_mode": {
    "name": "ipython",
    "version": 3
   },
   "file_extension": ".py",
   "mimetype": "text/x-python",
   "name": "python",
   "nbconvert_exporter": "python",
   "pygments_lexer": "ipython3",
   "version": "3.12.4"
  }
 },
 "nbformat": 4,
 "nbformat_minor": 5
}

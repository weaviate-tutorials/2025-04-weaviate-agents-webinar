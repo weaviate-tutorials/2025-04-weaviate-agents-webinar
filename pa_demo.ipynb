{
 "cells": [
  {
   "cell_type": "markdown",
   "id": "0f56e3ec",
   "metadata": {},
   "source": [
    "# Personalization Agent Demo"
   ]
  },
  {
   "cell_type": "markdown",
   "id": "f33da2c1",
   "metadata": {},
   "source": [
    "## Connect to the Weaviate Cloud instance"
   ]
  },
  {
   "cell_type": "code",
   "execution_count": 1,
   "id": "0979baeb",
   "metadata": {},
   "outputs": [],
   "source": [
    "import weaviate\n",
    "from weaviate.classes.init import Auth\n",
    "import os\n",
    "from dotenv import load_dotenv\n",
    "\n",
    "weaviate_url = os.getenv(\"WEAVIATE_URL\")\n",
    "weaviate_key = os.getenv(\"WEAVIATE_API_KEY\")\n",
    "load_dotenv()\n",
    "\n",
    "client = weaviate.connect_to_weaviate_cloud(\n",
    "    cluster_url=weaviate_url, auth_credentials=Auth.api_key(weaviate_key)\n",
    ")"
   ]
  },
  {
   "cell_type": "markdown",
   "id": "56e0d9e7",
   "metadata": {},
   "source": [
    "## Connect to the Personalization Agent\n",
    "\n",
    "You can initialize the Personalization Agent, or connect to an existing one, as shown below."
   ]
  },
  {
   "cell_type": "code",
   "execution_count": 2,
   "id": "9f4c0cb1",
   "metadata": {},
   "outputs": [],
   "source": [
    "from weaviate.agents.personalization import PersonalizationAgent\n",
    "from weaviate.classes.config import DataType\n",
    "from helpers import PA_DEMO_COLLECTION\n",
    "\n",
    "if PersonalizationAgent.exists(client, PA_DEMO_COLLECTION):\n",
    "    pa = PersonalizationAgent.connect(client=client, reference_collection=PA_DEMO_COLLECTION)\n",
    "else:\n",
    "    pa = PersonalizationAgent.create(\n",
    "        client=client,\n",
    "        reference_collection=PA_DEMO_COLLECTION,\n",
    "        # These properties will be used to give the persona a \"baseline\" set of characteristics\n",
    "        user_properties={\n",
    "            \"age\": DataType.NUMBER,\n",
    "            \"favorite_genres\": DataType.TEXT_ARRAY,\n",
    "            \"favorite_years\": DataType.NUMBER_ARRAY,\n",
    "            \"language\": DataType.TEXT,\n",
    "        },\n",
    "    )"
   ]
  },
  {
   "cell_type": "markdown",
   "id": "d7741843",
   "metadata": {},
   "source": [
    "## Create a persona"
   ]
  },
  {
   "cell_type": "code",
   "execution_count": 3,
   "id": "36a0fc97",
   "metadata": {},
   "outputs": [
    {
     "name": "stdout",
     "output_type": "stream",
     "text": [
      "Creating new persona with ID 3df23b31-0e9d-515b-9aef-ed704641bbe2.\n"
     ]
    }
   ],
   "source": [
    "from weaviate.agents.classes import Persona\n",
    "from weaviate.util import generate_uuid5\n",
    "from uuid import uuid4  # If you want to generate a random UUID\n",
    "\n",
    "persona_id = generate_uuid5(\"sebawita\")  # To generate a deterministic UUID\n",
    "# persona_id = uuid4()  # To generate a random UUID\n",
    "\n",
    "# You can delete a persona if you want to remove it from the system\n",
    "pa.delete_persona(persona_id)\n",
    "\n",
    "if pa.has_persona(persona_id):\n",
    "    print(f\"Persona with ID {persona_id} already exists.\")\n",
    "else:\n",
    "    print(f\"Creating new persona with ID {persona_id}.\")\n",
    "    pa.add_persona(\n",
    "        Persona(\n",
    "            persona_id=persona_id,\n",
    "            properties={\n",
    "                \"age\": 30,\n",
    "                \"favorite_genres\": [\"Sci-Fi\", \"Horror\", \"Mystery\"],\n",
    "                \"favorite_years\": [1999, 1996, 2008, 2019],\n",
    "                \"language\": \"English\",\n",
    "            },\n",
    "        )\n",
    "    )"
   ]
  },
  {
   "cell_type": "code",
   "execution_count": 4,
   "id": "ef88499d",
   "metadata": {},
   "outputs": [
    {
     "data": {
      "text/plain": [
       "Persona(persona_id=UUID('3df23b31-0e9d-515b-9aef-ed704641bbe2'), properties={'age': 30.0, 'language': 'English', 'favorite_genres': ['Sci-Fi', 'Horror', 'Mystery'], 'favorite_years': [1999.0, 1996.0, 2008.0, 2019.0]})"
      ]
     },
     "execution_count": 4,
     "metadata": {},
     "output_type": "execute_result"
    }
   ],
   "source": [
    "pa.get_persona(persona_id)"
   ]
  },
  {
   "cell_type": "markdown",
   "id": "00944fed",
   "metadata": {},
   "source": [
    "## Add interactions\n",
    "\n",
    "This is how the agent learns each persona's preferences. (At least one interaction is required to perform queries.)"
   ]
  },
  {
   "cell_type": "code",
   "execution_count": null,
   "id": "57b31da2",
   "metadata": {},
   "outputs": [
    {
     "name": "stdout",
     "output_type": "stream",
     "text": [
      "Fetched movie 'Avatar' from the collection\n"
     ]
    }
   ],
   "source": [
    "from weaviate.agents.classes import PersonaInteraction\n",
    "from weaviate.collections.classes.filters import Filter\n",
    "from helpers import get_movie_uuid  # Helper to get the UUID of a movie\n",
    "\n",
    "# Need at least one interaction to get recommendations\n",
    "pa.add_interactions(interactions=[\n",
    "    PersonaInteraction(\n",
    "        persona_id=persona_id, item_id=get_movie_uuid(client, \"Avatar\"), weight=0.5\n",
    "    ),\n",
    "])"
   ]
  },
  {
   "cell_type": "markdown",
   "id": "b548bf46",
   "metadata": {},
   "source": [
    "## Queries\n",
    "\n",
    "We can already perform queries.\n",
    "\n",
    "### Basic queries\n",
    "\n",
    "Fast, most basic personalized queries\n",
    "\n",
    "- Uses vectors of interaction history only"
   ]
  },
  {
   "cell_type": "code",
   "execution_count": 6,
   "id": "48a29cbd",
   "metadata": {},
   "outputs": [],
   "source": [
    "response = pa.get_objects(persona_id, limit=50, use_agent_ranking=False)"
   ]
  },
  {
   "cell_type": "code",
   "execution_count": 8,
   "id": "f160f3d5",
   "metadata": {},
   "outputs": [
    {
     "name": "stdout",
     "output_type": "stream",
     "text": [
      "*****0*****\n",
      "Avatar\n",
      "['Action', 'Adventure', 'Fantasy', 'Science Fiction']\n",
      "original rank: 0, personalized rank: None\n",
      "*****1*****\n",
      "Avatar 2\n",
      "['Action', 'Adventure', 'Science Fiction', 'Fantasy']\n",
      "original rank: 1, personalized rank: None\n",
      "*****2*****\n",
      "Avatar: Creating the World of Pandora\n",
      "['Documentary']\n",
      "original rank: 2, personalized rank: None\n",
      "*****3*****\n",
      "The Last Airbender\n",
      "['Action', 'Adventure', 'Fantasy']\n",
      "original rank: 3, personalized rank: None\n",
      "*****4*****\n",
      "The Invincible Iron Man\n",
      "['Action', 'Adventure', 'Animation', 'Fantasy', 'Science Fiction']\n",
      "original rank: 4, personalized rank: None\n"
     ]
    }
   ],
   "source": [
    "from helpers import print_movie_response_details\n",
    "\n",
    "print_movie_response_details(response, 5)"
   ]
  },
  {
   "cell_type": "markdown",
   "id": "f84ba308",
   "metadata": {},
   "source": [
    "### Agent reranking\n",
    "\n",
    "The agent can smartly rerank the results based on the information about the persona, as well as the interactions."
   ]
  },
  {
   "cell_type": "code",
   "execution_count": 9,
   "id": "e0749a04",
   "metadata": {},
   "outputs": [
    {
     "name": "stdout",
     "output_type": "stream",
     "text": [
      "Ranking rationale: We've highlighted movies with genres like Action, Adventure, and Fantasy since they match your interests in Sci-Fi and similar genres. Animated and superhero-like themes were also given priority, echoing your past interactions.\n",
      "*****0*****\n",
      "Avatar\n",
      "['Action', 'Adventure', 'Fantasy', 'Science Fiction']\n",
      "original rank: 0, personalized rank: 0\n",
      "*****1*****\n",
      "Avatar 2\n",
      "['Action', 'Adventure', 'Science Fiction', 'Fantasy']\n",
      "original rank: 1, personalized rank: 1\n",
      "*****2*****\n",
      "Shang-Chi and the Legend of the Ten Rings\n",
      "['Action', 'Adventure', 'Fantasy']\n",
      "original rank: 11, personalized rank: 2\n",
      "*****3*****\n",
      "Raya and the Last Dragon\n",
      "['Family', 'Fantasy', 'Animation', 'Action', 'Adventure']\n",
      "original rank: 8, personalized rank: 3\n",
      "*****4*****\n",
      "Mulan\n",
      "['Adventure', 'Fantasy', 'Drama']\n",
      "original rank: 19, personalized rank: 4\n"
     ]
    }
   ],
   "source": [
    "response = pa.get_objects(persona_id, limit=50, use_agent_ranking=True)\n",
    "\n",
    "print_movie_response_details(response, 5)"
   ]
  },
  {
   "cell_type": "markdown",
   "id": "5d58bcbe",
   "metadata": {},
   "source": [
    "### With Reranker + Instruction\n",
    "\n",
    "- The most complex personalized queries\n",
    "- Uses vectors of interaction history and AI-based reranker\n",
    "- Instructions used to guide the reranker"
   ]
  },
  {
   "cell_type": "code",
   "execution_count": null,
   "id": "dc5b1906",
   "metadata": {},
   "outputs": [
    {
     "name": "stdout",
     "output_type": "stream",
     "text": [
      "Ranking rationale: Since you're interested in family-friendly content with a historical backdrop, we've recommended movies that blend those elements. Historical fantasy movies and those involving well-loved characters are highlighted for a balance of adventure and nostalgia.\n",
      "*****0*****\n",
      "Mulan: Rise of a Warrior\n",
      "['Adventure', 'Drama', 'Action']\n",
      "original rank: 47, personalized rank: 1\n",
      "*****1*****\n",
      "The Pirates: The Last Royal Treasure\n",
      "['Action', 'Adventure', 'Comedy', 'History']\n",
      "original rank: 26, personalized rank: 2\n",
      "*****2*****\n",
      "The Myth\n",
      "['Action', 'Adventure', 'Comedy', 'Drama', 'Fantasy']\n",
      "original rank: 9, personalized rank: 3\n",
      "*****3*****\n",
      "Mulan\n",
      "['Adventure', 'Fantasy', 'Drama']\n",
      "original rank: 19, personalized rank: 4\n",
      "*****4*****\n",
      "Fairy Tail: Dragon Cry\n",
      "['Action', 'Adventure', 'Comedy', 'Fantasy', 'Animation']\n",
      "original rank: 49, personalized rank: 5\n"
     ]
    }
   ],
   "source": [
    "response = pa.get_objects(\n",
    "    persona_id,\n",
    "    limit=50,\n",
    "    use_agent_ranking=True,\n",
    "    instruction=\"I'm looking for something for the whole family, maybe historical.\"\n",
    ")\n",
    "\n",
    "print_movie_response_details(response, 5)"
   ]
  },
  {
   "cell_type": "markdown",
   "id": "1eddbb5e",
   "metadata": {},
   "source": [
    "### Add more interactions\n",
    "\n",
    "Over time, you will add more interactions to the agent, which will help it learn more about the persona's preferences.\n",
    "\n",
    "Note each interaction can be positive or negative. \n",
    "(1: most positive, 0: neutral, -1: most negative)"
   ]
  },
  {
   "cell_type": "code",
   "execution_count": 13,
   "id": "445db975",
   "metadata": {},
   "outputs": [
    {
     "name": "stdout",
     "output_type": "stream",
     "text": [
      "Fetched movie 'How It Ends' from the collection\n",
      "Fetched movie 'Doctor Sleep' from the collection\n",
      "Fetched movie 'The Howling' from the collection\n",
      "Fetched movie 'A Nightmare on Elm Street' from the collection\n",
      "Fetched movie 'High Life' from the collection\n",
      "Fetched movie 'Magic Mike' from the collection\n"
     ]
    }
   ],
   "source": [
    "interactions = [\n",
    "    PersonaInteraction(\n",
    "        persona_id=persona_id, item_id=get_movie_uuid(client, \"How It Ends\"), weight=0.7\n",
    "    ),\n",
    "    PersonaInteraction(\n",
    "        persona_id=persona_id, item_id=get_movie_uuid(client, \"Doctor Sleep\"), weight=0.6\n",
    "    ),\n",
    "    PersonaInteraction(\n",
    "        persona_id=persona_id, item_id=get_movie_uuid(client, \"The Howling\"), weight=0.5\n",
    "    ),\n",
    "    PersonaInteraction(\n",
    "        persona_id=persona_id,\n",
    "        item_id=get_movie_uuid(client, \"A Nightmare on Elm Street\"),\n",
    "        weight=0.9,\n",
    "    ),\n",
    "    PersonaInteraction(\n",
    "        persona_id=persona_id, item_id=get_movie_uuid(client, \"High Life\"), weight=0.75\n",
    "    ),\n",
    "    PersonaInteraction(\n",
    "        persona_id=persona_id, item_id=get_movie_uuid(client, \"Magic Mike\"), weight=-0.9\n",
    "    ),  # negative\n",
    "]\n",
    "\n",
    "pa.add_interactions(interactions=interactions)"
   ]
  },
  {
   "cell_type": "markdown",
   "id": "29cad0ba",
   "metadata": {},
   "source": [
    "### Retry queries"
   ]
  },
  {
   "cell_type": "code",
   "execution_count": 14,
   "id": "8b5ee640",
   "metadata": {},
   "outputs": [
    {
     "name": "stdout",
     "output_type": "stream",
     "text": [
      "*****0*****\n",
      "Son\n",
      "['Horror', 'Thriller']\n",
      "original rank: 0, personalized rank: None\n",
      "*****1*****\n",
      "Avatar\n",
      "['Action', 'Adventure', 'Fantasy', 'Science Fiction']\n",
      "original rank: 1, personalized rank: None\n",
      "*****2*****\n",
      "Slumber\n",
      "['Horror']\n",
      "original rank: 2, personalized rank: None\n",
      "*****3*****\n",
      "Avatar 2\n",
      "['Action', 'Adventure', 'Science Fiction', 'Fantasy']\n",
      "original rank: 3, personalized rank: None\n",
      "*****4*****\n",
      "Come True\n",
      "['Science Fiction', 'Horror']\n",
      "original rank: 4, personalized rank: None\n"
     ]
    }
   ],
   "source": [
    "response = pa.get_objects(persona_id, limit=50, use_agent_ranking=False)\n",
    "\n",
    "print_movie_response_details(response, 5)"
   ]
  },
  {
   "cell_type": "markdown",
   "id": "fbd0b683",
   "metadata": {},
   "source": [
    "### With Reranker + Instruction + Filter\n",
    "\n",
    "- The most complex personalized queries\n",
    "- Uses vectors of interaction history and AI-based reranker\n",
    "- Instructions used to guide the reranker\n",
    "- Filters out items that are not relevant to the user"
   ]
  },
  {
   "cell_type": "code",
   "execution_count": 15,
   "id": "7f4d80b2",
   "metadata": {},
   "outputs": [],
   "source": [
    "# With Reranker + Instruction + Filter\n",
    "response = pa.get_objects(\n",
    "    persona_id,\n",
    "    limit=50,\n",
    "    use_agent_ranking=True,\n",
    "    instruction=\"User's favorite sub genre of horror is slasher and least favorite is space horror\",\n",
    "    filters=Filter.by_property(\"genres\").contains_any([\"Mystery\", \"Horror\"]),\n",
    ")"
   ]
  },
  {
   "cell_type": "code",
   "execution_count": 16,
   "id": "2718a329",
   "metadata": {},
   "outputs": [
    {
     "name": "stdout",
     "output_type": "stream",
     "text": [
      "Ranking rationale: Based on your love for horror, particularly the slasher sub-genre, we've spotlighted films that closely match those interests while minimizing emphasis on space horror.\n",
      "*****0*****\n",
      "Son\n",
      "['Horror', 'Thriller']\n",
      "original rank: 0, personalized rank: 1\n",
      "*****1*****\n",
      "Slumber\n",
      "['Horror']\n",
      "original rank: 2, personalized rank: 0\n",
      "*****2*****\n",
      "Insidious\n",
      "['Horror', 'Thriller']\n",
      "original rank: 40, personalized rank: 2\n",
      "*****3*****\n",
      "Peninsula\n",
      "['Action', 'Horror', 'Thriller']\n",
      "original rank: 13, personalized rank: 3\n",
      "*****4*****\n",
      "Dark Light\n",
      "['Horror', 'Science Fiction', 'Thriller']\n",
      "original rank: 6, personalized rank: 4\n",
      "*****5*****\n",
      "Come True\n",
      "['Science Fiction', 'Horror']\n",
      "original rank: 4, personalized rank: 5\n",
      "*****6*****\n",
      "The Final\n",
      "['Thriller', 'Horror']\n",
      "original rank: 36, personalized rank: 6\n",
      "*****7*****\n",
      "Demonic\n",
      "['Horror', 'Thriller']\n",
      "original rank: 32, personalized rank: 7\n",
      "*****8*****\n",
      "Aftermath\n",
      "['Horror', 'Crime', 'Drama', 'Thriller']\n",
      "original rank: 48, personalized rank: 8\n",
      "*****9*****\n",
      "The Unborn\n",
      "['Horror', 'Thriller', 'Mystery']\n",
      "original rank: 46, personalized rank: 9\n"
     ]
    }
   ],
   "source": [
    "print_movie_response_details(response, 10)"
   ]
  },
  {
   "cell_type": "markdown",
   "id": "fcf9403f",
   "metadata": {},
   "source": [
    "## Compare results \n",
    "\n",
    "What happens if we look at results across different query methods?"
   ]
  },
  {
   "cell_type": "code",
   "execution_count": 17,
   "id": "fcd68b16",
   "metadata": {},
   "outputs": [
    {
     "name": "stdout",
     "output_type": "stream",
     "text": [
      "Rank Personalized Title                      Personalized Genres                     Score   | No Personalization Title                No Personalization Genres               Score  \n",
      "-----------------------------------------------------------------------------------------------------------------------------------------------------------------------------------\n",
      "1    The Final                               Thriller, Horror                        1       | Chucky's Vacation Slides                Comedy, Horror                          1      \n",
      "2    The Fanatic                             Crime, Thriller                         0       | Prom Night                              Horror, Thriller                        1      \n",
      "3    Urban Legend                            Horror, Thriller                        1       | Monster                                 Crime, Drama                            0      \n",
      "4    You're Next                             Horror, Thriller, Mystery               2       | Scream: The Inside Story                Documentary                             0      \n",
      "5    The Perilous Internet Ring              Horror, Thriller                        1       | Terrifier                               Horror, Thriller                        1      \n",
      "6    Ichi the Killer                         Action, Crime, Horror                   1       | The Specialist                          Action, Thriller                        0      \n",
      "7    Saw 3D                                  Horror, Crime                           1       | The Fanatic                             Crime, Thriller                         0      \n",
      "8    Nightmare Alley                         Crime, Drama, Thriller                  0       | The Frighteners                         Horror, Comedy                          1      \n",
      "9    Valentine                               Horror, Thriller                        1       | A Nightmare on Elm Street               Horror, Mystery, Thriller               2      \n",
      "10   A Nightmare on Elm Street               Horror, Mystery, Thriller               2       | Freaky                                  Comedy, Fantasy, Horror, Thriller       1      \n",
      "-----------------------------------------------------------------------------------------------------------------------------------------------------------------------------------\n",
      "Total genre match score (Personalized): 10\n",
      "Total genre match score (No Personalization): 7\n"
     ]
    }
   ],
   "source": [
    "from helpers import compare_genre_match_scores\n",
    "\n",
    "query = pa.query(persona_id=persona_id, strength=0.95)  # fully personalized reranking\n",
    "query2 = pa.query(persona_id=persona_id, strength=0.0)  # no reranking\n",
    "\n",
    "response1 = query.hybrid(\"slasher\", limit=50)\n",
    "response2 = query2.hybrid(\"slasher\", limit=50)\n",
    "\n",
    "compare_genre_match_scores(\n",
    "    [response1, response2],\n",
    "    preferred_genres={\"Science Fiction\", \"Horror\", \"Mystery\"},\n",
    "    top_n=10,\n",
    "    response_labels=[\"Personalized\", \"No Personalization\"],\n",
    ")"
   ]
  },
  {
   "cell_type": "markdown",
   "id": "8edfcac9",
   "metadata": {},
   "source": [
    "We see that the personalized results are much more relevant to the user than the non-personalized results."
   ]
  }
 ],
 "metadata": {
  "kernelspec": {
   "display_name": ".venv",
   "language": "python",
   "name": "python3"
  },
  "language_info": {
   "codemirror_mode": {
    "name": "ipython",
    "version": 3
   },
   "file_extension": ".py",
   "mimetype": "text/x-python",
   "name": "python",
   "nbconvert_exporter": "python",
   "pygments_lexer": "ipython3",
   "version": "3.12.4"
  }
 },
 "nbformat": 4,
 "nbformat_minor": 5
}

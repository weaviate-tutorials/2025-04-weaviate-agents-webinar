{
 "cells": [
  {
   "cell_type": "code",
   "execution_count": 1,
   "id": "0979baeb",
   "metadata": {},
   "outputs": [],
   "source": [
    "import weaviate\n",
    "from weaviate.classes.init import Auth\n",
    "import os\n",
    "from dotenv import load_dotenv\n",
    "\n",
    "weaviate_url = os.getenv(\"WEAVIATE_URL\")\n",
    "weaviate_key = os.getenv(\"WEAVIATE_API_KEY\")\n",
    "load_dotenv()\n",
    "\n",
    "client = weaviate.connect_to_weaviate_cloud(\n",
    "    cluster_url=weaviate_url, auth_credentials=Auth.api_key(weaviate_key)\n",
    ")"
   ]
  },
  {
   "cell_type": "code",
   "execution_count": 2,
   "id": "9f4c0cb1",
   "metadata": {},
   "outputs": [],
   "source": [
    "from weaviate.agents.personalization import PersonalizationAgent\n",
    "from weaviate.classes.config import DataType\n",
    "from helpers import PA_DEMO_COLLECTION\n",
    "\n",
    "if PersonalizationAgent.exists(client, PA_DEMO_COLLECTION):\n",
    "    pa = PersonalizationAgent.connect(client=client, reference_collection=PA_DEMO_COLLECTION)\n",
    "else:\n",
    "    pa = PersonalizationAgent.create(\n",
    "        client=client,\n",
    "        reference_collection=PA_DEMO_COLLECTION,\n",
    "        user_properties={\n",
    "            \"age\": DataType.NUMBER,\n",
    "            \"favorite_genres\": DataType.TEXT_ARRAY,\n",
    "            \"favorite_years\": DataType.NUMBER_ARRAY,\n",
    "            \"language\": DataType.TEXT,\n",
    "        },\n",
    "    )"
   ]
  },
  {
   "cell_type": "code",
   "execution_count": 3,
   "id": "36a0fc97",
   "metadata": {},
   "outputs": [
    {
     "name": "stdout",
     "output_type": "stream",
     "text": [
      "Persona with ID 3df23b31-0e9d-515b-9aef-ed704641bbe2 already exists.\n"
     ]
    }
   ],
   "source": [
    "from weaviate.agents.classes import Persona\n",
    "from weaviate.util import generate_uuid5\n",
    "from uuid import uuid4  # If you want to generate a random UUID\n",
    "\n",
    "persona_id = generate_uuid5(\"sebawita\")  # To generate a deterministic UUID\n",
    "# persona_id = uuid4()  # To generate a random UUID\n",
    "\n",
    "if pa.has_persona(persona_id):\n",
    "    print(f\"Persona with ID {persona_id} already exists.\")\n",
    "else:\n",
    "    print(f\"Creating new persona with ID {persona_id}.\")\n",
    "    pa.add_persona(\n",
    "        Persona(\n",
    "            persona_id=persona_id,\n",
    "            properties={\n",
    "                \"age\": 30,\n",
    "                \"favorite_genres\": [\"Sci-Fi\", \"Horror\", \"Mystery\"],\n",
    "                \"favorite_years\": [1999, 1996, 2008, 2019],\n",
    "                \"language\": \"English\",\n",
    "            },\n",
    "        )\n",
    "    )"
   ]
  },
  {
   "cell_type": "code",
   "execution_count": 5,
   "id": "ef88499d",
   "metadata": {},
   "outputs": [
    {
     "data": {
      "text/plain": [
       "Persona(persona_id=UUID('3df23b31-0e9d-515b-9aef-ed704641bbe2'), properties={'age': 30.0, 'language': 'English', 'favorite_genres': ['Sci-Fi', 'Horror', 'Mystery'], 'favorite_years': [1999.0, 1996.0, 2008.0, 2019.0]})"
      ]
     },
     "execution_count": 5,
     "metadata": {},
     "output_type": "execute_result"
    }
   ],
   "source": [
    "pa.get_persona(persona_id)"
   ]
  },
  {
   "cell_type": "code",
   "execution_count": 6,
   "id": "57b31da2",
   "metadata": {},
   "outputs": [],
   "source": [
    "from weaviate.agents.classes import PersonaInteraction\n",
    "from weaviate.collections.classes.filters import Filter\n",
    "\n",
    "movie_titles = [\n",
    "    \"Avatar\",\n",
    "    \"How It Ends\",\n",
    "    \"Doctor Sleep\",\n",
    "    \"The Howling\",\n",
    "    \"A Nightmare on Elm Street\",\n",
    "    \"The Howling\",\n",
    "    \"High Life\",\n",
    "    \"Magic Mike\",\n",
    "]\n",
    "\n",
    "movies_collection = client.collections.get(PA_DEMO_COLLECTION)\n",
    "\n",
    "movie_dict = {\n",
    "    movie.properties[\"title\"]: movie\n",
    "    for movie in movies_collection.query.fetch_objects(\n",
    "        filters=Filter.by_property(\"title\").contains_any(movie_titles), limit=20\n",
    "    ).objects\n",
    "}\n",
    "\n",
    "interactions = [\n",
    "    PersonaInteraction(\n",
    "        persona_id=persona_id, item_id=movie_dict[\"Avatar\"].uuid, weight=0.5\n",
    "    ),\n",
    "    PersonaInteraction(\n",
    "        persona_id=persona_id, item_id=movie_dict[\"Magic Mike\"].uuid, weight=-0.9\n",
    "    ),  # negative\n",
    "]"
   ]
  },
  {
   "cell_type": "code",
   "execution_count": 7,
   "id": "46d4ada4",
   "metadata": {},
   "outputs": [],
   "source": [
    "pa.add_interactions(interactions=interactions)"
   ]
  },
  {
   "cell_type": "code",
   "execution_count": 8,
   "id": "445db975",
   "metadata": {},
   "outputs": [],
   "source": [
    "interactions = [\n",
    "    PersonaInteraction(\n",
    "        persona_id=persona_id, item_id=movie_dict[\"How It Ends\"].uuid, weight=0.7\n",
    "    ),\n",
    "    PersonaInteraction(\n",
    "        persona_id=persona_id, item_id=movie_dict[\"Doctor Sleep\"].uuid, weight=0.6\n",
    "    ),\n",
    "    PersonaInteraction(\n",
    "        persona_id=persona_id, item_id=movie_dict[\"The Howling\"].uuid, weight=0.5\n",
    "    ),\n",
    "    PersonaInteraction(\n",
    "        persona_id=persona_id,\n",
    "        item_id=movie_dict[\"A Nightmare on Elm Street\"].uuid,\n",
    "        weight=0.9,\n",
    "    ),\n",
    "    PersonaInteraction(\n",
    "        persona_id=persona_id, item_id=movie_dict[\"High Life\"].uuid, weight=0.75\n",
    "    ),\n",
    "]"
   ]
  },
  {
   "cell_type": "code",
   "execution_count": 9,
   "id": "472ce066",
   "metadata": {},
   "outputs": [],
   "source": [
    "pa.add_interactions(interactions=interactions)"
   ]
  },
  {
   "cell_type": "markdown",
   "id": "47a73240",
   "metadata": {},
   "source": [
    "## Personalized Queries\n",
    "\n",
    "### No Agent Reranker\n",
    "\n",
    "Fast, most basic personalized queries\n",
    "\n",
    "- Uses vectors of interaction history only\n"
   ]
  },
  {
   "cell_type": "code",
   "execution_count": 10,
   "id": "8b5ee640",
   "metadata": {},
   "outputs": [],
   "source": [
    "response = pa.get_objects(persona_id, limit=50, use_agent_ranking=False)"
   ]
  },
  {
   "cell_type": "code",
   "execution_count": 11,
   "id": "8ad811eb",
   "metadata": {},
   "outputs": [
    {
     "name": "stdout",
     "output_type": "stream",
     "text": [
      "None\n",
      "*****0*****\n",
      "The Shining\n",
      "Jack Torrance accepts a caretaker job at the Overlook Hotel, where he, along with his wife Wendy and their son Danny, must live isolated from the rest of the world for the winter. But they aren't prepared for the madness that lurks within.\n",
      "['Horror', 'Thriller']\n",
      "1980-05-23\n",
      "vote_average: 8.2\n",
      "vote_count: 14120\n",
      "popularity: 57.144\n",
      "original rank: 0, personalized rank: None\n",
      "*****1*****\n",
      "A-X-L\n",
      "The life of a teenage boy is forever altered by a chance encounter with cutting edge military technology.\n",
      "['Science Fiction', 'Action', 'Adventure', 'Family']\n",
      "2018-08-23\n",
      "vote_average: 6.3\n",
      "vote_count: 988\n",
      "popularity: 33.44\n",
      "original rank: 1, personalized rank: None\n",
      "*****2*****\n",
      "Slumber\n",
      "A sleep doctor tries to protect a family from a demon that feeds on people in their nightmares.\n",
      "['Horror']\n",
      "2017-12-01\n",
      "vote_average: 5.3\n",
      "vote_count: 286\n",
      "popularity: 17.364\n",
      "original rank: 2, personalized rank: None\n",
      "*****3*****\n",
      "The Shadow Effect\n",
      "A young man's life is turned upside down when his violent dreams begin to blend with reality.\n",
      "['Science Fiction', 'Action', 'Thriller']\n",
      "2017-05-02\n",
      "vote_average: 5.0\n",
      "vote_count: 110\n",
      "popularity: 14.87\n",
      "original rank: 3, personalized rank: None\n",
      "*****4*****\n",
      "Come True\n",
      "Looking for an escape from her recurring nightmares, 18-year-old Sarah submits to a university sleep study, but soon realizes she's become the conduit to a frightening new discovery.\n",
      "['Science Fiction', 'Horror']\n",
      "2020-09-24\n",
      "vote_average: 6.1\n",
      "vote_count: 140\n",
      "popularity: 27.968\n",
      "original rank: 4, personalized rank: None\n"
     ]
    }
   ],
   "source": [
    "from helpers import print_movie_response_details\n",
    "\n",
    "print_movie_response_details(response, 5)"
   ]
  },
  {
   "cell_type": "markdown",
   "id": "fbd0b683",
   "metadata": {},
   "source": [
    "### With Reranker + Instruction + Filter\n",
    "\n",
    "- The most complex personalized queries\n",
    "- Uses vectors of interaction history and AI-based reranker\n",
    "- Instructions used to guide the reranker\n",
    "- Filters out items that are not relevant to the user\n"
   ]
  },
  {
   "cell_type": "code",
   "execution_count": 14,
   "id": "7f4d80b2",
   "metadata": {},
   "outputs": [],
   "source": [
    "# With Reranker + Instruction + Filter\n",
    "response = pa.get_objects(\n",
    "    persona_id,\n",
    "    limit=50,\n",
    "    use_agent_ranking=True,\n",
    "    instruction=\"Users favorite sub genre of horror is slasher and least favorite is space horror\",\n",
    "    filters=Filter.by_property(\"genres\").contains_any([\"Mystery\", \"Horror\"]),\n",
    ")"
   ]
  },
  {
   "cell_type": "code",
   "execution_count": 15,
   "id": "2718a329",
   "metadata": {},
   "outputs": [
    {
     "name": "stdout",
     "output_type": "stream",
     "text": [
      "Since you enjoy Horror, particularly slasher films, and have a preference for recent releases, we've highlighted movies that align with these interests. We've emphasized films with strong horror elements and avoided those with space horror themes, reflecting your preferences.\n",
      "*****0*****\n",
      "The Shining\n",
      "Jack Torrance accepts a caretaker job at the Overlook Hotel, where he, along with his wife Wendy and their son Danny, must live isolated from the rest of the world for the winter. But they aren't prepared for the madness that lurks within.\n",
      "['Horror', 'Thriller']\n",
      "1980-05-23\n",
      "vote_average: 8.2\n",
      "vote_count: 14120\n",
      "popularity: 57.144\n",
      "original rank: 0, personalized rank: 0\n",
      "*****1*****\n",
      "Insidious\n",
      "A family discovers that dark spirits have invaded their home after their son inexplicably falls into an endless sleep. When they reach out to a professional for help, they learn things are a lot more personal than they thought.\n",
      "['Horror', 'Thriller']\n",
      "2010-09-13\n",
      "vote_average: 6.9\n",
      "vote_count: 5385\n",
      "popularity: 63.506\n",
      "original rank: 6, personalized rank: 1\n",
      "*****2*****\n",
      "Dark Light\n",
      "A woman returns to her family home and discovers it to be inhabited by monsters.\n",
      "['Horror', 'Science Fiction', 'Thriller']\n",
      "2019-08-25\n",
      "vote_average: 6.1\n",
      "vote_count: 92\n",
      "popularity: 13.529\n",
      "original rank: 1, personalized rank: 2\n",
      "*****3*****\n",
      "The Silence\n",
      "With the world under attack by deadly creatures who hunt by sound, a teen and her family seek refuge outside the city and encounter a mysterious cult.\n",
      "['Horror', 'Drama', 'Thriller', 'Fantasy']\n",
      "2019-05-16\n",
      "vote_average: 6.0\n",
      "vote_count: 1171\n",
      "popularity: 22.929\n",
      "original rank: 3, personalized rank: 3\n",
      "*****4*****\n",
      "Slumber\n",
      "A sleep doctor tries to protect a family from a demon that feeds on people in their nightmares.\n",
      "['Horror']\n",
      "2017-12-01\n",
      "vote_average: 5.3\n",
      "vote_count: 286\n",
      "popularity: 17.364\n",
      "original rank: 2, personalized rank: 4\n",
      "*****5*****\n",
      "The Babadook\n",
      "A single mother, plagued by the violent death of her husband, battles with her son's fear of a monster lurking in the house, but soon discovers a sinister presence all around her.\n",
      "['Drama', 'Horror']\n",
      "2014-05-22\n",
      "vote_average: 6.5\n",
      "vote_count: 5009\n",
      "popularity: 34.512\n",
      "original rank: 17, personalized rank: 5\n",
      "*****6*****\n",
      "Son\n",
      "When a young boy contracts a mysterious illness, his mother must decide how far she will go to protect him from terrifying forces in her past.\n",
      "['Horror', 'Thriller']\n",
      "2021-08-06\n",
      "vote_average: 6.0\n",
      "vote_count: 90\n",
      "popularity: 232.494\n",
      "original rank: 7, personalized rank: 6\n",
      "*****7*****\n",
      "After.Life\n",
      "Following a terrible car crash, a woman awakes to find an enigmatic mortician preparing her for burial.\n",
      "['Drama', 'Horror', 'Mystery', 'Thriller']\n",
      "2009-11-07\n",
      "vote_average: 6.2\n",
      "vote_count: 853\n",
      "popularity: 28.708\n",
      "original rank: 9, personalized rank: 7\n",
      "*****8*****\n",
      "Before I Wake\n",
      "An orphaned child's dreams—and nightmares—manifest physically as he sleeps.\n",
      "['Drama', 'Fantasy', 'Horror', 'Thriller']\n",
      "2016-04-07\n",
      "vote_average: 6.4\n",
      "vote_count: 1450\n",
      "popularity: 22.451\n",
      "original rank: 8, personalized rank: 8\n",
      "*****9*****\n",
      "Discarnate\n",
      "A neuroscientist's obsession with a drug that expands the human mind inadvertently unleashes a deadly supernatural force on his team.\n",
      "['Horror', 'Thriller']\n",
      "2019-02-20\n",
      "vote_average: 5.5\n",
      "vote_count: 74\n",
      "popularity: 29.864\n",
      "original rank: 12, personalized rank: 9\n"
     ]
    }
   ],
   "source": [
    "print_movie_response_details(response, 10)"
   ]
  },
  {
   "cell_type": "markdown",
   "id": "fcf9403f",
   "metadata": {},
   "source": [
    "## Compare results \n",
    "\n",
    "What happens if we look at results across different query methods?"
   ]
  },
  {
   "cell_type": "code",
   "execution_count": 18,
   "id": "fcd68b16",
   "metadata": {},
   "outputs": [
    {
     "name": "stdout",
     "output_type": "stream",
     "text": [
      "Rank Personalized Title                      Personalized Genres                     Score   | No Personalization Title                No Personalization Genres               Score  \n",
      "-----------------------------------------------------------------------------------------------------------------------------------------------------------------------------------\n",
      "1    The Final                               Thriller, Horror                        1       | Chucky's Vacation Slides                Comedy, Horror                          1      \n",
      "2    Scream                                  Horror, Mystery, Thriller               2       | Prom Night                              Horror, Thriller                        1      \n",
      "3    Urban Legend                            Horror, Thriller                        1       | Monster                                 Crime, Drama                            0      \n",
      "4    You're Next                             Horror, Thriller, Mystery               2       | Terrifier                               Horror, Thriller                        1      \n",
      "5    Nobody Sleeps in the Woods Tonight 2    Horror, Thriller, Comedy                1       | The Fanatic                             Crime, Thriller                         0      \n",
      "6    Terrifier                               Horror, Thriller                        1       | The Frighteners                         Horror, Comedy                          1      \n",
      "7    The Town that Dreaded Sundown           Thriller, Horror                        1       | A Nightmare on Elm Street               Horror, Mystery, Thriller               2      \n",
      "8    Saw 3D                                  Horror, Crime                           1       | Freaky                                  Comedy, Fantasy, Horror, Thriller       1      \n",
      "9    For the Sake of Vicious                 Action, Horror, Mystery                 2       | Scream: The Inside Story                Documentary                             0      \n",
      "10   The Perilous Internet Ring              Horror, Thriller                        1       | Halloween                               Horror, Thriller                        1      \n",
      "-----------------------------------------------------------------------------------------------------------------------------------------------------------------------------------\n",
      "Total genre match score (Personalized): 13\n",
      "Total genre match score (No Personalization): 8\n"
     ]
    }
   ],
   "source": [
    "from helpers import compare_genre_match_scores\n",
    "\n",
    "query = pa.query(persona_id=persona_id, strength=0.95)  # fully personalized reranking\n",
    "query2 = pa.query(persona_id=persona_id, strength=0.0)  # no reranking\n",
    "\n",
    "response1 = query.hybrid(\"slasher\", limit=50)\n",
    "response2 = query2.hybrid(\"slasher\", limit=50)\n",
    "\n",
    "compare_genre_match_scores(\n",
    "    [response1, response2],\n",
    "    preferred_genres={\"Science Fiction\", \"Horror\", \"Mystery\"},\n",
    "    top_n=10,\n",
    "    response_labels=[\"Personalized\", \"No Personalization\"],\n",
    ")"
   ]
  },
  {
   "cell_type": "markdown",
   "id": "8edfcac9",
   "metadata": {},
   "source": [
    "We see that the personalized results are much more relevant to the user than the non-personalized results."
   ]
  }
 ],
 "metadata": {
  "kernelspec": {
   "display_name": ".venv",
   "language": "python",
   "name": "python3"
  },
  "language_info": {
   "codemirror_mode": {
    "name": "ipython",
    "version": 3
   },
   "file_extension": ".py",
   "mimetype": "text/x-python",
   "name": "python",
   "nbconvert_exporter": "python",
   "pygments_lexer": "ipython3",
   "version": "3.12.4"
  }
 },
 "nbformat": 4,
 "nbformat_minor": 5
}
